{
 "cells": [
  {
   "cell_type": "code",
   "execution_count": 1,
   "metadata": {},
   "outputs": [],
   "source": [
    "import pickle\n",
    "with open(\"data_extract/ontology_path.pickle\",'rb') as f:\n",
    "    ontology = pickle.load(f)"
   ]
  },
  {
   "cell_type": "code",
   "execution_count": 2,
   "metadata": {},
   "outputs": [],
   "source": [
    "ontology_d = dict()\n",
    "for d in ontology:\n",
    "    ontology_d[d[\"id\"]]=d"
   ]
  },
  {
   "cell_type": "code",
   "execution_count": 3,
   "metadata": {},
   "outputs": [
    {
     "data": {
      "text/plain": [
       "{'id': 'Q1031335',\n",
       " 'en_name': 'Ardeinae',\n",
       " 'ja_name': 'サギ亜科',\n",
       " 'en_aliases': '',\n",
       " 'ja_aliases': '',\n",
       " 'img_urls': 'https://www.wikidata.org/wiki/Q1031335#/media/File:Heron%20-%20natures%20pics.jpg',\n",
       " 'taxon_name': 'Ardeinae',\n",
       " 'taxon_rank': 'Q164280',\n",
       " 'taxon_rank_name': 'subfamily',\n",
       " 'taxon_rank_ja_name': '亜科',\n",
       " 'parent_taxon': 'Q18789',\n",
       " 'parent_taxon_name': 'Ardeidae',\n",
       " 'parent_taxon_ja_name': 'サギ科',\n",
       " 'path': 'Q18789/Q1031335',\n",
       " 'ja_path_name': 'サギ科/サギ亜科',\n",
       " 'en_path_name': 'Ardeidae/Ardeinae',\n",
       " 'path_taxon_rank_name': 'family/subfamily'}"
      ]
     },
     "execution_count": 3,
     "metadata": {},
     "output_type": "execute_result"
    }
   ],
   "source": [
    "ontology_d[\"Q1031335\"]"
   ]
  },
  {
   "cell_type": "code",
   "execution_count": 4,
   "metadata": {},
   "outputs": [
    {
     "data": {
      "text/plain": [
       "{'id': 'Q133003',\n",
       " 'en_name': 'Nycticorax',\n",
       " 'ja_name': '',\n",
       " 'en_aliases': '',\n",
       " 'ja_aliases': '',\n",
       " 'img_urls': 'https://www.wikidata.org/wiki/Q133003#/media/File:Nycticorax-nycticorax-004.jpg',\n",
       " 'taxon_name': 'Nycticorax',\n",
       " 'taxon_rank': 'Q34740',\n",
       " 'taxon_rank_name': 'genus',\n",
       " 'taxon_rank_ja_name': '属',\n",
       " 'parent_taxon': 'Q1031335',\n",
       " 'parent_taxon_name': 'Ardeinae',\n",
       " 'parent_taxon_ja_name': 'サギ亜科',\n",
       " 'path': 'Q18789/Q1031335/Q133003',\n",
       " 'ja_path_name': 'サギ科/サギ亜科/Nycticorax',\n",
       " 'en_path_name': 'Ardeidae/Ardeinae/Nycticorax',\n",
       " 'path_taxon_rank_name': 'family/subfamily/genus'}"
      ]
     },
     "execution_count": 4,
     "metadata": {},
     "output_type": "execute_result"
    }
   ],
   "source": [
    "ontology_d[\"Q133003\"]"
   ]
  },
  {
   "cell_type": "code",
   "execution_count": 5,
   "metadata": {},
   "outputs": [
    {
     "data": {
      "text/plain": [
       "{'id': 'Q126216',\n",
       " 'en_name': 'Black-crowned Night Heron',\n",
       " 'ja_name': 'ゴイサギ',\n",
       " 'en_aliases': 'Nycticorax nycticorax,black-crowned night-heron',\n",
       " 'ja_aliases': '',\n",
       " 'img_urls': 'https://www.wikidata.org/wiki/Q126216#/media/File:Toulouse%20-%20Héron%20Bihoreau%20-%202012-03-07.jpg https://www.wikidata.org/wiki/Q126216#/media/File:Nycticorax%20nycticorax%20-%20Black-crowned%20Night%20Heron%2002.jpg https://www.wikidata.org/wiki/Q126216#/media/File:Bihoreau%20Gris.jpg',\n",
       " 'taxon_name': 'Nycticorax nycticorax',\n",
       " 'taxon_rank': 'Q7432',\n",
       " 'taxon_rank_name': 'species',\n",
       " 'taxon_rank_ja_name': '種',\n",
       " 'parent_taxon': 'Q133003',\n",
       " 'parent_taxon_name': 'Nycticorax',\n",
       " 'parent_taxon_ja_name': '',\n",
       " 'path': 'Q133003/Q126216',\n",
       " 'ja_path_name': 'Nycticorax/ゴイサギ',\n",
       " 'en_path_name': 'Nycticorax/Black-crowned Night Heron',\n",
       " 'path_taxon_rank_name': 'genus/species'}"
      ]
     },
     "execution_count": 5,
     "metadata": {},
     "output_type": "execute_result"
    }
   ],
   "source": [
    "ontology_d[\"Q126216\"]"
   ]
  },
  {
   "cell_type": "code",
   "execution_count": null,
   "metadata": {},
   "outputs": [],
   "source": [
    "# non_data = []\n",
    "# for d in data:\n",
    "#     try:\n",
    "#         d[\"taxon_rank_name\"] = ID_d[d[\"taxon_rank\"]]\n",
    "#         d[\"taxon_rank_ja_name\"] = ID_d_ja[d[\"taxon_rank\"]]\n",
    "\n",
    "#         d[\"parent_taxon_name\"] = ID_d[d[\"parent_taxon\"]]\n",
    "#         d[\"parent_taxon_ja_name\"] = ID_d_ja[d[\"parent_taxon\"]]\n",
    "\n",
    "\n",
    "#         s = \"\"\n",
    "#         for k,v in d[\"en_aliases\"].items():\n",
    "#             if s == \"\":\n",
    "#                 s = s + v\n",
    "#             else:\n",
    "#                 s = s + \",\" +v\n",
    "#         d[\"en_aliases\"] = s\n",
    "\n",
    "#         s = \"\"\n",
    "#         for k,v in d[\"ja_aliases\"].items():\n",
    "#             if s == \"\":\n",
    "#                 s = s + v\n",
    "#             else:\n",
    "#                 s = s + \",\" +v\n",
    "#         d[\"ja_aliases\"] = s\n",
    "\n",
    "#         s = \"\"\n",
    "#         for k,v in d[\"img_urls\"].items():\n",
    "#             if s == \"\":\n",
    "#                 s = s + v\n",
    "#             else:\n",
    "#                 s = s + \" \" +v\n",
    "#         d[\"img_urls\"] = s\n",
    "#     except:\n",
    "#         non_data.append(d[\"taxon_rank\"])"
   ]
  }
 ],
 "metadata": {
  "kernelspec": {
   "display_name": "Python 3",
   "language": "python",
   "name": "python3"
  },
  "language_info": {
   "codemirror_mode": {
    "name": "ipython",
    "version": 3
   },
   "file_extension": ".py",
   "mimetype": "text/x-python",
   "name": "python",
   "nbconvert_exporter": "python",
   "pygments_lexer": "ipython3",
   "version": "3.9.0"
  }
 },
 "nbformat": 4,
 "nbformat_minor": 4
}
