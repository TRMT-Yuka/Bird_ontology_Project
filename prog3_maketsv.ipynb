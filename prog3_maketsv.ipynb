{
 "cells": [
  {
   "cell_type": "code",
   "execution_count": 59,
   "metadata": {},
   "outputs": [],
   "source": [
    "import pickle\n",
    "        \n",
    "with open(\"data_extract/data_json_1.pickle\",\"rb\") as f:\n",
    "    data_1 = pickle.load(f)\n",
    "\n",
    "with open(\"data_extract/data_json_2.pickle\",\"rb\") as f:\n",
    "    data_2 = pickle.load(f)\n",
    "\n",
    "with open(\"data_extract/data_json_3.pickle\",\"rb\") as f:\n",
    "    data_3 = pickle.load(f)\n",
    "\n",
    "with open(\"data_extract/data_json_4.pickle\",\"rb\") as f:\n",
    "    data_4 = pickle.load(f)\n",
    "\n",
    "with open(\"data_extract/data_json_5.pickle\",\"rb\") as f:\n",
    "    data_5 = pickle.load(f)\n",
    "\n",
    "with open(\"data_extract/data_json_6.pickle\",\"rb\") as f:\n",
    "    data_6 = pickle.load(f)\n",
    "\n",
    "with open(\"data_extract/data_json_7.pickle\",\"rb\") as f:\n",
    "    data_7 = pickle.load(f)\n",
    "\n",
    "with open(\"data_extract/data_json_8.pickle\",\"rb\") as f:\n",
    "    data_8 = pickle.load(f)\n",
    "\n",
    "data = data_1 + data_2 + data_3 + data_4 + data_5 + data_6 + data_7 + data_8#35737"
   ]
  },
  {
   "cell_type": "code",
   "execution_count": 60,
   "metadata": {},
   "outputs": [],
   "source": [
    "data_d = {}\n",
    "for d in data:\n",
    "    data_d[d[\"id\"]]=d"
   ]
  },
  {
   "cell_type": "code",
   "execution_count": 62,
   "metadata": {},
   "outputs": [],
   "source": [
    "ID_list = []\n",
    "for v in data:\n",
    "    ID_list.append(v[\"taxon_rank\"])\n",
    "    ID_list.append(v[\"parent_taxon\"])\n",
    "ID_set = set(ID_list)"
   ]
  },
  {
   "cell_type": "code",
   "execution_count": 63,
   "metadata": {},
   "outputs": [],
   "source": [
    "ID_d = dict()\n",
    "nodata_set = set()\n",
    "for k in ID_set:\n",
    "    if k in data_d:\n",
    "        ID_d[k] = data_d[k][\"en_name\"]\n",
    "    else:\n",
    "        nodata_set.add(k)"
   ]
  },
  {
   "cell_type": "code",
   "execution_count": 64,
   "metadata": {},
   "outputs": [],
   "source": [
    "ID_d_ja = dict()\n",
    "nodata_set_ja = set()\n",
    "for k in ID_set:\n",
    "    if k in data_d:\n",
    "        ID_d_ja[k] = data_d[k][\"ja_name\"]\n",
    "    else:\n",
    "        nodata_set_ja.add(k)"
   ]
  },
  {
   "cell_type": "code",
   "execution_count": 67,
   "metadata": {},
   "outputs": [],
   "source": [
    "# 手動で修正\n",
    "\n",
    "# for k in nodata_set:\n",
    "#     if k == None:\n",
    "#         pass\n",
    "#     print(k)\n",
    "#     print(k)\n",
    "#     print(\"en_name=\")\n",
    "#     ID_d[k]  = input()\n",
    "#     print(\"ja_name\")\n",
    "#     ID_d_ja[k] = input()"
   ]
  },
  {
   "cell_type": "code",
   "execution_count": 71,
   "metadata": {},
   "outputs": [],
   "source": [
    "for d in data:\n",
    "    d[\"taxon_rank_name\"] = ID_d[d[\"taxon_rank\"]]\n",
    "    d[\"taxon_rank_ja_name\"] = ID_d_ja[d[\"taxon_rank\"]]\n",
    "    \n",
    "    d[\"parent_taxon_name\"] = ID_d[d[\"parent_taxon\"]]\n",
    "    d[\"parent_taxon_ja_name\"] = ID_d_ja[d[\"parent_taxon\"]]\n",
    "    \n",
    "    \n",
    "    s = \"\"\n",
    "    for k,v in d[\"en_aliases\"].items():\n",
    "        if s == \"\":\n",
    "            s = s + v\n",
    "        else:\n",
    "            s = s + \",\" +v\n",
    "    d[\"en_aliases\"] = s\n",
    "    \n",
    "    s = \"\"\n",
    "    for k,v in d[\"ja_aliases\"].items():\n",
    "        if s == \"\":\n",
    "            s = s + v\n",
    "        else:\n",
    "            s = s + \",\" +v\n",
    "    d[\"ja_aliases\"] = s\n",
    "    \n",
    "    s = \"\"\n",
    "    for k,v in d[\"img_urls\"].items():\n",
    "        if s == \"\":\n",
    "            s = s + v\n",
    "        else:\n",
    "            s = s + \" \" +v\n",
    "    d[\"img_urls\"] = s"
   ]
  },
  {
   "cell_type": "code",
   "execution_count": 80,
   "metadata": {},
   "outputs": [],
   "source": [
    "filedname_list = ['id','en_name','ja_name','en_aliases','ja_aliases','img_urls','taxon_name','taxon_rank','taxon_rank_name','taxon_rank_ja_name','parent_taxon','parent_taxon_name','parent_taxon_ja_name']"
   ]
  },
  {
   "cell_type": "code",
   "execution_count": 81,
   "metadata": {},
   "outputs": [],
   "source": [
    "import csv\n",
    "\n",
    "with open('data_extract/ontology.tsv','w',encoding='utf-8') as csvfile:\n",
    "    writer = csv.DictWriter(csvfile, fieldnames = filedname_list,delimiter = \"\\t\")\n",
    "    writer.writeheader()\n",
    "    writer.writerows(data)"
   ]
  },
  {
   "cell_type": "code",
   "execution_count": 84,
   "metadata": {},
   "outputs": [],
   "source": [
    "# data\n",
    "import pickle\n",
    "\n",
    "with open(\"data_extract/ontology.pickle\", 'wb') as f:\n",
    "    pickle.dump(data,f)"
   ]
  },
  {
   "cell_type": "code",
   "execution_count": 86,
   "metadata": {},
   "outputs": [
    {
     "data": {
      "text/plain": [
       "{'id': 'Q1001586',\n",
       " 'en_name': \"Finsch's Francolin\",\n",
       " 'ja_name': 'チャバネシャコ',\n",
       " 'en_aliases': 'Francolinus finschi,Scleroptila finschi',\n",
       " 'ja_aliases': '',\n",
       " 'img_urls': '',\n",
       " 'taxon_rank': 'Q7432',\n",
       " 'taxon_name': 'Scleroptila finschi',\n",
       " 'parent_taxon': 'Q1286431',\n",
       " 'taxon_rank_name': 'species',\n",
       " 'taxon_rank_ja_name': '種',\n",
       " 'parent_taxon_name': 'Scleroptila',\n",
       " 'parent_taxon_ja_name': None}"
      ]
     },
     "execution_count": 86,
     "metadata": {},
     "output_type": "execute_result"
    }
   ],
   "source": [
    "data[0]"
   ]
  },
  {
   "cell_type": "code",
   "execution_count": null,
   "metadata": {},
   "outputs": [],
   "source": []
  }
 ],
 "metadata": {
  "kernelspec": {
   "display_name": "Python 3",
   "language": "python",
   "name": "python3"
  },
  "language_info": {
   "codemirror_mode": {
    "name": "ipython",
    "version": 3
   },
   "file_extension": ".py",
   "mimetype": "text/x-python",
   "name": "python",
   "nbconvert_exporter": "python",
   "pygments_lexer": "ipython3",
   "version": "3.9.0"
  }
 },
 "nbformat": 4,
 "nbformat_minor": 4
}
