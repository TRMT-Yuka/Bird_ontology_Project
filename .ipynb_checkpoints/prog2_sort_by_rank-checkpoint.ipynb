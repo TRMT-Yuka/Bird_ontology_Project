{
 "cells": [
  {
   "cell_type": "code",
   "execution_count": 12,
   "metadata": {},
   "outputs": [],
   "source": [
    "import pickle\n",
    "        \n",
    "with open(\"data_extract/data_json_1.pickle\",\"rb\") as f:\n",
    "    data_1 = pickle.load(f)"
   ]
  },
  {
   "cell_type": "code",
   "execution_count": 16,
   "metadata": {},
   "outputs": [],
   "source": [
    "with open(\"data_extract/data_json_2.pickle\",\"rb\") as f:\n",
    "    data_2 = pickle.load(f)"
   ]
  },
  {
   "cell_type": "code",
   "execution_count": 17,
   "metadata": {},
   "outputs": [],
   "source": [
    "with open(\"data_extract/data_json_3.pickle\",\"rb\") as f:\n",
    "    data_3 = pickle.load(f)"
   ]
  },
  {
   "cell_type": "code",
   "execution_count": 18,
   "metadata": {},
   "outputs": [],
   "source": [
    "with open(\"data_extract/data_json_4.pickle\",\"rb\") as f:\n",
    "    data_4 = pickle.load(f)"
   ]
  },
  {
   "cell_type": "code",
   "execution_count": 19,
   "metadata": {},
   "outputs": [],
   "source": [
    "with open(\"data_extract/data_json_5.pickle\",\"rb\") as f:\n",
    "    data_5 = pickle.load(f)"
   ]
  },
  {
   "cell_type": "code",
   "execution_count": 20,
   "metadata": {},
   "outputs": [],
   "source": [
    "with open(\"data_extract/data_json_6.pickle\",\"rb\") as f:\n",
    "    data_6 = pickle.load(f)"
   ]
  },
  {
   "cell_type": "code",
   "execution_count": 21,
   "metadata": {},
   "outputs": [],
   "source": [
    "data = data_1 + data_2 + data_3 + data_4 + data_5 + data_6"
   ]
  },
  {
   "cell_type": "code",
   "execution_count": 22,
   "metadata": {},
   "outputs": [],
   "source": [
    "taxon_rank_set = set()\n",
    "for d in data:\n",
    "    taxon_rank_set.add(d[\"taxon_rank\"])"
   ]
  },
  {
   "cell_type": "code",
   "execution_count": 23,
   "metadata": {},
   "outputs": [
    {
     "data": {
      "text/plain": [
       "{'',\n",
       " 'Q164280',\n",
       " 'Q2007442',\n",
       " 'Q2136103',\n",
       " 'Q227936',\n",
       " 'Q279749',\n",
       " 'Q2889003',\n",
       " 'Q3238261',\n",
       " 'Q34740',\n",
       " 'Q35409',\n",
       " 'Q36602',\n",
       " 'Q5867051',\n",
       " 'Q5867959',\n",
       " 'Q5868144',\n",
       " 'Q6311258',\n",
       " 'Q68947',\n",
       " 'Q7432'}"
      ]
     },
     "execution_count": 23,
     "metadata": {},
     "output_type": "execute_result"
    }
   ],
   "source": [
    "taxon_rank_set"
   ]
  },
  {
   "cell_type": "code",
   "execution_count": null,
   "metadata": {},
   "outputs": [],
   "source": [
    "#   '',\n",
    "#  'Q164280',subfamily 亜種 科の下位の分類階級\n",
    "#  'Q2007442',infraclass 下綱\n",
    "#  'Q2136103',superfamily 上科\n",
    "#  'Q227936',tribe　属\n",
    "#  'Q279749',form　品種　種より下位の分類階級の一つ\n",
    "#  'Q3238261',subgenus　亜属　属の下位に位置する分類階級\n",
    "#  'Q34740',genus　属　分類階級\n",
    "#  'Q35409',family　科　also known as 上科\n",
    "#  'Q36602',order 目　生物分類における階級\n",
    "#  'Q5867051',subclass 亜綱\n",
    "#  'Q5867959',suborder 亜目\n",
    "#  'Q5868144',superorder　上目\n",
    "#  'Q6311258',parvorder　小目\n",
    "#  'Q68947',subspecies　亜種\n",
    "#  'Q7432'species　種　生物分類の基本単位"
   ]
  },
  {
   "cell_type": "code",
   "execution_count": null,
   "metadata": {},
   "outputs": [],
   "source": [
    "# 網＞目＞科＞属＞種"
   ]
  },
  {
   "cell_type": "code",
   "execution_count": null,
   "metadata": {},
   "outputs": [],
   "source": [
    "# 巨目（Magnorder）\t\n",
    "# 上目（Superorder）\t\n",
    "# 大目（Grandorder）\t\n",
    "# 中目（Mirorder）\t\n",
    "# 目（Order）\t\n",
    "# 亜目（Suborder）\n",
    "# 下目（Infraorder）\n",
    "# 小目（Parvorder）"
   ]
  }
 ],
 "metadata": {
  "kernelspec": {
   "display_name": "Python 3",
   "language": "python",
   "name": "python3"
  },
  "language_info": {
   "codemirror_mode": {
    "name": "ipython",
    "version": 3
   },
   "file_extension": ".py",
   "mimetype": "text/x-python",
   "name": "python",
   "nbconvert_exporter": "python",
   "pygments_lexer": "ipython3",
   "version": "3.9.0"
  }
 },
 "nbformat": 4,
 "nbformat_minor": 4
}
