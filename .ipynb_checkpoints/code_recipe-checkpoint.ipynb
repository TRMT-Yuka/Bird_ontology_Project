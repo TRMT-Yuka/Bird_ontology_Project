{
 "cells": [
  {
   "cell_type": "code",
   "execution_count": 2,
   "metadata": {
    "colab": {
     "base_uri": "https://localhost:8080/"
    },
    "executionInfo": {
     "elapsed": 7710,
     "status": "ok",
     "timestamp": 1637389375650,
     "user": {
      "displayName": "Y trmt",
      "photoUrl": "https://lh3.googleusercontent.com/a-/AOh14GgDQvHXLMLM4izDdj4TwI9Yh1z_2PwieV4cnzJESA=s64",
      "userId": "18315248992010109137"
     },
     "user_tz": -540
    },
    "id": "SdrKCQ5mdrYn",
    "outputId": "b15522a9-4073-4001-9acc-cd135cc724cf"
   },
   "outputs": [],
   "source": [
    "# !pip install bioc"
   ]
  },
  {
   "cell_type": "code",
   "execution_count": 1,
   "metadata": {
    "colab": {
     "base_uri": "https://localhost:8080/"
    },
    "executionInfo": {
     "elapsed": 69708,
     "status": "ok",
     "timestamp": 1637389083710,
     "user": {
      "displayName": "Y trmt",
      "photoUrl": "https://lh3.googleusercontent.com/a-/AOh14GgDQvHXLMLM4izDdj4TwI9Yh1z_2PwieV4cnzJESA=s64",
      "userId": "18315248992010109137"
     },
     "user_tz": -540
    },
    "id": "d4jy_S20cbD3",
    "outputId": "4c2b0df8-cda7-4435-9e24-39bb076e1580"
   },
   "outputs": [
    {
     "name": "stdout",
     "output_type": "stream",
     "text": [
      "Mounted at /content/drive\n",
      "/content/drive\n",
      "/content/drive/My Drive\n",
      "/content/drive/My Drive/Colab Notebooks\n",
      "/content/drive/My Drive/Colab Notebooks/Dr.Kojima_JOB\n"
     ]
    }
   ],
   "source": [
    "# from google.colab import drive\n",
    "# drive.mount('/content/drive')\n",
    "# %cd drive\n",
    "# %cd \"My Drive\"\n",
    "# %cd \"Colab Notebooks\""
   ]
  },
  {
   "cell_type": "code",
   "execution_count": null,
   "metadata": {},
   "outputs": [],
   "source": [
    "for key, value in OBJECT_NAME.__dict__.items():\n",
    "    print(key, ':',type(value))"
   ]
  },
  {
   "cell_type": "code",
   "execution_count": 1,
   "metadata": {
    "colab": {
     "base_uri": "https://localhost:8080/"
    },
    "executionInfo": {
     "elapsed": 328,
     "status": "ok",
     "timestamp": 1636959376885,
     "user": {
      "displayName": "Y trmt",
      "photoUrl": "https://lh3.googleusercontent.com/a-/AOh14GgDQvHXLMLM4izDdj4TwI9Yh1z_2PwieV4cnzJESA=s64",
      "userId": "18315248992010109137"
     },
     "user_tz": -540
    },
    "id": "fY2MF3duYTfn",
    "outputId": "d70231ab-dc58-4fd6-cbb4-8c8e33e5fe05"
   },
   "outputs": [],
   "source": [
    "type(OBJECT_NAME[0].__dict__[\"passages\"][0])"
   ]
  },
  {
   "cell_type": "code",
   "execution_count": null,
   "metadata": {},
   "outputs": [],
   "source": [
    "import os\n",
    "\n",
    "files = os.listdir(\"path_or_directory\")\n",
    "for a_file in files:\n",
    "    print(a_file)"
   ]
  },
  {
   "cell_type": "code",
   "execution_count": null,
   "metadata": {},
   "outputs": [],
   "source": [
    "import pandas as pd\n",
    "data = pd.read_csv(filename).values.tolist()"
   ]
  },
  {
   "cell_type": "code",
   "execution_count": null,
   "metadata": {},
   "outputs": [],
   "source": [
    "import csv\n",
    "\n",
    "with open(filename, \"w\") as f:\n",
    "    writer = csv.writer(f, lineterminator='\\n')#ここ大事\n",
    "    writer.writerows(newPairData)"
   ]
  },
  {
   "cell_type": "code",
   "execution_count": null,
   "metadata": {},
   "outputs": [],
   "source": [
    "with open('hogehoge.tsv','w',encoding='utf-8') as csvfile:\n",
    "    writer = csv.DictWriter(csvfile, fieldnames = filedname_list,delimiter = \"\\t\")\n",
    "    writer.writeheader()\n",
    "    writer.writerows(data)"
   ]
  },
  {
   "cell_type": "code",
   "execution_count": 2,
   "metadata": {},
   "outputs": [],
   "source": [
    "import pickle\n",
    "\n",
    "with open(\"binaryfile.bin\", 'wb') as f:\n",
    "    pickle.dump(data,f)\n",
    "        \n",
    "with open(\"binaryfile.bin\" 'rb') as f:\n",
    "    data = pickle.load(f)\n",
    "    \n",
    "#rbとwbのミスに注意，最悪データを上書きしてしまう"
   ]
  },
  {
   "cell_type": "code",
   "execution_count": null,
   "metadata": {},
   "outputs": [],
   "source": [
    "import copy\n",
    "a = 10\n",
    "b = copy.deepcopy(a)"
   ]
  },
  {
   "cell_type": "code",
   "execution_count": null,
   "metadata": {},
   "outputs": [],
   "source": [
    "# 常に一行だけ見える出力\n",
    "for i in range(len(n)):\n",
    "    print('\\r%d / %d' %(i, len(n)), end='')"
   ]
  },
  {
   "cell_type": "code",
   "execution_count": null,
   "metadata": {},
   "outputs": [],
   "source": [
    "import pandas as pd\n",
    "data = pd.read_csv(\"query.tsv\").values.tolist()"
   ]
  }
 ],
 "metadata": {
  "colab": {
   "authorship_tag": "ABX9TyMJi7e4Uz1bLMDtV4lPFUbM",
   "name": "Medical_NER.ipynb",
   "provenance": []
  },
  "kernelspec": {
   "display_name": "Python 3",
   "language": "python",
   "name": "python3"
  },
  "language_info": {
   "codemirror_mode": {
    "name": "ipython",
    "version": 3
   },
   "file_extension": ".py",
   "mimetype": "text/x-python",
   "name": "python",
   "nbconvert_exporter": "python",
   "pygments_lexer": "ipython3",
   "version": "3.9.0"
  }
 },
 "nbformat": 4,
 "nbformat_minor": 4
}
