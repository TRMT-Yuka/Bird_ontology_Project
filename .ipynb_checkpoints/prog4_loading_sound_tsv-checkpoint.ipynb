{
 "cells": [
  {
   "cell_type": "markdown",
   "metadata": {},
   "source": [
    "# カタカナの泣き声リスト"
   ]
  },
  {
   "cell_type": "code",
   "execution_count": 1,
   "metadata": {},
   "outputs": [],
   "source": [
    "#辞書データ\n",
    "import pickle\n",
    "with open(\"data_extract/ontology_path.pickle\", 'rb') as f:\n",
    "    data = pickle.load(f)"
   ]
  },
  {
   "cell_type": "code",
   "execution_count": 15,
   "metadata": {},
   "outputs": [],
   "source": [
    "ontology_d = dict()\n",
    "for d in data:\n",
    "    ontology_d[d[\"id\"]]=d"
   ]
  },
  {
   "cell_type": "code",
   "execution_count": 2,
   "metadata": {},
   "outputs": [],
   "source": [
    "import csv\n",
    "with open('data_external/BirdJPBookDB__data.tsv',encoding='utf-8') as f:\n",
    "    reader = csv.reader(f)\n",
    "    sound_kana = [row[0].split(\"\\t\") for row in reader]"
   ]
  },
  {
   "cell_type": "code",
   "execution_count": 3,
   "metadata": {},
   "outputs": [],
   "source": [
    "col_name = ['audio_id', 'audio_file_path', 'book_id', 'title']\n",
    "\n",
    "sound_kana_d = []\n",
    "for row in sound_kana[1:]:\n",
    "    d = {}\n",
    "    for i in range(len(col_name)):\n",
    "        d[col_name[i]] = row[i]\n",
    "    sound_kana_d.append(d)\n",
    "    \n",
    "for d in sound_kana_d:\n",
    "    bird_name = d[\"title\"].split(\" \")[-1]\n",
    "    d[\"bird_name\"] = bird_name\n",
    "\n",
    "# sound_kana_d = \n",
    "# [{'audio_id': '1_01',\n",
    "#  'path': 'db/日本野鳥大鑑1/01 アビ.wav',\n",
    "#  'book_id': '1',\n",
    "#  'title': '01 アビ',\n",
    "#  'bird_name': 'アビ'}...]"
   ]
  },
  {
   "cell_type": "code",
   "execution_count": 5,
   "metadata": {},
   "outputs": [],
   "source": [
    "#エラー原因\n",
    "ja_data = {}\n",
    "for d in data:\n",
    "    if d[\"ja_name\"] not in ja_data:\n",
    "        ja_data[d[\"ja_name\"]] = []\n",
    "    ja_data[d[\"ja_name\"]].append(d)\n",
    "    \n",
    "# ja_data = {'チャバネシャコ': {'id': 'Q1001586',\n",
    "#   'en_name': \"Finsch's Francolin\",\n",
    "#   'ja_name': 'チャバネシャコ',....."
   ]
  },
  {
   "cell_type": "code",
   "execution_count": 11,
   "metadata": {},
   "outputs": [],
   "source": [
    "ja_data_many = []\n",
    "for k, v in ja_data.items():\n",
    "    if len(v) > 1:\n",
    "        ja_data_many.append(k)"
   ]
  },
  {
   "cell_type": "code",
   "execution_count": 16,
   "metadata": {},
   "outputs": [
    {
     "data": {
      "text/plain": [
       "{'id': 'Q25341',\n",
       " 'en_name': 'Passeriformes',\n",
       " 'ja_name': 'スズメ目',\n",
       " 'en_aliases': 'passerine,perching bird',\n",
       " 'ja_aliases': '鳴禽亜目,スズメ目 (Sibley)',\n",
       " 'img_urls': 'https://www.wikidata.org/wiki/Q25341#/media/File:Pardalotus%20with%20nesting%20material.jpg https://www.wikidata.org/wiki/Q25341#/media/File:Fringilla%20coelebs%20chaffinch%20male%20edit2.jpg https://www.wikidata.org/wiki/Q25341#/media/File:Cuervo%20grande%20(Corvus%20corax),%20Arcos%20de%20la%20Frontera,%20Cádiz,%20España,%202015-12-08,%20DD%2007.JPG',\n",
       " 'taxon_rank': 'Q36602',\n",
       " 'taxon_name': 'Passeriformes',\n",
       " 'parent_taxon': 'Q5856078',\n",
       " 'taxon_rank_name': 'order',\n",
       " 'taxon_rank_ja_name': '目',\n",
       " 'parent_taxon_name': 'Psittacopasserae',\n",
       " 'parent_taxon_ja_name': None,\n",
       " 'path': \"'/Q20645445/Q14635103/Q326483/Q5856078/Q25341'\"}"
      ]
     },
     "execution_count": 16,
     "metadata": {},
     "output_type": "execute_result"
    }
   ],
   "source": [
    "ontology_d[\"Q25341\"]"
   ]
  },
  {
   "cell_type": "code",
   "execution_count": 17,
   "metadata": {},
   "outputs": [
    {
     "data": {
      "text/plain": [
       "[{'id': 'Q193593',\n",
       "  'en_name': 'Eurasian Treecreeper',\n",
       "  'ja_name': 'キバシリ',\n",
       "  'en_aliases': 'Certhia familiaris,Eurasian Treecreeper',\n",
       "  'ja_aliases': 'キタキバシリ,Certhia familiaris',\n",
       "  'img_urls': 'https://www.wikidata.org/wiki/Q193593#/media/File:Обыкновенная%20пищуха%20(Certhia%20familiaris).jpg https://www.wikidata.org/wiki/Q193593#/media/File:Certhia%20familiaris%2001.jpg',\n",
       "  'taxon_rank': 'Q7432',\n",
       "  'taxon_name': 'Certhia familiaris',\n",
       "  'parent_taxon': 'Q1991437',\n",
       "  'taxon_rank_name': 'species',\n",
       "  'taxon_rank_ja_name': '種',\n",
       "  'parent_taxon_name': 'Certhia',\n",
       "  'parent_taxon_ja_name': 'キバシリ属',\n",
       "  'path': 'Q205938/Q1991437/Q193593',\n",
       "  'ja_path_name': 'キバシリ科/キバシリ属/キバシリ',\n",
       "  'en_path_name': 'treecreeper/Certhia/Eurasian Treecreeper',\n",
       "  'path_taxon_rank_name': 'family/genus/species'}]"
      ]
     },
     "execution_count": 17,
     "metadata": {},
     "output_type": "execute_result"
    }
   ],
   "source": [
    "ja_data[\"キバシリ\"]"
   ]
  },
  {
   "cell_type": "code",
   "execution_count": 12,
   "metadata": {},
   "outputs": [
    {
     "data": {
      "text/plain": [
       "[None,\n",
       " 'ダチョウ目',\n",
       " 'ラッパチョウ属',\n",
       " 'ヒメウズラ',\n",
       " 'アオヒメウズラ',\n",
       " 'ジャイアントモア',\n",
       " 'ツツドリ',\n",
       " 'ホオカザリヅル',\n",
       " 'ズクヨタカ科',\n",
       " 'キアシシギ',\n",
       " 'シマクイナ',\n",
       " 'メリケンキアシシギ',\n",
       " 'コンゴモリシャコ',\n",
       " 'コノドグロショウノガン',\n",
       " 'アライソシギ',\n",
       " 'チドリ科',\n",
       " 'タカサゴクロサギ',\n",
       " 'ネッタイチョウ属',\n",
       " 'セイタカシギ',\n",
       " 'セジロネズミドリ',\n",
       " 'モグリウミツバメ科',\n",
       " 'クイナ',\n",
       " 'アネハヅル',\n",
       " 'レア',\n",
       " 'ウ科',\n",
       " 'オオトウゾクカモメ',\n",
       " 'タカヘ',\n",
       " 'チュウサギ',\n",
       " 'エリマキシギ',\n",
       " 'ハゴロモヅル',\n",
       " 'ヘラシギ',\n",
       " 'オオヅル',\n",
       " 'キリアイ',\n",
       " 'ミナミクイナ',\n",
       " 'アカハシギンカモメ',\n",
       " 'ヒメシロハラミズナギドリ',\n",
       " 'ケープハシビロガモ',\n",
       " 'シロガシラツクシガモ',\n",
       " 'レンジャク科',\n",
       " 'コノハズク',\n",
       " 'ムジアナツバメ',\n",
       " 'オオコノハズク',\n",
       " 'ハリオアマツバメ',\n",
       " 'タテジマフクロウ',\n",
       " 'アマサギ',\n",
       " 'ゴジュウカラ科',\n",
       " 'チュウヒ亜科',\n",
       " 'カラフトワシ',\n",
       " 'ウグイス科',\n",
       " 'ノドジロガモ',\n",
       " 'ウオクイワシ',\n",
       " 'トモエガモ',\n",
       " 'アメリカヒドリ',\n",
       " 'ハシビロガモ',\n",
       " 'アカシマアジ',\n",
       " 'ミカヅキシマアジ',\n",
       " 'ヨシガモ',\n",
       " 'アフリカコガモ',\n",
       " 'ヒドリガモ',\n",
       " 'アカハシビロガモ',\n",
       " 'ミカヅキハシビロガモ',\n",
       " 'ワキアカヒドリ',\n",
       " 'オカヨシガモ',\n",
       " 'ギンイロシマアジ',\n",
       " 'セグロカモメ',\n",
       " 'イワヒバリ属',\n",
       " 'オウギビタキ属',\n",
       " 'ウチヤマセンニュウ',\n",
       " 'エゾセンニュウ',\n",
       " 'カルガモ',\n",
       " 'ムクドリモドキ',\n",
       " 'ムナフヒメドリ',\n",
       " 'ビロードキンクロ',\n",
       " 'ゴマフスズメ',\n",
       " 'ヒシクイ',\n",
       " 'クルマサカオウム',\n",
       " 'クロガモ',\n",
       " 'ボーダンクロオウム',\n",
       " 'キイロオクロオウム',\n",
       " 'ニシオジロクロオウム',\n",
       " 'ハシブトオオヨシキリ',\n",
       " 'ハイムネメジロ',\n",
       " 'タイワンショウドウツバメ',\n",
       " 'アメリカオオモズ',\n",
       " 'テンジクバタン',\n",
       " 'オオマシコ',\n",
       " 'カンムリカラカラ',\n",
       " 'ヒインコ',\n",
       " 'ヒメコウテンシ',\n",
       " 'スチーフンイワサザイ',\n",
       " 'マスカリンインコ',\n",
       " 'キンミノフウチョウ',\n",
       " 'アカミノフウチョウ',\n",
       " 'ヤナギムシクイ',\n",
       " 'メボソムシクイ',\n",
       " 'オウゴンフウチョウモドキ',\n",
       " 'キンノドゴシキドリ',\n",
       " 'ノグチゲラ',\n",
       " 'コノハドリ科',\n",
       " 'ゴシキセイガイインコ',\n",
       " 'ベニインコ',\n",
       " 'カンムリカワセミ',\n",
       " 'モリショウビン',\n",
       " 'ノビタキ',\n",
       " 'カートランドアメリカムシクイ',\n",
       " 'サンショクヒタキ',\n",
       " 'キヅタアメリカムシクイ',\n",
       " 'ツリスガラ',\n",
       " 'ハジロガケヒタキ',\n",
       " 'ルリミツユビカワセミ',\n",
       " 'キタタキ',\n",
       " 'マミジロタヒバリ']"
      ]
     },
     "execution_count": 12,
     "metadata": {},
     "output_type": "execute_result"
    }
   ],
   "source": [
    "ja_data_many"
   ]
  },
  {
   "cell_type": "code",
   "execution_count": 9,
   "metadata": {},
   "outputs": [
    {
     "ename": "KeyError",
     "evalue": "'Q25341'",
     "output_type": "error",
     "traceback": [
      "\u001b[1;31m---------------------------------------------------------------------------\u001b[0m",
      "\u001b[1;31mKeyError\u001b[0m                                  Traceback (most recent call last)",
      "\u001b[1;32m<ipython-input-9-f5312cddf51b>\u001b[0m in \u001b[0;36m<module>\u001b[1;34m\u001b[0m\n\u001b[1;32m----> 1\u001b[1;33m \u001b[0mja_data\u001b[0m\u001b[1;33m[\u001b[0m\u001b[1;34m\"Q25341\"\u001b[0m\u001b[1;33m]\u001b[0m\u001b[1;33m\u001b[0m\u001b[1;33m\u001b[0m\u001b[0m\n\u001b[0m",
      "\u001b[1;31mKeyError\u001b[0m: 'Q25341'"
     ]
    }
   ],
   "source": [
    "ja_data[\"Q25341\"]"
   ]
  },
  {
   "cell_type": "code",
   "execution_count": 42,
   "metadata": {},
   "outputs": [],
   "source": [
    "for d in sound_kana_d:\n",
    "    try:\n",
    "        if d[\"bird_name\"] in ja_data:\n",
    "            add_d = ja_data[d[\"bird_name\"]]\n",
    "            d[\"id\"] = add_d[\"id\"]\n",
    "            d[\"en_name\"] = add_d[\"en_name\"]\n",
    "            d[\"ja_name\"] = add_d[\"ja_name\"] \n",
    "            d[\"path\"] = add_d[\"path\"]\n",
    "            d[\"ja_path_name\"] = add_d[\"ja_path_name\"]\n",
    "            d[\"en_path_name\"] = add_d[\"en_path_name\"]\n",
    "            d[\"path_taxon_rank_name\"] = add_d[\"path_taxon_rank_name\"]\n",
    "        else:\n",
    "            d[\"id\"] = \"\"\n",
    "            d[\"en_name\"] = \"\"\n",
    "            d[\"ja_name\"] = \"\"\n",
    "            d[\"path\"] = \"\"\n",
    "            d[\"ja_path_name\"] = \"\"\n",
    "            d[\"en_path_name\"] = \"\"\n",
    "            d[\"path_taxon_rank_name\"] = \"\"\n",
    "    except:\n",
    "        pass"
   ]
  },
  {
   "cell_type": "code",
   "execution_count": 43,
   "metadata": {},
   "outputs": [
    {
     "data": {
      "text/plain": [
       "dict_keys(['audio_id', 'audio_file_path', 'book_id', 'title', 'bird_name', 'id', 'en_name', 'ja_name', 'path', 'ja_path_name', 'en_path_name', 'path_taxon_rank_name'])"
      ]
     },
     "execution_count": 43,
     "metadata": {},
     "output_type": "execute_result"
    }
   ],
   "source": [
    "sound_kana_d[0].keys()"
   ]
  },
  {
   "cell_type": "code",
   "execution_count": 44,
   "metadata": {},
   "outputs": [],
   "source": [
    "filedname_list = ['audio_id', 'audio_file_path', 'book_id', 'title', 'bird_name', 'id', 'en_name', 'ja_name', 'path', 'ja_path_name', 'en_path_name', 'path_taxon_rank_name']\n",
    "import csv\n",
    "\n",
    "with open('data_extract/voice_kana_path.tsv','w',encoding='utf-8') as csvfile:\n",
    "    writer = csv.DictWriter(csvfile, fieldnames = filedname_list,delimiter = \"\\t\")\n",
    "    writer.writeheader()\n",
    "    writer.writerows(sound_kana_d)"
   ]
  },
  {
   "cell_type": "markdown",
   "metadata": {},
   "source": [
    "# ローマ字の読み方データ"
   ]
  },
  {
   "cell_type": "code",
   "execution_count": 45,
   "metadata": {},
   "outputs": [],
   "source": [
    "#辞書データ\n",
    "import pickle\n",
    "with open(\"data_extract/ontology_path.pickle\", 'rb') as f:\n",
    "    data = pickle.load(f)"
   ]
  },
  {
   "cell_type": "code",
   "execution_count": 46,
   "metadata": {},
   "outputs": [
    {
     "name": "stderr",
     "output_type": "stream",
     "text": [
      "<ipython-input-46-e1e0494d0bdb>:4: DeprecationWarning: Call to deprecated method setMode. (Old API will be removed in v3.0.) -- Deprecated since version 2.1.\n",
      "  kakasi.setMode('H', 'a') # ひらがなをローマ字に変換するように設定\n",
      "<ipython-input-46-e1e0494d0bdb>:5: DeprecationWarning: Call to deprecated method setMode. (Old API will be removed in v3.0.) -- Deprecated since version 2.1.\n",
      "  kakasi.setMode('K', 'a') # カタカナをローマ字に変換するように設定\n",
      "<ipython-input-46-e1e0494d0bdb>:6: DeprecationWarning: Call to deprecated method setMode. (Old API will be removed in v3.0.) -- Deprecated since version 2.1.\n",
      "  kakasi.setMode('J', 'a') # 漢字をローマ字に変換するように設定\n",
      "<ipython-input-46-e1e0494d0bdb>:7: DeprecationWarning: Call to deprecated method getConverter. (Old API will be removed in v3.0.) -- Deprecated since version 2.1.\n",
      "  conversion = kakasi.getConverter() # 上記モード設定の適用\n",
      "<ipython-input-46-e1e0494d0bdb>:16: DeprecationWarning: Call to deprecated method do. (Old API will be removed in v3.0.) -- Deprecated since version 2.1.\n",
      "  d[\"romaji_name\"] = conversion.do(d[\"ja_name\"])\n"
     ]
    },
    {
     "name": "stdout",
     "output_type": "stream",
     "text": [
      "zugurokaedechouuahibarikuikiaiuffon Vulture"
     ]
    }
   ],
   "source": [
    "import pykakasi\n",
    "\n",
    "kakasi = pykakasi.kakasi() # インスタンスの作成\n",
    "kakasi.setMode('H', 'a') # ひらがなをローマ字に変換するように設定\n",
    "kakasi.setMode('K', 'a') # カタカナをローマ字に変換するように設定\n",
    "kakasi.setMode('J', 'a') # 漢字をローマ字に変換するように設定\n",
    "conversion = kakasi.getConverter() # 上記モード設定の適用\n",
    "\n",
    "\n",
    "for d in data:\n",
    "#     try:\n",
    "    if \"romaji_name\" in d:\n",
    "        pass\n",
    "    else:\n",
    "        if d[\"ja_name\"] != None:\n",
    "            d[\"romaji_name\"] = conversion.do(d[\"ja_name\"])\n",
    "            print('\\r%s' %(d[\"romaji_name\"]), end='')\n",
    "        else:\n",
    "            d[\"romaji_name\"] = None"
   ]
  },
  {
   "cell_type": "code",
   "execution_count": 47,
   "metadata": {},
   "outputs": [],
   "source": [
    "import csv\n",
    "with open('data_external/BirdResearchDB_label01_32k.tsv',encoding='utf-8') as f:\n",
    "    reader = csv.reader(f)\n",
    "    sound_roma = [row[0].split(\"\\t\") for row in reader]"
   ]
  },
  {
   "cell_type": "code",
   "execution_count": 48,
   "metadata": {},
   "outputs": [],
   "source": [
    "col_name = ['audio_file_path', 'romaji_name']\n",
    "\n",
    "sound_roma_d = []\n",
    "for row in sound_roma:\n",
    "    d = {}\n",
    "    for i in range(len(col_name)):\n",
    "        d[col_name[i]] = row[i]\n",
    "    sound_roma_d.append(d)"
   ]
  },
  {
   "cell_type": "code",
   "execution_count": 49,
   "metadata": {},
   "outputs": [],
   "source": [
    "roma_data = {}\n",
    "for d in data:\n",
    "    roma_data[d[\"romaji_name\"]] = d"
   ]
  },
  {
   "cell_type": "code",
   "execution_count": 54,
   "metadata": {},
   "outputs": [],
   "source": [
    "for d in sound_roma_d:\n",
    "    try:\n",
    "        if d[\"romaji_name\"] in roma_data:\n",
    "            add_d = roma_data[d[\"romaji_name\"]]\n",
    "            d[\"id\"] = add_d[\"id\"]\n",
    "            d[\"en_name\"] = add_d[\"en_name\"]\n",
    "            d[\"ja_name\"] = add_d[\"ja_name\"] \n",
    "            d[\"path\"] = add_d[\"path\"]\n",
    "            d[\"ja_path_name\"] = add_d[\"ja_path_name\"]\n",
    "            d[\"en_path_name\"] = add_d[\"en_path_name\"]\n",
    "            d[\"path_taxon_rank_name\"] = add_d[\"path_taxon_rank_name\"]\n",
    "        else:\n",
    "            d[\"id\"] = \"\"\n",
    "            d[\"en_name\"] = \"\"\n",
    "            d[\"ja_name\"] = \"\"\n",
    "            d[\"path\"] = \"\"\n",
    "            d[\"ja_path_name\"] = \"\"\n",
    "            d[\"en_path_name\"] = \"\"\n",
    "            d[\"path_taxon_rank_name\"] = \"\"\n",
    "    except:\n",
    "        pass"
   ]
  },
  {
   "cell_type": "code",
   "execution_count": 55,
   "metadata": {},
   "outputs": [
    {
     "data": {
      "text/plain": [
       "dict_keys(['audio_file_path', 'romaji_name', 'id', 'en_name', 'ja_name', 'path', 'ja_path_name', 'en_path_name', 'path_taxon_rank_name'])"
      ]
     },
     "execution_count": 55,
     "metadata": {},
     "output_type": "execute_result"
    }
   ],
   "source": [
    "sound_roma_d[0].keys()"
   ]
  },
  {
   "cell_type": "code",
   "execution_count": 56,
   "metadata": {},
   "outputs": [],
   "source": [
    "filedname_list = ['audio_file_path', 'romaji_name', 'id', 'en_name', 'ja_name', 'path', 'ja_path_name', 'en_path_name', 'path_taxon_rank_name']\n",
    "import csv\n",
    "\n",
    "with open('data_extract/voice_roma_path.tsv','w',encoding='utf-8') as csvfile:\n",
    "    writer = csv.DictWriter(csvfile, fieldnames = filedname_list,delimiter = \"\\t\")\n",
    "    writer.writeheader()\n",
    "    writer.writerows(sound_roma_d)"
   ]
  },
  {
   "cell_type": "code",
   "execution_count": null,
   "metadata": {},
   "outputs": [],
   "source": []
  },
  {
   "cell_type": "code",
   "execution_count": null,
   "metadata": {},
   "outputs": [],
   "source": []
  }
 ],
 "metadata": {
  "kernelspec": {
   "display_name": "Python 3",
   "language": "python",
   "name": "python3"
  },
  "language_info": {
   "codemirror_mode": {
    "name": "ipython",
    "version": 3
   },
   "file_extension": ".py",
   "mimetype": "text/x-python",
   "name": "python",
   "nbconvert_exporter": "python",
   "pygments_lexer": "ipython3",
   "version": "3.9.0"
  }
 },
 "nbformat": 4,
 "nbformat_minor": 4
}
