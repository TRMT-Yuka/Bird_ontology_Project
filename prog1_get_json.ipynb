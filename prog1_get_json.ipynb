{
 "cells": [
  {
   "cell_type": "markdown",
   "metadata": {},
   "source": [
    "## WikiDataより，Bird（ID：Q5117）を直接的または間接的に親に持つ記事のURLを取得"
   ]
  },
  {
   "cell_type": "markdown",
   "metadata": {},
   "source": [
    "##### ・data_external/query.tsvがURL一覧"
   ]
  },
  {
   "cell_type": "code",
   "execution_count": 7,
   "metadata": {},
   "outputs": [],
   "source": [
    "with open(\"data_external/query.tsv\") as f:\n",
    "    url_list = f.readlines()[1:]\n",
    "with open('sh1_makejson.sh', 'w', encoding='UTF-8') as f:\n",
    "    f.write(\"#!/bin/bash\\n\")\n",
    "    \n",
    "    for url in url_list:\n",
    "        ID = url.replace(\"http://www.wikidata.org/entity/\",\"\")\n",
    "        command = \"curl -sLH 'Accept: application/json' \"+url+\" | jq . > data_json/\"+ID+\".json\"\n",
    "        f.write(command+\"\\n\")"
   ]
  },
  {
   "cell_type": "markdown",
   "metadata": {},
   "source": [
    "## sh1_makejson.shを実行"
   ]
  },
  {
   "cell_type": "markdown",
   "metadata": {},
   "source": [
    "##### ・コマンドラインにて\n",
    "##### ・これが回り終えるまでに3日かかる"
   ]
  },
  {
   "cell_type": "markdown",
   "metadata": {},
   "source": [
    "## 実行結果を順に複数のdata_extract/data_json_n.pickle(ただしn = 1,2,...,7,8)ファイルに保存"
   ]
  },
  {
   "cell_type": "markdown",
   "metadata": {},
   "source": [
    "##### ・data_json/以下のデータがある程度たまったらdata_json_n/に移動する"
   ]
  },
  {
   "cell_type": "code",
   "execution_count": 18,
   "metadata": {},
   "outputs": [],
   "source": [
    "import os\n",
    "import json\n",
    "import pickle\n",
    "\n",
    "def logmaker(file_dir,file,error):\n",
    "    with open(file_dir+\"/\"+file+\"_log.txt\", 'w',encoding=\"utf-8\") as log_f:\n",
    "        log_f.write(error+\"\\n\")\n",
    "\n",
    "def Make_jsonpikle(file_dir):\n",
    "    files = os.listdir(file_dir)\n",
    "    files_1 = [file.replace(\".json\",\"\") for file in files]\n",
    "    all_bird_dict = []\n",
    "\n",
    "    for i in range(len(files_1)):\n",
    "        file = files_1[i]\n",
    "        print('\\r%d / %d' %(i, len(files_1)), end='')\n",
    "        try:\n",
    "            with open(file_dir+'/'+file+\".json\", 'r',encoding=\"utf-8\") as rf:\n",
    "                json_dict = json.load(rf)\n",
    "        except:\n",
    "            logmaker(file_dir,file,\"read json\")\n",
    "            continue\n",
    "\n",
    "\n",
    "        bird_dict = {}\n",
    "        url = \"https://www.wikidata.org/wiki/\"+file\n",
    "        bird_dict[\"id\"] = file\n",
    "        try:\n",
    "            bird_dict[\"en_name\"] = json_dict['entities'][file][\"labels\"][\"en\"][\"value\"]\n",
    "        except:\n",
    "            bird_dict[\"en_name\"] = None\n",
    "            logmaker(file_dir,file,\"en_name\")\n",
    "        try:\n",
    "            bird_dict[\"ja_name\"] = json_dict['entities'][file][\"labels\"][\"ja\"][\"value\"]\n",
    "        except:\n",
    "            bird_dict[\"ja_name\"] = None\n",
    "\n",
    "        bird_dict[\"en_aliases\"] = {}\n",
    "        cnt1 = 0\n",
    "        try:\n",
    "            for d in json_dict['entities'][file][\"aliases\"][\"en\"]:\n",
    "                bird_dict[\"en_aliases\"][cnt1] = d[\"value\"]\n",
    "                cnt1 = cnt1 + 1\n",
    "        except:\n",
    "            pass\n",
    "        bird_dict[\"ja_aliases\"] = {}\n",
    "        cnt2 = 0\n",
    "        try:\n",
    "            for d in json_dict['entities'][file][\"aliases\"][\"ja\"]:\n",
    "                bird_dict[\"ja_aliases\"][cnt2]=d[\"value\"]\n",
    "                cnt2 = cnt2 + 1\n",
    "        except:\n",
    "            pass\n",
    "\n",
    "\n",
    "        bird_dict[\"img_urls\"] = {}\n",
    "        cnt3 = 0\n",
    "        try:\n",
    "            for img in json_dict['entities'][file][\"claims\"][\"P18\"]:\n",
    "                img_url = url+\"#/media/File:\"+img[\"mainsnak\"][\"datavalue\"][\"value\"].replace(\" \",\"%20\")\n",
    "                bird_dict[\"img_urls\"][cnt3]=img_url\n",
    "                cnt3 = cnt3 + 1\n",
    "        except:\n",
    "            pass\n",
    "\n",
    "        try:\n",
    "            bird_dict[\"taxon_rank\"] = json_dict['entities'][file][\"claims\"][\"P105\"][0][\"mainsnak\"][\"datavalue\"][\"value\"][\"id\"]\n",
    "        except:\n",
    "            bird_dict[\"taxon_rank\"] = None\n",
    "            logmaker(file_dir,file,\"taxon_rank\")\n",
    "\n",
    "        try:\n",
    "            bird_dict[\"taxon_name\"] = json_dict['entities'][file][\"claims\"][\"P225\"][0][\"mainsnak\"][\"datavalue\"][\"value\"]\n",
    "        except:\n",
    "            bird_dict[\"taxon_name\"] = None\n",
    "            logmaker(file_dir,file,\"taxon_name\")\n",
    "\n",
    "        try:\n",
    "            bird_dict[\"parent_taxon\"] = json_dict['entities'][file][\"claims\"][\"P171\"][0][\"mainsnak\"][\"datavalue\"][\"value\"][\"id\"]\n",
    "        except:\n",
    "            bird_dict[\"parent_taxon\"] = None\n",
    "            logmaker(file_dir,file,\"parent_taxon\")\n",
    "        all_bird_dict.append(bird_dict)\n",
    "\n",
    "\n",
    "    with open(\"data_extract/data_json/\"+file_dir+\".pickle\", 'wb') as bf:\n",
    "        pickle.dump(all_bird_dict,bf)"
   ]
  },
  {
   "cell_type": "code",
   "execution_count": 21,
   "metadata": {},
   "outputs": [],
   "source": [
    "for i in [1,2,3,4,5,6,7,8]:\n",
    "    Make_jsonpikle(\"data_json/data_json_\"+str(i))"
   ]
  },
  {
   "cell_type": "markdown",
   "metadata": {},
   "source": [
    "##### ・この時点でdata_json_n(n=1)の各ディレクトリは不要なのでtrushへ"
   ]
  },
  {
   "cell_type": "markdown",
   "metadata": {},
   "source": [
    "# 全てのdata_json_n.pickleを結合し，data_extract/ontrogy.pickleを作成"
   ]
  },
  {
   "cell_type": "code",
   "execution_count": null,
   "metadata": {},
   "outputs": [],
   "source": [
    "import pickle\n",
    "\n",
    "data = []\n",
    "for i in [1,2,3,4,5,6,7,8]:\n",
    "    with open(\"data_extract/data_json_\"+i+\".pickle\",\"rb\") as f:\n",
    "        data_n = pickle.load(f)\n",
    "        data = data+data_n\n",
    "        \n",
    "data_d = {}\n",
    "for d in data:\n",
    "    data_d[d[\"id\"]]=d\n",
    "\n",
    "ID_d = dict()\n",
    "nodata_set = set()\n",
    "for k in ID_set:\n",
    "    if k in data_d:\n",
    "        ID_d[k] = data_d[k][\"en_name\"]\n",
    "    else:\n",
    "        nodata_set.add(k)\n",
    "\n",
    "ID_d_ja = dict()\n",
    "nodata_set_ja = set()\n",
    "for k in ID_set:\n",
    "    if k in data_d:\n",
    "        ID_d_ja[k] = data_d[k][\"ja_name\"]\n",
    "    else:\n",
    "        nodata_set_ja.add(k)"
   ]
  },
  {
   "cell_type": "code",
   "execution_count": null,
   "metadata": {},
   "outputs": [],
   "source": [
    "non_data = []\n",
    "for d in data:\n",
    "    try:\n",
    "        d[\"taxon_rank_name\"] = ID_d[d[\"taxon_rank\"]]\n",
    "        d[\"taxon_rank_ja_name\"] = ID_d_ja[d[\"taxon_rank\"]]\n",
    "\n",
    "        d[\"parent_taxon_name\"] = ID_d[d[\"parent_taxon\"]]\n",
    "        d[\"parent_taxon_ja_name\"] = ID_d_ja[d[\"parent_taxon\"]]\n",
    "\n",
    "\n",
    "        s = \"\"\n",
    "        for k,v in d[\"en_aliases\"].items():\n",
    "            if s == \"\":\n",
    "                s = s + v\n",
    "            else:\n",
    "                s = s + \",\" +v\n",
    "        d[\"en_aliases\"] = s\n",
    "\n",
    "        s = \"\"\n",
    "        for k,v in d[\"ja_aliases\"].items():\n",
    "            if s == \"\":\n",
    "                s = s + v\n",
    "            else:\n",
    "                s = s + \",\" +v\n",
    "        d[\"ja_aliases\"] = s\n",
    "\n",
    "        s = \"\"\n",
    "        for k,v in d[\"img_urls\"].items():\n",
    "            if s == \"\":\n",
    "                s = s + v\n",
    "            else:\n",
    "                s = s + \" \" +v\n",
    "        d[\"img_urls\"] = s\n",
    "    except:\n",
    "        non_data.append(d[\"taxon_rank\"])"
   ]
  },
  {
   "cell_type": "markdown",
   "metadata": {},
   "source": [
    "# ontrogy.pickleにおけるparent_taxon一覧を作成"
   ]
  },
  {
   "cell_type": "markdown",
   "metadata": {},
   "source": [
    "##### ・(1)既存のpickleを取得"
   ]
  },
  {
   "cell_type": "markdown",
   "metadata": {},
   "source": [
    "##### ・(2)all_p_taxonのうち，既に記事取得済みのidに存在しないものをabsent_p_taxonに格納"
   ]
  },
  {
   "cell_type": "code",
   "execution_count": null,
   "metadata": {},
   "outputs": [],
   "source": [
    "#辞書データ\n",
    "import pickle\n",
    "# with open(\"data_extract/ontology.pickle\", 'rb') as f:\n",
    "# with open(\"data_extract/ontology_v2.pickle\", 'rb') as f:\n",
    "# with open(\"data_extract/ontology_v3.pickle\", 'rb') as f:\n",
    "# with open(\"data_extract/ontology_v4.pickle\", 'rb') as f:\n",
    "# with open(\"data_extract/ontology_v5.pickle\", 'rb') as f:\n",
    "with open(\"data_extract/ontology_v6.pickle\", 'rb') as f:\n",
    "    data_origin = pickle.load(f)\n",
    "\n",
    "all_id = set()\n",
    "all_p_taxon = set()\n",
    "for d in data_origin:\n",
    "    all_id.add(d[\"id\"])\n",
    "    all_p_taxon.add(d[\"parent_taxon\"])\n",
    "    \n",
    "absent_p_taxon = all_p_taxon-all_id\n",
    "len(absent_p_taxon)"
   ]
  },
  {
   "cell_type": "markdown",
   "metadata": {},
   "source": [
    "##### ・(3)all_p_taxonに存在しないものを取得するshellファイルを作成し，実行"
   ]
  },
  {
   "cell_type": "code",
   "execution_count": null,
   "metadata": {},
   "outputs": [],
   "source": [
    "# with open('sh3_absent_p_taxon.sh', 'w', encoding='UTF-8') as f:\n",
    "# with open('sh4_absent_p_taxon.sh', 'w', encoding='UTF-8') as f:\n",
    "# with open('sh5_absent_p_taxon.sh', 'w', encoding='UTF-8') as f:\n",
    "# with open('sh6_absent_taxon.sh', 'w', encoding='UTF-8') as f:\n",
    "    f.write(\"#!/bin/bash\\n\")\n",
    "    \n",
    "    for item in absent_p_taxon:\n",
    "        i = str(item)\n",
    "#         command = \"curl -sLH 'Accept: application/json' http://www.wikidata.org/entity/\"+i+\" | jq . > data_json_10/\"+i+\".json\"\n",
    "#         command = \"curl -sLH 'Accept: application/json' http://www.wikidata.org/entity/\"+i+\" | jq . > data_json_11/\"+i+\".json\"\n",
    "#         command = \"curl -sLH 'Accept: application/json' http://www.wikidata.org/entity/\"+i+\" | jq . > data_json_12/\"+i+\".json\"\n",
    "#         command = \"curl -sLH 'Accept: application/json' http://www.wikidata.org/entity/\"+i+\" | jq . > data_json_13/\"+i+\".json\"\n",
    "        f.write(command+\"\\n\")"
   ]
  },
  {
   "cell_type": "code",
   "execution_count": null,
   "metadata": {},
   "outputs": [],
   "source": [
    "# !bash sh3_absent_p_taxon.sh\n",
    "# !bash sh4_absent_p_taxon.sh\n",
    "# !bash sh5_absent_p_taxon.sh #None.jsonができてしまったので，それは削除\n",
    "# !bash sh6_absent_p_taxon.sh #None.jsonができてしまったので，それは削除"
   ]
  },
  {
   "cell_type": "code",
   "execution_count": null,
   "metadata": {},
   "outputs": [],
   "source": [
    "# Make_jsonpikle(\"data_json/data_json_\"+str(10))\n",
    "# Make_jsonpikle(\"data_json/data_json_\"+str(11))\n",
    "# Make_jsonpikle(\"data_json/data_json_\"+str(12))\n",
    "# Make_jsonpikle(\"data_json/data_json_\"+str(13))"
   ]
  },
  {
   "cell_type": "markdown",
   "metadata": {},
   "source": [
    "##### ・上記(1)~(3)の工程を7回目まで，またはall_p_taxonの要素がQ5117のみになるまで継続"
   ]
  },
  {
   "cell_type": "code",
   "execution_count": null,
   "metadata": {},
   "outputs": [],
   "source": [
    "## "
   ]
  },
  {
   "cell_type": "markdown",
   "metadata": {},
   "source": [
    "##### ・整形"
   ]
  },
  {
   "cell_type": "code",
   "execution_count": null,
   "metadata": {},
   "outputs": [],
   "source": [
    "data_d = {}\n",
    "for d in data:\n",
    "    data_d[d[\"id\"]]=d\n",
    "\n",
    "ID_list = []\n",
    "for v in data:\n",
    "    ID_list.append(v[\"taxon_rank\"])\n",
    "    ID_list.append(v[\"parent_taxon\"])\n",
    "ID_set = set(ID_list)\n",
    "\n",
    "ID_d = dict()\n",
    "nodata_set = set()\n",
    "for k in ID_set:\n",
    "    if k in data_d:\n",
    "        ID_d[k] = data_d[k][\"en_name\"]\n",
    "    else:\n",
    "        nodata_set.add(k)\n",
    "        \n",
    "ID_d_ja = dict()\n",
    "nodata_set_ja = set()\n",
    "for k in ID_set:\n",
    "    if k in data_d:\n",
    "        ID_d_ja[k] = data_d[k][\"ja_name\"]\n",
    "    else:\n",
    "        nodata_set_ja.add(k)"
   ]
  }
 ],
 "metadata": {
  "kernelspec": {
   "display_name": "Python 3",
   "language": "python",
   "name": "python3"
  },
  "language_info": {
   "codemirror_mode": {
    "name": "ipython",
    "version": 3
   },
   "file_extension": ".py",
   "mimetype": "text/x-python",
   "name": "python",
   "nbconvert_exporter": "python",
   "pygments_lexer": "ipython3",
   "version": "3.9.0"
  }
 },
 "nbformat": 4,
 "nbformat_minor": 4
}
