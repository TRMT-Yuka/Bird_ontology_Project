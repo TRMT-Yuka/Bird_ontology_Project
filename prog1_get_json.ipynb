{
 "cells": [
  {
   "cell_type": "code",
   "execution_count": 3,
   "metadata": {},
   "outputs": [],
   "source": [
    "data_list = [item.replace(\"\\n\",\"\") for item in data[1:]]"
   ]
  },
  {
   "cell_type": "code",
   "execution_count": 4,
   "metadata": {},
   "outputs": [],
   "source": [
    "ID_list = [item.replace(\"http://www.wikidata.org/entity/\",\"\") for item in data_list]"
   ]
  },
  {
   "cell_type": "code",
   "execution_count": 7,
   "metadata": {},
   "outputs": [],
   "source": [
    "with open('sh1_makejson.sh', 'w', encoding='UTF-8') as f:\n",
    "    f.write(\"#!/bin/bash\\n\")\n",
    "    \n",
    "    for i in ID_list:\n",
    "        command = \"curl -sLH 'Accept: application/json' http://www.wikidata.org/entity/\"+i+\" | jq . > data_json/\"+i+\".json\"\n",
    "        f.write(command+\"\\n\")\n",
    "# sh1_makejson.shをコマンドラインで実行"
   ]
  },
  {
   "cell_type": "code",
   "execution_count": 14,
   "metadata": {},
   "outputs": [],
   "source": [
    "# !sh2_addjson.sh\n",
    "#も追加で実装"
   ]
  },
  {
   "cell_type": "code",
   "execution_count": 11,
   "metadata": {},
   "outputs": [],
   "source": [
    "# 試算結果：全てのデータの収集に三日かかる"
   ]
  },
  {
   "cell_type": "code",
   "execution_count": null,
   "metadata": {},
   "outputs": [],
   "source": [
    "# 作成完了したデータをdata_json_1のように番号があるところに移動"
   ]
  },
  {
   "cell_type": "code",
   "execution_count": null,
   "metadata": {},
   "outputs": [],
   "source": [
    "# url,\n",
    "# 英語名,\n",
    "# 日本語名,\n",
    "# 別名（英語, \n",
    "# 別名（日本語, \n",
    "# taxon rank#P105\n",
    "# taxon name#P225\n",
    "# parent taxon#P171\n",
    "# image url#P18"
   ]
  },
  {
   "cell_type": "code",
   "execution_count": 19,
   "metadata": {},
   "outputs": [],
   "source": [
    "\n",
    "\n",
    "# file = \"Q1004802\"\n",
    "\n",
    "# with open(\"data_json_1/Q1004802.json\", 'r',encoding=\"utf-8\") as rf:\n",
    "#     json_dict = json.load(rf)\n",
    "\n",
    "\n",
    "# bird_dict = {}\n",
    "# url = \"https://www.wikidata.org/wiki/\"+file\n",
    "# bird_dict[\"id\"] = file\n",
    "\n",
    "\n",
    "\n",
    "# bird_dict[\"img_urls\"] = {}\n",
    "# cnt3 = 0\n",
    "# for img in json_dict['entities'][file][\"claims\"][\"P18\"]:\n",
    "#     img_url = url+\"#/media/File:\"+img[\"mainsnak\"][\"datavalue\"][\"value\"].replace(\" \",\"%20\")\n",
    "#     bird_dict[\"img_urls\"][cnt3]=img_url\n",
    "#     cnt3 = cnt3 + 1\n"
   ]
  },
  {
   "cell_type": "code",
   "execution_count": 20,
   "metadata": {},
   "outputs": [
    {
     "data": {
      "text/plain": [
       "{'id': 'Q1004802',\n",
       " 'img_urls': {0: 'https://www.wikidata.org/wiki/Q1004802#/media/File:Amazilia%20versicolor%20001%201280.jpg'}}"
      ]
     },
     "execution_count": 20,
     "metadata": {},
     "output_type": "execute_result"
    }
   ],
   "source": [
    "# bird_dict"
   ]
  },
  {
   "cell_type": "code",
   "execution_count": 10,
   "metadata": {},
   "outputs": [],
   "source": [
    "# 作ったjsonFileをfile_dir/に移動"
   ]
  },
  {
   "cell_type": "code",
   "execution_count": 18,
   "metadata": {},
   "outputs": [],
   "source": [
    "import os\n",
    "import json\n",
    "import pickle\n",
    "\n",
    "def logmaker(file_dir,file,error):\n",
    "    with open(file_dir+\"/\"+file+\"_log.txt\", 'w',encoding=\"utf-8\") as log_f:\n",
    "        log_f.write(error+\"\\n\")\n",
    "\n",
    "def Make_jsonpikle(file_dir):\n",
    "    files = os.listdir(file_dir)\n",
    "    files_1 = [file.replace(\".json\",\"\") for file in files]\n",
    "    all_bird_dict = []\n",
    "\n",
    "    for i in range(len(files_1)):\n",
    "        file = files_1[i]\n",
    "        print('\\r%d / %d' %(i, len(files_1)), end='')\n",
    "\n",
    "        try:\n",
    "            with open(file_dir+'/'+file+\".json\", 'r',encoding=\"utf-8\") as rf:\n",
    "                json_dict = json.load(rf)\n",
    "        except:\n",
    "            logmaker(file_dir,file,\"read json\")\n",
    "            continue\n",
    "\n",
    "\n",
    "        bird_dict = {}\n",
    "        url = \"https://www.wikidata.org/wiki/\"+file\n",
    "        bird_dict[\"id\"] = file\n",
    "        \n",
    "        try:\n",
    "            bird_dict[\"en_name\"] = json_dict['entities'][file][\"labels\"][\"en\"][\"value\"]\n",
    "        except:\n",
    "            bird_dict[\"en_name\"] = None\n",
    "            logmaker(file_dir,file,\"en_name\")\n",
    "        try:\n",
    "            bird_dict[\"ja_name\"] = json_dict['entities'][file][\"labels\"][\"ja\"][\"value\"]\n",
    "        except:\n",
    "            bird_dict[\"ja_name\"] = None\n",
    "\n",
    "        \n",
    "        bird_dict[\"en_aliases\"] = {}\n",
    "        cnt1 = 0\n",
    "        try:\n",
    "            for d in json_dict['entities'][file][\"aliases\"][\"en\"]:\n",
    "                bird_dict[\"en_aliases\"][cnt1] = d[\"value\"]\n",
    "                cnt1 = cnt1 + 1\n",
    "        except:\n",
    "            pass\n",
    "\n",
    "        bird_dict[\"ja_aliases\"] = {}\n",
    "        cnt2 = 0\n",
    "        try:\n",
    "            for d in json_dict['entities'][file][\"aliases\"][\"ja\"]:\n",
    "                bird_dict[\"ja_aliases\"][cnt2]=d[\"value\"]\n",
    "                cnt2 = cnt2 + 1\n",
    "        except:\n",
    "            pass\n",
    "\n",
    "\n",
    "        bird_dict[\"img_urls\"] = {}\n",
    "        cnt3 = 0\n",
    "        try:\n",
    "            for img in json_dict['entities'][file][\"claims\"][\"P18\"]:\n",
    "                img_url = url+\"#/media/File:\"+img[\"mainsnak\"][\"datavalue\"][\"value\"].replace(\" \",\"%20\")\n",
    "                bird_dict[\"img_urls\"][cnt3]=img_url\n",
    "                cnt3 = cnt3 + 1\n",
    "        except:\n",
    "            pass\n",
    "\n",
    "        try:\n",
    "            bird_dict[\"taxon_rank\"] = json_dict['entities'][file][\"claims\"][\"P105\"][0][\"mainsnak\"][\"datavalue\"][\"value\"][\"id\"]\n",
    "        except:\n",
    "            bird_dict[\"taxon_rank\"] = None\n",
    "            logmaker(file_dir,file,\"taxon_rank\")\n",
    "\n",
    "        try:\n",
    "            bird_dict[\"taxon_name\"] = json_dict['entities'][file][\"claims\"][\"P225\"][0][\"mainsnak\"][\"datavalue\"][\"value\"]\n",
    "        except:\n",
    "            bird_dict[\"taxon_name\"] = None\n",
    "            logmaker(file_dir,file,\"taxon_name\")\n",
    "\n",
    "        try:\n",
    "            bird_dict[\"parent_taxon\"] = json_dict['entities'][file][\"claims\"][\"P171\"][0][\"mainsnak\"][\"datavalue\"][\"value\"][\"id\"]\n",
    "        except:\n",
    "            bird_dict[\"parent_taxon\"] = None\n",
    "            logmaker(file_dir,file,\"parent_taxon\")\n",
    "        all_bird_dict.append(bird_dict)\n",
    "\n",
    "\n",
    "    with open(\"data_extract/\"+file_dir+\".pickle\", 'wb') as bf:\n",
    "        pickle.dump(all_bird_dict,bf)"
   ]
  },
  {
   "cell_type": "code",
   "execution_count": 21,
   "metadata": {},
   "outputs": [],
   "source": [
    "# for i in [2,3,4,5,6,7,8]:\n",
    "#     Make_jsonpikle(\"data_json_\"+str(i))"
   ]
  },
  {
   "cell_type": "code",
   "execution_count": null,
   "metadata": {},
   "outputs": [],
   "source": [
    "# この時点でdata_json_**は不要なのでtrushへ"
   ]
  },
  {
   "cell_type": "code",
   "execution_count": 22,
   "metadata": {},
   "outputs": [
    {
     "name": "stdout",
     "output_type": "stream",
     "text": [
      "19 / 20"
     ]
    }
   ],
   "source": [
    "for i in [99]:\n",
    "    Make_jsonpikle(\"data_json_\"+str(i))"
   ]
  },
  {
   "cell_type": "code",
   "execution_count": null,
   "metadata": {},
   "outputs": [],
   "source": []
  }
 ],
 "metadata": {
  "kernelspec": {
   "display_name": "Python 3",
   "language": "python",
   "name": "python3"
  },
  "language_info": {
   "codemirror_mode": {
    "name": "ipython",
    "version": 3
   },
   "file_extension": ".py",
   "mimetype": "text/x-python",
   "name": "python",
   "nbconvert_exporter": "python",
   "pygments_lexer": "ipython3",
   "version": "3.9.0"
  }
 },
 "nbformat": 4,
 "nbformat_minor": 4
}
