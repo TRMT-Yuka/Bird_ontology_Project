{
 "cells": [
  {
   "cell_type": "markdown",
   "metadata": {},
   "source": [
    "# IDのみでグラフを作成してみよう"
   ]
  },
  {
   "cell_type": "code",
   "execution_count": 16,
   "metadata": {},
   "outputs": [],
   "source": [
    "#辞書データ\n",
    "import pickle\n",
    "with open(\"data_extract/ontology_path.pickle\", 'rb') as f:\n",
    "    data = pickle.load(f)"
   ]
  },
  {
   "cell_type": "code",
   "execution_count": 18,
   "metadata": {},
   "outputs": [
    {
     "data": {
      "text/plain": [
       "{'id': 'Q1001586',\n",
       " 'en_name': \"Finsch's Francolin\",\n",
       " 'ja_name': 'チャバネシャコ',\n",
       " 'en_aliases': 'Francolinus finschi,Scleroptila finschi',\n",
       " 'ja_aliases': '',\n",
       " 'img_urls': '',\n",
       " 'taxon_rank': 'Q7432',\n",
       " 'taxon_name': 'Scleroptila finschi',\n",
       " 'parent_taxon': 'Q1286431',\n",
       " 'taxon_rank_name': 'species',\n",
       " 'taxon_rank_ja_name': '種',\n",
       " 'parent_taxon_name': 'Scleroptila',\n",
       " 'parent_taxon_ja_name': None,\n",
       " 'path': 'Q1286431/Q1001586',\n",
       " 'ja_path_name': 'Scleroptila/チャバネシャコ',\n",
       " 'en_path_name': \"Scleroptila/Finsch's Francolin\",\n",
       " 'path_taxon_rank_name': '/species'}"
      ]
     },
     "execution_count": 18,
     "metadata": {},
     "output_type": "execute_result"
    }
   ],
   "source": [
    "data[0]"
   ]
  },
  {
   "cell_type": "code",
   "execution_count": 51,
   "metadata": {},
   "outputs": [],
   "source": [
    "nodes = []\n",
    "for d in data:\n",
    "    if d[\"parent_taxon\"] != None:\n",
    "        if d[\"ja_name\"] == None and d[\"en_name\"] == None:\n",
    "            nodes.append([d[\"id\"],d[\"id\"]+\"_\"])\n",
    "        elif d[\"ja_name\"] == None:\n",
    "            nodes.append([d[\"id\"],d[\"id\"]+\"_\"+d[\"en_name\"]])\n",
    "        else:\n",
    "            nodes.append([d[\"id\"],d[\"id\"]+\"_\"+d[\"ja_name\"]])"
   ]
  },
  {
   "cell_type": "code",
   "execution_count": 55,
   "metadata": {},
   "outputs": [
    {
     "data": {
      "text/plain": [
       "[['Q1001586', 'Q1001586_チャバネシャコ'],\n",
       " ['Q1004802', 'Q1004802_アオボウシエメラルドハチドリ'],\n",
       " ['Q1004833', 'Q1004833_アカカンムリハチドリ']]"
      ]
     },
     "execution_count": 55,
     "metadata": {},
     "output_type": "execute_result"
    }
   ],
   "source": [
    "nodes[0:3]"
   ]
  },
  {
   "cell_type": "code",
   "execution_count": 52,
   "metadata": {},
   "outputs": [],
   "source": [
    "edges = []\n",
    "cnt = 0\n",
    "for d in data:\n",
    "    cnt = 1\n",
    "    if d[\"parent_taxon\"] != None:\n",
    "        edges.append([d[\"id\"],d[\"parent_taxon\"]])"
   ]
  },
  {
   "cell_type": "code",
   "execution_count": 56,
   "metadata": {},
   "outputs": [],
   "source": [
    "import csv\n",
    "fields = ['id','Label'] \n",
    "with open('data_graph/nodes_mini.csv', 'w',encoding='utf-8') as f:\n",
    "    write = csv.writer(f)\n",
    "    write.writerow(fields)\n",
    "    write.writerows(nodes)"
   ]
  },
  {
   "cell_type": "code",
   "execution_count": 57,
   "metadata": {},
   "outputs": [],
   "source": [
    "fields = ['Source','Target',] \n",
    "with open('data_graph/edges_mini.csv', 'w',encoding='utf-8') as f:\n",
    "    write = csv.writer(f)\n",
    "    write.writerow(fields)\n",
    "    write.writerows(edges[:10])"
   ]
  },
  {
   "cell_type": "code",
   "execution_count": 11,
   "metadata": {},
   "outputs": [],
   "source": [
    "parents = set()\n",
    "children = {}\n",
    "for c,p in ancestry:\n",
    "    parents.add(p)\n",
    "    children[c] = p\n",
    "# recursively determine parents until child has no parent\n",
    "def ancestors(p):\n",
    "    return (ancestors(children[p]) if p in children else []) + [p]\n",
    "# for each child that has no children print the geneology"
   ]
  },
  {
   "cell_type": "code",
   "execution_count": 4,
   "metadata": {},
   "outputs": [],
   "source": [
    "import pandas as pd\n",
    "import matplotlib.pyplot as plt\n",
    "import japanize_matplotlib\n",
    "import seaborn as sns\n",
    "from pyvis.network import Network\n",
    "import networkx as nx\n",
    "%matplotlib inline"
   ]
  },
  {
   "cell_type": "code",
   "execution_count": 15,
   "metadata": {},
   "outputs": [],
   "source": [
    "G = nx.DiGraph()  # 有向グラフ (Directed Graph)\n",
    "\n",
    "for item in ancestry:\n",
    "    nx.add_path(G, item)# 1 → 2 → 3 → 4 → 5\n",
    "\n",
    "g = Network(directed=True)  # Trueにすると有向グラフ。デフォルトはFalseで無向グラフ)\n",
    "g.from_nx(G)\n",
    "# g.show(\"data_graph/all_ID.html\")# グラフをhtmlで出力"
   ]
  },
  {
   "cell_type": "code",
   "execution_count": 38,
   "metadata": {},
   "outputs": [],
   "source": [
    "# print(type(g))"
   ]
  },
  {
   "cell_type": "code",
   "execution_count": 6,
   "metadata": {},
   "outputs": [],
   "source": [
    "# for k in (set(children.keys()) - parents):\n",
    "#     print('/'.join(ancestors(k)))"
   ]
  },
  {
   "cell_type": "code",
   "execution_count": 7,
   "metadata": {},
   "outputs": [],
   "source": [
    "# !pip install graphviz"
   ]
  },
  {
   "cell_type": "code",
   "execution_count": null,
   "metadata": {},
   "outputs": [],
   "source": [
    "# from graphviz import Digraph\n",
    "\n",
    "# G = Digraph(format=\"png\")\n",
    "# G.attr(\"node\", shape=\"circle\")\n",
    "\n",
    "# for i,j in ancestry:\n",
    "#     G.edge(str(i), str(j))\n",
    "# G.render(\"tree\")"
   ]
  },
  {
   "cell_type": "code",
   "execution_count": null,
   "metadata": {},
   "outputs": [],
   "source": [
    "from matplotlib import pylab\n",
    "import networkx as nx\n",
    "\n",
    "def save_graph(graph,file_name):\n",
    "#initialze Figure\n",
    "    plt.figure(num=None, figsize=(20, 20), dpi=80)\n",
    "    plt.axis('off')\n",
    "    fig = plt.figure(1)\n",
    "    pos = nx.spring_layout(graph)\n",
    "    nx.draw_networkx_nodes(graph,pos)\n",
    "    nx.draw_networkx_edges(graph,pos)\n",
    "    nx.draw_networkx_labels(graph,pos)\n",
    "\n",
    "    cut = 1.00\n",
    "    xmax = cut * max(xx for xx, yy in pos.values())\n",
    "    ymax = cut * max(yy for xx, yy in pos.values())\n",
    "    plt.xlim(0, xmax)\n",
    "    plt.ylim(0, ymax)\n",
    "\n",
    "    plt.savefig(file_name,bbox_inches=\"tight\")\n",
    "    pylab.close()\n",
    "    del fig\n",
    "\n",
    "#Assuming that the graph g has nodes and edges entered\n",
    "save_graph(G,\"my_graph.pdf\")\n"
   ]
  },
  {
   "cell_type": "code",
   "execution_count": null,
   "metadata": {},
   "outputs": [],
   "source": []
  }
 ],
 "metadata": {
  "kernelspec": {
   "display_name": "Python 3",
   "language": "python",
   "name": "python3"
  },
  "language_info": {
   "codemirror_mode": {
    "name": "ipython",
    "version": 3
   },
   "file_extension": ".py",
   "mimetype": "text/x-python",
   "name": "python",
   "nbconvert_exporter": "python",
   "pygments_lexer": "ipython3",
   "version": "3.9.0"
  }
 },
 "nbformat": 4,
 "nbformat_minor": 4
}
