{
 "cells": [
  {
   "cell_type": "markdown",
   "metadata": {},
   "source": [
    "# IDのみでグラフを作成してみよう"
   ]
  },
  {
   "cell_type": "code",
   "execution_count": 1,
   "metadata": {},
   "outputs": [],
   "source": [
    "#辞書データ\n",
    "import pickle\n",
    "with open(\"data_extract/ontology_path.pickle\", 'rb') as f:\n",
    "    data = pickle.load(f)"
   ]
  },
  {
   "cell_type": "code",
   "execution_count": 7,
   "metadata": {},
   "outputs": [],
   "source": [
    "ancestry = []\n",
    "for d in data:\n",
    "    if d[\"parent_taxon\"] != None:\n",
    "        ancestry.append([d[\"id\"],d[\"parent_taxon\"]])"
   ]
  },
  {
   "cell_type": "code",
   "execution_count": 9,
   "metadata": {},
   "outputs": [],
   "source": [
    "parents = set()\n",
    "children = {}\n",
    "for c,p in ancestry:\n",
    "    parents.add(p)\n",
    "    children[c] = p\n",
    "# recursively determine parents until child has no parent\n",
    "def ancestors(p):\n",
    "    return (ancestors(children[p]) if p in children else []) + [p]\n",
    "# for each child that has no children print the geneology"
   ]
  },
  {
   "cell_type": "code",
   "execution_count": 14,
   "metadata": {},
   "outputs": [],
   "source": [
    "import pandas as pd\n",
    "import matplotlib.pyplot as plt\n",
    "import japanize_matplotlib\n",
    "import seaborn as sns\n",
    "from pyvis.network import Network\n",
    "import networkx as nx\n",
    "%matplotlib inline"
   ]
  },
  {
   "cell_type": "code",
   "execution_count": 19,
   "metadata": {},
   "outputs": [],
   "source": [
    "G = nx.DiGraph()  # 有向グラフ (Directed Graph)\n",
    "\n",
    "for item in ancestry:\n",
    "    nx.add_path(G, item)# 1 → 2 → 3 → 4 → 5\n",
    "\n",
    "g = Network(directed=True)  # Trueにすると有向グラフ。デフォルトはFalseで無向グラフ)\n",
    "g.from_nx(G)\n",
    "g.show(\"data_graph/all_ID.html\")# グラフをhtmlで出力"
   ]
  },
  {
   "cell_type": "code",
   "execution_count": 12,
   "metadata": {},
   "outputs": [],
   "source": [
    "# for k in (set(children.keys()) - parents):\n",
    "#     print('/'.join(ancestors(k)))"
   ]
  },
  {
   "cell_type": "code",
   "execution_count": null,
   "metadata": {},
   "outputs": [],
   "source": []
  },
  {
   "cell_type": "code",
   "execution_count": null,
   "metadata": {},
   "outputs": [],
   "source": []
  }
 ],
 "metadata": {
  "kernelspec": {
   "display_name": "Python 3",
   "language": "python",
   "name": "python3"
  },
  "language_info": {
   "codemirror_mode": {
    "name": "ipython",
    "version": 3
   },
   "file_extension": ".py",
   "mimetype": "text/x-python",
   "name": "python",
   "nbconvert_exporter": "python",
   "pygments_lexer": "ipython3",
   "version": "3.9.0"
  }
 },
 "nbformat": 4,
 "nbformat_minor": 4
}
