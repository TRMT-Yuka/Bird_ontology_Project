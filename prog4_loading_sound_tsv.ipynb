{
 "cells": [
  {
   "cell_type": "markdown",
   "metadata": {},
   "source": [
    "# カタカナの泣き声リスト"
   ]
  },
  {
   "cell_type": "code",
   "execution_count": 119,
   "metadata": {},
   "outputs": [],
   "source": [
    "#辞書データ\n",
    "import pickle\n",
    "with open(\"data_extract/ontology_path.pickle\", 'rb') as f:\n",
    "    data = pickle.load(f)"
   ]
  },
  {
   "cell_type": "code",
   "execution_count": 78,
   "metadata": {},
   "outputs": [],
   "source": [
    "import csv\n",
    "with open('data_external/BirdJPBookDB__data.tsv',encoding='utf-8') as f:\n",
    "    reader = csv.reader(f)\n",
    "    sound_kana = [row[0].split(\"\\t\") for row in reader]"
   ]
  },
  {
   "cell_type": "code",
   "execution_count": 79,
   "metadata": {},
   "outputs": [],
   "source": [
    "col_name = ['audio_id', 'audio_file_path', 'book_id', 'title']\n",
    "\n",
    "sound_kana_d = []\n",
    "for row in sound_kana[1:]:\n",
    "    d = {}\n",
    "    for i in range(len(col_name)):\n",
    "        d[col_name[i]] = row[i]\n",
    "    sound_kana_d.append(d)\n",
    "    \n",
    "for d in sound_kana_d:\n",
    "    bird_name = d[\"title\"].split(\" \")[-1]\n",
    "    d[\"bird_name\"] = bird_name\n",
    "\n",
    "# sound_kana_d = \n",
    "# [{'audio_id': '1_01',\n",
    "#  'path': 'db/日本野鳥大鑑1/01 アビ.wav',\n",
    "#  'book_id': '1',\n",
    "#  'title': '01 アビ',\n",
    "#  'bird_name': 'アビ'}...]"
   ]
  },
  {
   "cell_type": "code",
   "execution_count": 83,
   "metadata": {},
   "outputs": [],
   "source": [
    "ja_data = {}\n",
    "for d in data:\n",
    "    ja_data[d[\"ja_name\"]] = d\n",
    "    \n",
    "# ja_data = {'チャバネシャコ': {'id': 'Q1001586',\n",
    "#   'en_name': \"Finsch's Francolin\",\n",
    "#   'ja_name': 'チャバネシャコ',....."
   ]
  },
  {
   "cell_type": "code",
   "execution_count": 86,
   "metadata": {},
   "outputs": [],
   "source": [
    "for d in sound_kana_d:\n",
    "    if d[\"bird_name\"] in ja_data:\n",
    "        add_d = ja_data[d[\"bird_name\"]]\n",
    "        d[\"id\"] = add_d[\"id\"]\n",
    "        d[\"en_name\"] = add_d[\"en_name\"]\n",
    "        d[\"ja_name\"] = add_d[\"ja_name\"] \n",
    "        d[\"path\"] = add_d[\"path\"]\n",
    "        d[\"ja_path_name\"] = add_d[\"ja_path_name\"]\n",
    "        d[\"en_path_name\"] = add_d[\"en_path_name\"]\n",
    "        d[\"path_taxon_rank_name\"] = add_d[\"path_taxon_rank_name\"]\n",
    "    else:\n",
    "        d[\"id\"] = \"\"\n",
    "        d[\"en_name\"] = \"\"\n",
    "        d[\"ja_name\"] = \"\"\n",
    "        d[\"path\"] = \"\"\n",
    "        d[\"ja_path_name\"] = \"\"\n",
    "        d[\"en_path_name\"] = \"\"\n",
    "        d[\"path_taxon_rank_name\"] = \"\""
   ]
  },
  {
   "cell_type": "code",
   "execution_count": 92,
   "metadata": {},
   "outputs": [
    {
     "data": {
      "text/plain": [
       "dict_keys(['audio_id', 'audio_file_path', 'book_id', 'title', 'bird_name', 'id', 'en_name', 'ja_name', 'path', 'ja_path_name', 'en_path_name', 'path_taxon_rank_name'])"
      ]
     },
     "execution_count": 92,
     "metadata": {},
     "output_type": "execute_result"
    }
   ],
   "source": [
    "sound_kana_d[0].keys()"
   ]
  },
  {
   "cell_type": "code",
   "execution_count": 93,
   "metadata": {},
   "outputs": [],
   "source": [
    "filedname_list = ['audio_id', 'audio_file_path', 'book_id', 'title', 'bird_name', 'id', 'en_name', 'ja_name', 'path', 'ja_path_name', 'en_path_name', 'path_taxon_rank_name']\n",
    "import csv\n",
    "\n",
    "with open('data_extract/voice_kana_path.tsv','w',encoding='utf-8') as csvfile:\n",
    "    writer = csv.DictWriter(csvfile, fieldnames = filedname_list,delimiter = \"\\t\")\n",
    "    writer.writeheader()\n",
    "    writer.writerows(sound_kana_d)"
   ]
  },
  {
   "cell_type": "markdown",
   "metadata": {},
   "source": [
    "# ローマ字の読み方データ"
   ]
  },
  {
   "cell_type": "code",
   "execution_count": 120,
   "metadata": {},
   "outputs": [],
   "source": [
    "#辞書データ\n",
    "import pickle\n",
    "with open(\"data_extract/ontology_path.pickle\", 'rb') as f:\n",
    "    data = pickle.load(f)"
   ]
  },
  {
   "cell_type": "code",
   "execution_count": 121,
   "metadata": {},
   "outputs": [
    {
     "name": "stderr",
     "output_type": "stream",
     "text": [
      "<ipython-input-121-199bc52e4aae>:4: DeprecationWarning: Call to deprecated method setMode. (Old API will be removed in v3.0.) -- Deprecated since version 2.1.\n",
      "  kakasi.setMode('H', 'a') # ひらがなをローマ字に変換するように設定\n",
      "<ipython-input-121-199bc52e4aae>:5: DeprecationWarning: Call to deprecated method setMode. (Old API will be removed in v3.0.) -- Deprecated since version 2.1.\n",
      "  kakasi.setMode('K', 'a') # カタカナをローマ字に変換するように設定\n",
      "<ipython-input-121-199bc52e4aae>:6: DeprecationWarning: Call to deprecated method setMode. (Old API will be removed in v3.0.) -- Deprecated since version 2.1.\n",
      "  kakasi.setMode('J', 'a') # 漢字をローマ字に変換するように設定\n",
      "<ipython-input-121-199bc52e4aae>:7: DeprecationWarning: Call to deprecated method getConverter. (Old API will be removed in v3.0.) -- Deprecated since version 2.1.\n",
      "  conversion = kakasi.getConverter() # 上記モード設定の適用\n",
      "<ipython-input-121-199bc52e4aae>:14: DeprecationWarning: Call to deprecated method do. (Old API will be removed in v3.0.) -- Deprecated since version 2.1.\n",
      "  d[\"romaji_name\"] = conversion.do(d[\"ja_name\"])\n"
     ]
    },
    {
     "name": "stdout",
     "output_type": "stream",
     "text": [
      "oodarumainko                                                                           "
     ]
    }
   ],
   "source": [
    "import pykakasi\n",
    "\n",
    "kakasi = pykakasi.kakasi() # インスタンスの作成\n",
    "kakasi.setMode('H', 'a') # ひらがなをローマ字に変換するように設定\n",
    "kakasi.setMode('K', 'a') # カタカナをローマ字に変換するように設定\n",
    "kakasi.setMode('J', 'a') # 漢字をローマ字に変換するように設定\n",
    "conversion = kakasi.getConverter() # 上記モード設定の適用\n",
    "\n",
    "\n",
    "for d in data:\n",
    "    if \"romaji_name\" in d:\n",
    "        pass\n",
    "    else:\n",
    "        d[\"romaji_name\"] = conversion.do(d[\"ja_name\"])\n",
    "        print('\\r%s                                            ' %(d[\"romaji_name\"]), end='')"
   ]
  },
  {
   "cell_type": "code",
   "execution_count": 101,
   "metadata": {},
   "outputs": [],
   "source": [
    "import csv\n",
    "with open('data_external/BirdResearchDB_label01_32k.tsv',encoding='utf-8') as f:\n",
    "    reader = csv.reader(f)\n",
    "    sound_roma = [row[0].split(\"\\t\") for row in reader]"
   ]
  },
  {
   "cell_type": "code",
   "execution_count": 117,
   "metadata": {},
   "outputs": [],
   "source": [
    "col_name = ['audio_file_path', 'romaji_name']\n",
    "\n",
    "sound_roma_d = []\n",
    "for row in sound_roma:\n",
    "    d = {}\n",
    "    for i in range(len(col_name)):\n",
    "        d[col_name[i]] = row[i]\n",
    "    sound_roma_d.append(d)"
   ]
  },
  {
   "cell_type": "code",
   "execution_count": 98,
   "metadata": {},
   "outputs": [],
   "source": [
    "roma_data = {}\n",
    "for d in data:\n",
    "    roma_data[d[\"romaji_name\"]] = d"
   ]
  },
  {
   "cell_type": "code",
   "execution_count": 123,
   "metadata": {},
   "outputs": [],
   "source": [
    "for d in sound_roma_d:\n",
    "    if d[\"romaji_name\"] in roma_data:\n",
    "        add_d = roma_data[d[\"romaji_name\"]]\n",
    "        d[\"id\"] = add_d[\"id\"]\n",
    "        d[\"en_name\"] = add_d[\"en_name\"]\n",
    "        d[\"ja_name\"] = add_d[\"ja_name\"] \n",
    "        d[\"path\"] = add_d[\"path\"]\n",
    "        d[\"ja_path_name\"] = add_d[\"ja_path_name\"]\n",
    "        d[\"en_path_name\"] = add_d[\"en_path_name\"]\n",
    "        d[\"path_taxon_rank_name\"] = add_d[\"path_taxon_rank_name\"]\n",
    "    else:\n",
    "        d[\"id\"] = \"\"\n",
    "        d[\"en_name\"] = \"\"\n",
    "        d[\"ja_name\"] = \"\"\n",
    "        d[\"path\"] = \"\"\n",
    "        d[\"ja_path_name\"] = \"\"\n",
    "        d[\"en_path_name\"] = \"\"\n",
    "        d[\"path_taxon_rank_name\"] = \"\""
   ]
  },
  {
   "cell_type": "code",
   "execution_count": 125,
   "metadata": {},
   "outputs": [
    {
     "data": {
      "text/plain": [
       "dict_keys(['audio_file_path', 'romaji_name', 'id', 'en_name', 'ja_name', 'path', 'ja_path_name', 'en_path_name', 'path_taxon_rank_name'])"
      ]
     },
     "execution_count": 125,
     "metadata": {},
     "output_type": "execute_result"
    }
   ],
   "source": [
    "sound_roma_d[0].keys()"
   ]
  },
  {
   "cell_type": "code",
   "execution_count": 126,
   "metadata": {},
   "outputs": [],
   "source": [
    "filedname_list = ['audio_file_path', 'romaji_name', 'id', 'en_name', 'ja_name', 'path', 'ja_path_name', 'en_path_name', 'path_taxon_rank_name']\n",
    "import csv\n",
    "\n",
    "with open('data_extract/voice_roma_path.tsv','w',encoding='utf-8') as csvfile:\n",
    "    writer = csv.DictWriter(csvfile, fieldnames = filedname_list,delimiter = \"\\t\")\n",
    "    writer.writeheader()\n",
    "    writer.writerows(sound_roma_d)"
   ]
  },
  {
   "cell_type": "code",
   "execution_count": null,
   "metadata": {},
   "outputs": [],
   "source": []
  }
 ],
 "metadata": {
  "kernelspec": {
   "display_name": "Python 3",
   "language": "python",
   "name": "python3"
  },
  "language_info": {
   "codemirror_mode": {
    "name": "ipython",
    "version": 3
   },
   "file_extension": ".py",
   "mimetype": "text/x-python",
   "name": "python",
   "nbconvert_exporter": "python",
   "pygments_lexer": "ipython3",
   "version": "3.9.0"
  }
 },
 "nbformat": 4,
 "nbformat_minor": 4
}
