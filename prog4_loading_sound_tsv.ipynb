{
 "cells": [
  {
   "cell_type": "markdown",
   "metadata": {},
   "source": [
    "# カタカナの泣き声リスト"
   ]
  },
  {
   "cell_type": "code",
   "execution_count": 21,
   "metadata": {},
   "outputs": [],
   "source": [
    "#辞書データ\n",
    "import pickle\n",
    "with open(\"data_extract/ontology_path.pickle\", 'rb') as f:\n",
    "    data = pickle.load(f)"
   ]
  },
  {
   "cell_type": "code",
   "execution_count": 22,
   "metadata": {},
   "outputs": [],
   "source": [
    "import csv\n",
    "with open('data_external/BirdJPBookDB__data.tsv',encoding='utf-8') as f:\n",
    "    reader = csv.reader(f)\n",
    "    sound_kana = [row[0].split(\"\\t\") for row in reader]"
   ]
  },
  {
   "cell_type": "code",
   "execution_count": 23,
   "metadata": {},
   "outputs": [],
   "source": [
    "col_name = ['audio_id', 'audio_file_path', 'book_id', 'title']\n",
    "\n",
    "sound_kana_d = []\n",
    "for row in sound_kana[1:]:\n",
    "    d = {}\n",
    "    for i in range(len(col_name)):\n",
    "        d[col_name[i]] = row[i]\n",
    "    sound_kana_d.append(d)\n",
    "    \n",
    "for d in sound_kana_d:\n",
    "    bird_name = d[\"title\"].split(\" \")[-1]\n",
    "    d[\"bird_name\"] = bird_name\n",
    "\n",
    "# sound_kana_d = \n",
    "# [{'audio_id': '1_01',\n",
    "#  'path': 'db/日本野鳥大鑑1/01 アビ.wav',\n",
    "#  'book_id': '1',\n",
    "#  'title': '01 アビ',\n",
    "#  'bird_name': 'アビ'}...]"
   ]
  },
  {
   "cell_type": "code",
   "execution_count": 24,
   "metadata": {},
   "outputs": [],
   "source": [
    "ja_data = {}\n",
    "for d in data:\n",
    "    ja_data[d[\"ja_name\"]] = d\n",
    "    \n",
    "# ja_data = {'チャバネシャコ': {'id': 'Q1001586',\n",
    "#   'en_name': \"Finsch's Francolin\",\n",
    "#   'ja_name': 'チャバネシャコ',....."
   ]
  },
  {
   "cell_type": "code",
   "execution_count": 25,
   "metadata": {},
   "outputs": [],
   "source": [
    "for d in sound_kana_d:\n",
    "    try:\n",
    "        if d[\"bird_name\"] in ja_data:\n",
    "            add_d = ja_data[d[\"bird_name\"]]\n",
    "            d[\"id\"] = add_d[\"id\"]\n",
    "            d[\"en_name\"] = add_d[\"en_name\"]\n",
    "            d[\"ja_name\"] = add_d[\"ja_name\"] \n",
    "            d[\"path\"] = add_d[\"path\"]\n",
    "            d[\"ja_path_name\"] = add_d[\"ja_path_name\"]\n",
    "            d[\"en_path_name\"] = add_d[\"en_path_name\"]\n",
    "            d[\"path_taxon_rank_name\"] = add_d[\"path_taxon_rank_name\"]\n",
    "        else:\n",
    "            d[\"id\"] = \"\"\n",
    "            d[\"en_name\"] = \"\"\n",
    "            d[\"ja_name\"] = \"\"\n",
    "            d[\"path\"] = \"\"\n",
    "            d[\"ja_path_name\"] = \"\"\n",
    "            d[\"en_path_name\"] = \"\"\n",
    "            d[\"path_taxon_rank_name\"] = \"\"\n",
    "    except:\n",
    "        pass"
   ]
  },
  {
   "cell_type": "code",
   "execution_count": 26,
   "metadata": {},
   "outputs": [
    {
     "data": {
      "text/plain": [
       "dict_keys(['audio_id', 'audio_file_path', 'book_id', 'title', 'bird_name', 'id', 'en_name', 'ja_name', 'path', 'ja_path_name', 'en_path_name', 'path_taxon_rank_name'])"
      ]
     },
     "execution_count": 26,
     "metadata": {},
     "output_type": "execute_result"
    }
   ],
   "source": [
    "sound_kana_d[0].keys()"
   ]
  },
  {
   "cell_type": "code",
   "execution_count": 27,
   "metadata": {},
   "outputs": [],
   "source": [
    "filedname_list = ['audio_id', 'audio_file_path', 'book_id', 'title', 'bird_name', 'id', 'en_name', 'ja_name', 'path', 'ja_path_name', 'en_path_name', 'path_taxon_rank_name']\n",
    "import csv\n",
    "\n",
    "with open('data_extract/voice_kana_path.tsv','w',encoding='utf-8') as csvfile:\n",
    "    writer = csv.DictWriter(csvfile, fieldnames = filedname_list,delimiter = \"\\t\")\n",
    "    writer.writeheader()\n",
    "    writer.writerows(sound_kana_d)"
   ]
  },
  {
   "cell_type": "markdown",
   "metadata": {},
   "source": [
    "# ローマ字の読み方データ"
   ]
  },
  {
   "cell_type": "code",
   "execution_count": 28,
   "metadata": {},
   "outputs": [],
   "source": [
    "#辞書データ\n",
    "import pickle\n",
    "with open(\"data_extract/ontology_path.pickle\", 'rb') as f:\n",
    "    data = pickle.load(f)"
   ]
  },
  {
   "cell_type": "code",
   "execution_count": 29,
   "metadata": {},
   "outputs": [
    {
     "name": "stdout",
     "output_type": "stream",
     "text": [
      "akakanmurihachidori                                                   "
     ]
    },
    {
     "name": "stderr",
     "output_type": "stream",
     "text": [
      "<ipython-input-29-199bc52e4aae>:4: DeprecationWarning: Call to deprecated method setMode. (Old API will be removed in v3.0.) -- Deprecated since version 2.1.\n",
      "  kakasi.setMode('H', 'a') # ひらがなをローマ字に変換するように設定\n",
      "<ipython-input-29-199bc52e4aae>:5: DeprecationWarning: Call to deprecated method setMode. (Old API will be removed in v3.0.) -- Deprecated since version 2.1.\n",
      "  kakasi.setMode('K', 'a') # カタカナをローマ字に変換するように設定\n",
      "<ipython-input-29-199bc52e4aae>:6: DeprecationWarning: Call to deprecated method setMode. (Old API will be removed in v3.0.) -- Deprecated since version 2.1.\n",
      "  kakasi.setMode('J', 'a') # 漢字をローマ字に変換するように設定\n",
      "<ipython-input-29-199bc52e4aae>:7: DeprecationWarning: Call to deprecated method getConverter. (Old API will be removed in v3.0.) -- Deprecated since version 2.1.\n",
      "  conversion = kakasi.getConverter() # 上記モード設定の適用\n",
      "<ipython-input-29-199bc52e4aae>:14: DeprecationWarning: Call to deprecated method do. (Old API will be removed in v3.0.) -- Deprecated since version 2.1.\n",
      "  d[\"romaji_name\"] = conversion.do(d[\"ja_name\"])\n"
     ]
    },
    {
     "ename": "TypeError",
     "evalue": "object of type 'NoneType' has no len()",
     "output_type": "error",
     "traceback": [
      "\u001b[1;31m---------------------------------------------------------------------------\u001b[0m",
      "\u001b[1;31mTypeError\u001b[0m                                 Traceback (most recent call last)",
      "\u001b[1;32m<ipython-input-29-199bc52e4aae>\u001b[0m in \u001b[0;36m<module>\u001b[1;34m\u001b[0m\n\u001b[0;32m     12\u001b[0m         \u001b[1;32mpass\u001b[0m\u001b[1;33m\u001b[0m\u001b[1;33m\u001b[0m\u001b[0m\n\u001b[0;32m     13\u001b[0m     \u001b[1;32melse\u001b[0m\u001b[1;33m:\u001b[0m\u001b[1;33m\u001b[0m\u001b[1;33m\u001b[0m\u001b[0m\n\u001b[1;32m---> 14\u001b[1;33m         \u001b[0md\u001b[0m\u001b[1;33m[\u001b[0m\u001b[1;34m\"romaji_name\"\u001b[0m\u001b[1;33m]\u001b[0m \u001b[1;33m=\u001b[0m \u001b[0mconversion\u001b[0m\u001b[1;33m.\u001b[0m\u001b[0mdo\u001b[0m\u001b[1;33m(\u001b[0m\u001b[0md\u001b[0m\u001b[1;33m[\u001b[0m\u001b[1;34m\"ja_name\"\u001b[0m\u001b[1;33m]\u001b[0m\u001b[1;33m)\u001b[0m\u001b[1;33m\u001b[0m\u001b[1;33m\u001b[0m\u001b[0m\n\u001b[0m\u001b[0;32m     15\u001b[0m         \u001b[0mprint\u001b[0m\u001b[1;33m(\u001b[0m\u001b[1;34m'\\r%s                                            '\u001b[0m \u001b[1;33m%\u001b[0m\u001b[1;33m(\u001b[0m\u001b[0md\u001b[0m\u001b[1;33m[\u001b[0m\u001b[1;34m\"romaji_name\"\u001b[0m\u001b[1;33m]\u001b[0m\u001b[1;33m)\u001b[0m\u001b[1;33m,\u001b[0m \u001b[0mend\u001b[0m\u001b[1;33m=\u001b[0m\u001b[1;34m''\u001b[0m\u001b[1;33m)\u001b[0m\u001b[1;33m\u001b[0m\u001b[1;33m\u001b[0m\u001b[0m\n",
      "\u001b[1;32mc:\\users\\teramoto\\appdata\\local\\programs\\python\\python39\\lib\\site-packages\\deprecated\\classic.py\u001b[0m in \u001b[0;36mwrapper_function\u001b[1;34m(wrapped_, instance_, args_, kwargs_)\u001b[0m\n\u001b[0;32m    283\u001b[0m                 \u001b[1;32melse\u001b[0m\u001b[1;33m:\u001b[0m\u001b[1;33m\u001b[0m\u001b[1;33m\u001b[0m\u001b[0m\n\u001b[0;32m    284\u001b[0m                     \u001b[0mwarnings\u001b[0m\u001b[1;33m.\u001b[0m\u001b[0mwarn\u001b[0m\u001b[1;33m(\u001b[0m\u001b[0mmsg\u001b[0m\u001b[1;33m,\u001b[0m \u001b[0mcategory\u001b[0m\u001b[1;33m=\u001b[0m\u001b[0mcategory\u001b[0m\u001b[1;33m,\u001b[0m \u001b[0mstacklevel\u001b[0m\u001b[1;33m=\u001b[0m\u001b[0m_routine_stacklevel\u001b[0m\u001b[1;33m)\u001b[0m\u001b[1;33m\u001b[0m\u001b[1;33m\u001b[0m\u001b[0m\n\u001b[1;32m--> 285\u001b[1;33m                 \u001b[1;32mreturn\u001b[0m \u001b[0mwrapped_\u001b[0m\u001b[1;33m(\u001b[0m\u001b[1;33m*\u001b[0m\u001b[0margs_\u001b[0m\u001b[1;33m,\u001b[0m \u001b[1;33m**\u001b[0m\u001b[0mkwargs_\u001b[0m\u001b[1;33m)\u001b[0m\u001b[1;33m\u001b[0m\u001b[1;33m\u001b[0m\u001b[0m\n\u001b[0m\u001b[0;32m    286\u001b[0m \u001b[1;33m\u001b[0m\u001b[0m\n\u001b[0;32m    287\u001b[0m             \u001b[1;32mreturn\u001b[0m \u001b[0mwrapper_function\u001b[0m\u001b[1;33m(\u001b[0m\u001b[0mwrapped\u001b[0m\u001b[1;33m)\u001b[0m\u001b[1;33m\u001b[0m\u001b[1;33m\u001b[0m\u001b[0m\n",
      "\u001b[1;32mc:\\users\\teramoto\\appdata\\local\\programs\\python\\python39\\lib\\site-packages\\pykakasi\\legacy.py\u001b[0m in \u001b[0;36mdo\u001b[1;34m(self, text)\u001b[0m\n\u001b[0;32m    116\u001b[0m         \u001b[0mi\u001b[0m \u001b[1;33m=\u001b[0m \u001b[1;36m0\u001b[0m\u001b[1;33m\u001b[0m\u001b[1;33m\u001b[0m\u001b[0m\n\u001b[0;32m    117\u001b[0m         \u001b[1;32mwhile\u001b[0m \u001b[1;32mTrue\u001b[0m\u001b[1;33m:\u001b[0m\u001b[1;33m\u001b[0m\u001b[1;33m\u001b[0m\u001b[0m\n\u001b[1;32m--> 118\u001b[1;33m             \u001b[1;32mif\u001b[0m \u001b[0mi\u001b[0m \u001b[1;33m>=\u001b[0m \u001b[0mlen\u001b[0m\u001b[1;33m(\u001b[0m\u001b[0mtext\u001b[0m\u001b[1;33m)\u001b[0m\u001b[1;33m:\u001b[0m\u001b[1;33m\u001b[0m\u001b[1;33m\u001b[0m\u001b[0m\n\u001b[0m\u001b[0;32m    119\u001b[0m                 \u001b[1;32mbreak\u001b[0m\u001b[1;33m\u001b[0m\u001b[1;33m\u001b[0m\u001b[0m\n\u001b[0;32m    120\u001b[0m \u001b[1;33m\u001b[0m\u001b[0m\n",
      "\u001b[1;31mTypeError\u001b[0m: object of type 'NoneType' has no len()"
     ]
    }
   ],
   "source": [
    "import pykakasi\n",
    "\n",
    "kakasi = pykakasi.kakasi() # インスタンスの作成\n",
    "kakasi.setMode('H', 'a') # ひらがなをローマ字に変換するように設定\n",
    "kakasi.setMode('K', 'a') # カタカナをローマ字に変換するように設定\n",
    "kakasi.setMode('J', 'a') # 漢字をローマ字に変換するように設定\n",
    "conversion = kakasi.getConverter() # 上記モード設定の適用\n",
    "\n",
    "\n",
    "for d in data:\n",
    "    try:\n",
    "    if \"romaji_name\" in d:\n",
    "        pass\n",
    "    else:\n",
    "        d[\"romaji_name\"] = conversion.do(d[\"ja_name\"])\n",
    "        print('\\r%s                                            ' %(d[\"romaji_name\"]), end='')"
   ]
  },
  {
   "cell_type": "code",
   "execution_count": 17,
   "metadata": {},
   "outputs": [],
   "source": [
    "import csv\n",
    "with open('data_external/BirdResearchDB_label01_32k.tsv',encoding='utf-8') as f:\n",
    "    reader = csv.reader(f)\n",
    "    sound_roma = [row[0].split(\"\\t\") for row in reader]"
   ]
  },
  {
   "cell_type": "code",
   "execution_count": 18,
   "metadata": {},
   "outputs": [],
   "source": [
    "col_name = ['audio_file_path', 'romaji_name']\n",
    "\n",
    "sound_roma_d = []\n",
    "for row in sound_roma:\n",
    "    d = {}\n",
    "    for i in range(len(col_name)):\n",
    "        d[col_name[i]] = row[i]\n",
    "    sound_roma_d.append(d)"
   ]
  },
  {
   "cell_type": "code",
   "execution_count": 13,
   "metadata": {},
   "outputs": [
    {
     "ename": "KeyError",
     "evalue": "'romaji_name'",
     "output_type": "error",
     "traceback": [
      "\u001b[1;31m---------------------------------------------------------------------------\u001b[0m",
      "\u001b[1;31mKeyError\u001b[0m                                  Traceback (most recent call last)",
      "\u001b[1;32m<ipython-input-13-8a121ce41312>\u001b[0m in \u001b[0;36m<module>\u001b[1;34m\u001b[0m\n\u001b[0;32m      1\u001b[0m \u001b[0mroma_data\u001b[0m \u001b[1;33m=\u001b[0m \u001b[1;33m{\u001b[0m\u001b[1;33m}\u001b[0m\u001b[1;33m\u001b[0m\u001b[1;33m\u001b[0m\u001b[0m\n\u001b[0;32m      2\u001b[0m \u001b[1;32mfor\u001b[0m \u001b[0md\u001b[0m \u001b[1;32min\u001b[0m \u001b[0mdata\u001b[0m\u001b[1;33m:\u001b[0m\u001b[1;33m\u001b[0m\u001b[1;33m\u001b[0m\u001b[0m\n\u001b[1;32m----> 3\u001b[1;33m     \u001b[0mroma_data\u001b[0m\u001b[1;33m[\u001b[0m\u001b[0md\u001b[0m\u001b[1;33m[\u001b[0m\u001b[1;34m\"romaji_name\"\u001b[0m\u001b[1;33m]\u001b[0m\u001b[1;33m]\u001b[0m \u001b[1;33m=\u001b[0m \u001b[0md\u001b[0m\u001b[1;33m\u001b[0m\u001b[1;33m\u001b[0m\u001b[0m\n\u001b[0m",
      "\u001b[1;31mKeyError\u001b[0m: 'romaji_name'"
     ]
    }
   ],
   "source": [
    "roma_data = {}\n",
    "for d in data:\n",
    "    roma_data[d[\"romaji_name\"]] = d"
   ]
  },
  {
   "cell_type": "code",
   "execution_count": 14,
   "metadata": {},
   "outputs": [],
   "source": [
    "for d in sound_roma_d:\n",
    "    if d[\"romaji_name\"] in roma_data:\n",
    "        add_d = roma_data[d[\"romaji_name\"]]\n",
    "        d[\"id\"] = add_d[\"id\"]\n",
    "        d[\"en_name\"] = add_d[\"en_name\"]\n",
    "        d[\"ja_name\"] = add_d[\"ja_name\"] \n",
    "        d[\"path\"] = add_d[\"path\"]\n",
    "        d[\"ja_path_name\"] = add_d[\"ja_path_name\"]\n",
    "        d[\"en_path_name\"] = add_d[\"en_path_name\"]\n",
    "        d[\"path_taxon_rank_name\"] = add_d[\"path_taxon_rank_name\"]\n",
    "    else:\n",
    "        d[\"id\"] = \"\"\n",
    "        d[\"en_name\"] = \"\"\n",
    "        d[\"ja_name\"] = \"\"\n",
    "        d[\"path\"] = \"\"\n",
    "        d[\"ja_path_name\"] = \"\"\n",
    "        d[\"en_path_name\"] = \"\"\n",
    "        d[\"path_taxon_rank_name\"] = \"\""
   ]
  },
  {
   "cell_type": "code",
   "execution_count": 15,
   "metadata": {},
   "outputs": [
    {
     "ename": "IndexError",
     "evalue": "list index out of range",
     "output_type": "error",
     "traceback": [
      "\u001b[1;31m---------------------------------------------------------------------------\u001b[0m",
      "\u001b[1;31mIndexError\u001b[0m                                Traceback (most recent call last)",
      "\u001b[1;32m<ipython-input-15-7901fa1ec357>\u001b[0m in \u001b[0;36m<module>\u001b[1;34m\u001b[0m\n\u001b[1;32m----> 1\u001b[1;33m \u001b[0msound_roma_d\u001b[0m\u001b[1;33m[\u001b[0m\u001b[1;36m0\u001b[0m\u001b[1;33m]\u001b[0m\u001b[1;33m.\u001b[0m\u001b[0mkeys\u001b[0m\u001b[1;33m(\u001b[0m\u001b[1;33m)\u001b[0m\u001b[1;33m\u001b[0m\u001b[1;33m\u001b[0m\u001b[0m\n\u001b[0m",
      "\u001b[1;31mIndexError\u001b[0m: list index out of range"
     ]
    }
   ],
   "source": [
    "sound_roma_d[0].keys()"
   ]
  },
  {
   "cell_type": "code",
   "execution_count": 16,
   "metadata": {},
   "outputs": [],
   "source": [
    "filedname_list = ['audio_file_path', 'romaji_name', 'id', 'en_name', 'ja_name', 'path', 'ja_path_name', 'en_path_name', 'path_taxon_rank_name']\n",
    "import csv\n",
    "\n",
    "with open('data_extract/voice_roma_path.tsv','w',encoding='utf-8') as csvfile:\n",
    "    writer = csv.DictWriter(csvfile, fieldnames = filedname_list,delimiter = \"\\t\")\n",
    "    writer.writeheader()\n",
    "    writer.writerows(sound_roma_d)"
   ]
  },
  {
   "cell_type": "code",
   "execution_count": null,
   "metadata": {},
   "outputs": [],
   "source": []
  },
  {
   "cell_type": "code",
   "execution_count": null,
   "metadata": {},
   "outputs": [],
   "source": []
  }
 ],
 "metadata": {
  "kernelspec": {
   "display_name": "Python 3",
   "language": "python",
   "name": "python3"
  },
  "language_info": {
   "codemirror_mode": {
    "name": "ipython",
    "version": 3
   },
   "file_extension": ".py",
   "mimetype": "text/x-python",
   "name": "python",
   "nbconvert_exporter": "python",
   "pygments_lexer": "ipython3",
   "version": "3.9.0"
  }
 },
 "nbformat": 4,
 "nbformat_minor": 4
}
