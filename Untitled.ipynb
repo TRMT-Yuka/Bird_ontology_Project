{
 "cells": [
  {
   "cell_type": "code",
   "execution_count": 2,
   "metadata": {},
   "outputs": [],
   "source": [
    "with open('query.tsv', 'r', encoding='UTF-8') as f:\n",
    "    data = f.readlines()"
   ]
  },
  {
   "cell_type": "code",
   "execution_count": 3,
   "metadata": {},
   "outputs": [],
   "source": [
    "data_list = [item.replace(\"\\n\",\"\") for item in data[1:]]"
   ]
  },
  {
   "cell_type": "code",
   "execution_count": 4,
   "metadata": {},
   "outputs": [],
   "source": [
    "ID_list = [item.replace(\"http://www.wikidata.org/entity/\",\"\") for item in data_list]"
   ]
  },
  {
   "cell_type": "code",
   "execution_count": 7,
   "metadata": {},
   "outputs": [],
   "source": [
    "with open('sh1_makejson.sh', 'w', encoding='UTF-8') as f:\n",
    "    f.write(\"#!/bin/bash\\n\")\n",
    "    \n",
    "    for i in ID_list:\n",
    "        command = \"curl -sLH 'Accept: application/json' http://www.wikidata.org/entity/\"+i+\" | jq . > data_json/\"+i+\".json\"\n",
    "        f.write(command+\"\\n\")\n",
    "# sh1_makejson.shをコマンドラインで実行"
   ]
  },
  {
   "cell_type": "code",
   "execution_count": 11,
   "metadata": {},
   "outputs": [],
   "source": [
    "# 試算結果：全てのデータの収集に三日かかる"
   ]
  },
  {
   "cell_type": "code",
   "execution_count": null,
   "metadata": {},
   "outputs": [],
   "source": [
    "# 作成完了したデータのみdata_json_1に移動"
   ]
  },
  {
   "cell_type": "code",
   "execution_count": null,
   "metadata": {},
   "outputs": [],
   "source": [
    "# url,\n",
    "# 英語名,\n",
    "# 日本語名,\n",
    "# 別名（英語, \n",
    "# 別名（日本語, \n",
    "# taxon rank#P105\n",
    "# taxon name#P225\n",
    "# parent taxon#P171\n",
    "# image url#P18"
   ]
  },
  {
   "cell_type": "code",
   "execution_count": 128,
   "metadata": {},
   "outputs": [],
   "source": [
    "file_dir = \"data_json_2\""
   ]
  },
  {
   "cell_type": "code",
   "execution_count": null,
   "metadata": {},
   "outputs": [],
   "source": []
  },
  {
   "cell_type": "code",
   "execution_count": null,
   "metadata": {},
   "outputs": [
    {
     "name": "stdout",
     "output_type": "stream",
     "text": [
      "5154 / 5941"
     ]
    }
   ],
   "source": [
    "import os\n",
    "import json\n",
    "import pickle\n",
    "\n",
    "def logmaker(file,error):\n",
    "    with open('data_extract/log/'+file_dir+\"/\"+file+\"_log.txt\", 'w',encoding=\"utf-8\") as log_f:\n",
    "        log_f.write(error+\"\\n\")\n",
    "        \n",
    "files = os.listdir(file_dir)\n",
    "files_1 = [file.replace(\".json\",\"\") for file in files]\n",
    "all_bird_dict = []\n",
    "\n",
    "for i in range(len(files_1)):\n",
    "    file = files_1[i]\n",
    "    print('\\r%d / %d' %(i, len(files_1)), end='')\n",
    "    \n",
    "    try:\n",
    "        with open(file_dir+'/'+file+\".json\", 'r',encoding=\"utf-8\") as rf:\n",
    "            json_dict = json.load(rf)\n",
    "    except:\n",
    "        logmaker(file,\"read json\")\n",
    "        continue\n",
    "        \n",
    "\n",
    "    bird_dict = {}\n",
    "    url = \"https://www.wikidata.org/wiki/\"+file\n",
    "    try:\n",
    "        bird_dict[\"en_name\"] = json_dict['entities'][file][\"labels\"][\"en\"][\"value\"]\n",
    "    except:\n",
    "        bird_dict[\"en_name\"] = \"\"\n",
    "        logmaker(file,\"en_name\")\n",
    "    try:\n",
    "        bird_dict[\"jp_name\"] = json_dict['entities'][file][\"labels\"][\"jp\"][\"value\"]\n",
    "    except:\n",
    "        bird_dict[\"jp_name\"] = \"\"\n",
    "\n",
    "    bird_dict[\"en_aliases\"] = set()\n",
    "    try:\n",
    "        for d in json_dict['entities'][file][\"aliases\"][\"en\"]:\n",
    "            bird_dict[\"en_aliases\"].add(d[\"value\"])\n",
    "    except:\n",
    "        pass\n",
    "\n",
    "    bird_dict[\"jp_aliases\"] = set()\n",
    "    try:\n",
    "        for d in json_dict['entities'][file][\"aliases\"][\"jp\"]:\n",
    "            bird_dict[\"jp_aliases\"].add(d[\"value\"])\n",
    "    except:\n",
    "        pass\n",
    "\n",
    "    bird_dict[\"img_ulrs\"] = set()\n",
    "    try:\n",
    "        for img in json_dict['entities'][file][\"claims\"][\"P18\"]:\n",
    "            img_url = url+\"#/media/File:\"+img[\"mainsnak\"][\"datavalue\"][\"value\"]\n",
    "            bird_dict[\"img_ulrs\"].add(img_url)\n",
    "    except:\n",
    "        pass\n",
    "\n",
    "    try:\n",
    "        bird_dict[\"taxon_rank\"] = json_dict['entities'][file][\"claims\"][\"P105\"][0][\"mainsnak\"][\"datavalue\"][\"value\"][\"id\"]\n",
    "    except:\n",
    "        bird_dict[\"taxon_rank\"] = \"\"\n",
    "        logmaker(file,\"taxon_rank\")\n",
    "\n",
    "    try:\n",
    "        bird_dict[\"taxon_name\"] = json_dict['entities'][file][\"claims\"][\"P225\"][0][\"mainsnak\"][\"datavalue\"][\"value\"]\n",
    "    except:\n",
    "        bird_dict[\"taxon_name\"] = \"\"\n",
    "        logmaker(file,\"taxon_name\")\n",
    "\n",
    "    try:\n",
    "        bird_dict[\"parent_taxon\"] = json_dict['entities'][file][\"claims\"][\"P171\"][0][\"mainsnak\"][\"datavalue\"][\"value\"][\"id\"]\n",
    "    except:\n",
    "        bird_dict[\"parent_taxon\"] = \"\"\n",
    "        logmaker(file,\"parent_taxon\")\n",
    "    all_bird_dict.append(bird_dict)\n",
    "\n",
    "\n",
    "with open(\"data_extract/\"+file_dir+\".bin\", 'wb') as bf:\n",
    "    pickle.dump(all_bird_dict,bf)"
   ]
  },
  {
   "cell_type": "code",
   "execution_count": 92,
   "metadata": {},
   "outputs": [
    {
     "data": {
      "text/plain": [
       "{'en_name': 'Amazilia versicolor',\n",
       " 'jp_name': '',\n",
       " 'en_aliases': {'Versicoloured Emerald'},\n",
       " 'jp_aliases': set(),\n",
       " 'img_ulrs': {'https://www.wikidata.org/wiki/Q1004802#/media/File:Amazilia versicolor 001 1280.jpg'},\n",
       " 'taxon_rank': 'Q7432',\n",
       " 'taxon_name': 'Amazilia versicolor',\n",
       " 'parent_taxon': 'Q455997'}"
      ]
     },
     "execution_count": 92,
     "metadata": {},
     "output_type": "execute_result"
    }
   ],
   "source": [
    "bird_dict"
   ]
  },
  {
   "cell_type": "code",
   "execution_count": null,
   "metadata": {},
   "outputs": [],
   "source": []
  }
 ],
 "metadata": {
  "kernelspec": {
   "display_name": "Python 3",
   "language": "python",
   "name": "python3"
  },
  "language_info": {
   "codemirror_mode": {
    "name": "ipython",
    "version": 3
   },
   "file_extension": ".py",
   "mimetype": "text/x-python",
   "name": "python",
   "nbconvert_exporter": "python",
   "pygments_lexer": "ipython3",
   "version": "3.9.0"
  }
 },
 "nbformat": 4,
 "nbformat_minor": 4
}
