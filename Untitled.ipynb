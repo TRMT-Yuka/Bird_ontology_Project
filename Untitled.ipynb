{
 "cells": [
  {
   "cell_type": "markdown",
   "id": "5b004539",
   "metadata": {},
   "source": [
    "【3/11/16】各IDごとにグラフ埋め込みを作成"
   ]
  },
  {
   "cell_type": "code",
   "execution_count": 1,
   "id": "231cdace",
   "metadata": {},
   "outputs": [],
   "source": [
    "from node2vec import Node2Vec\n",
    "import networkx as nx"
   ]
  },
  {
   "cell_type": "code",
   "execution_count": 2,
   "id": "a4afa4f5-f6e7-4f1d-a41e-e558b15b4db8",
   "metadata": {},
   "outputs": [],
   "source": [
    "# グラフの読み込み\n",
    "edges = nx.read_edgelist('data_graph/all_BirdDBedge.tsv', delimiter='\\t')"
   ]
  },
  {
   "cell_type": "code",
   "execution_count": 3,
   "id": "74271be1",
   "metadata": {},
   "outputs": [
    {
     "data": {
      "application/vnd.jupyter.widget-view+json": {
       "model_id": "8067068c2a8d49c48a336443268ff3fc",
       "version_major": 2,
       "version_minor": 0
      },
      "text/plain": [
       "Computing transition probabilities:   0%|          | 0/50647 [00:00<?, ?it/s]"
      ]
     },
     "metadata": {},
     "output_type": "display_data"
    }
   ],
   "source": [
    "# Node2Vecの設定\n",
    "node2vec = Node2Vec(edges, dimensions=64, walk_length=30, num_walks=200, workers=4)"
   ]
  },
  {
   "cell_type": "code",
   "execution_count": 4,
   "id": "8818b8e0",
   "metadata": {},
   "outputs": [],
   "source": [
    "# 学習\n",
    "model = node2vec.fit(window=10, min_count=1, batch_words=4)"
   ]
  },
  {
   "cell_type": "code",
   "execution_count": 5,
   "id": "afdb96b0",
   "metadata": {},
   "outputs": [],
   "source": [
    "# ノードのベクトルを取得\n",
    "vectors = {str(node): model.wv[str(node)] for node in edges.nodes()}"
   ]
  },
  {
   "cell_type": "code",
   "execution_count": 9,
   "id": "7ee2beef-7942-4886-b857-c128f4d633c7",
   "metadata": {},
   "outputs": [],
   "source": [
    "import pickle\n",
    "\n",
    "with open('data_graph/node_vectors.binaryfile', 'wb') as f:\n",
    "    pickle.dump(vectors,f)"
   ]
  },
  {
   "cell_type": "code",
   "execution_count": null,
   "id": "c787045f-382b-4779-bc96-28aef420968d",
   "metadata": {},
   "outputs": [],
   "source": []
  }
 ],
 "metadata": {
  "kernelspec": {
   "display_name": "Python 3 (ipykernel)",
   "language": "python",
   "name": "python3"
  },
  "language_info": {
   "codemirror_mode": {
    "name": "ipython",
    "version": 3
   },
   "file_extension": ".py",
   "mimetype": "text/x-python",
   "name": "python",
   "nbconvert_exporter": "python",
   "pygments_lexer": "ipython3",
   "version": "3.9.6"
  }
 },
 "nbformat": 4,
 "nbformat_minor": 5
}
