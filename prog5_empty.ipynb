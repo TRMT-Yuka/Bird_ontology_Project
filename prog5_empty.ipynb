{
 "cells": [
  {
   "cell_type": "code",
   "execution_count": 2,
   "metadata": {},
   "outputs": [],
   "source": [
    "import pandas as pd\n",
    "\n",
    "kana_df = pd.read_csv('data_extract/voice_kana_path.tsv', sep='\\t')"
   ]
  },
  {
   "cell_type": "code",
   "execution_count": 19,
   "metadata": {},
   "outputs": [],
   "source": [
    "voice_kana_path_NonNaN = kana_df.dropna(how='any')#381/420\n",
    "voice_kana_path_NonNaN.to_csv('data_extract/voice_kana_path_NonNaN.tsv', sep='\\t',encoding=\"utf-8\")"
   ]
  },
  {
   "cell_type": "code",
   "execution_count": 21,
   "metadata": {},
   "outputs": [],
   "source": [
    "voice_kana_path_NaN = kana_df[kana_df.isnull().any(axis=1)]#39/420\n",
    "voice_kana_path_NaN.to_csv('data_extract/voice_kana_path_NaN.tsv', sep='\\t',encoding=\"utf-8\")"
   ]
  },
  {
   "cell_type": "code",
   "execution_count": 18,
   "metadata": {},
   "outputs": [],
   "source": [
    "# 39行しかないので手動でデータを作成"
   ]
  },
  {
   "cell_type": "code",
   "execution_count": 36,
   "metadata": {},
   "outputs": [],
   "source": [
    "import pickle\n",
    "with open(\"data_extract/ontology_path.pickle\",'rb') as f:\n",
    "    ontology = pickle.load(f)"
   ]
  },
  {
   "cell_type": "code",
   "execution_count": 37,
   "metadata": {},
   "outputs": [],
   "source": [
    "ontology_d = dict()\n",
    "for d in ontology:\n",
    "    ontology_d[d[\"id\"]]=d"
   ]
  },
  {
   "cell_type": "code",
   "execution_count": 45,
   "metadata": {},
   "outputs": [],
   "source": [
    "# 手持ちの辞書に手動検索の結果が入っているかどうかリストに格納\n",
    "\n",
    "l = [\"Q26452\",\"Q1152577\",\"Q1076585\",\"Q728682\",\"Q1267153\",\"Q1267153\",\"Q207290\",\"Q2897097\",\"Q790616\",\"Q790616\",\"Q25740\",\"Q720497\",\"Q1367236\",\"Q1074163\",\"Q170831\",\"Q177798\",\"Q156767\",\"Q700028\",\"Q700028\",\"Q25354\",\"Q255503\",\"Q742292\",\"Q42326\",\"Q1942487\",\"Q27075729\"]\n",
    "\n",
    "want = []\n",
    "for k in l:\n",
    "    if k in ontology_d:\n",
    "        want.append(ontology_d[k])\n",
    "    else:\n",
    "        print(k,\"無いよ～\")\n",
    "        \n",
    "# Q255503 無いよ～\n",
    "# Q742292 無いよ～"
   ]
  },
  {
   "cell_type": "code",
   "execution_count": 42,
   "metadata": {},
   "outputs": [],
   "source": [
    "# voice_kana_path_NaN_copyの空白のうち，埋められるものを手動で埋める"
   ]
  },
  {
   "cell_type": "code",
   "execution_count": 56,
   "metadata": {},
   "outputs": [],
   "source": [
    "copy_df = pd.read_csv('data_extract/voice_kana_path_NaN_copy.tsv', sep='\\t',encoding = \"shift-jis\")"
   ]
  },
  {
   "cell_type": "code",
   "execution_count": 58,
   "metadata": {},
   "outputs": [],
   "source": [
    "# copy_df"
   ]
  },
  {
   "cell_type": "code",
   "execution_count": 59,
   "metadata": {},
   "outputs": [],
   "source": [
    "voice_kana_path_NaN_handy = copy_df.dropna(how='any')#21/39\n",
    "voice_kana_path_NaN_handy.to_csv('data_extract/voice_kana_path_NaN_handy.tsv', sep='\\t',encoding=\"utf-8\")"
   ]
  },
  {
   "cell_type": "code",
   "execution_count": 60,
   "metadata": {},
   "outputs": [
    {
     "data": {
      "text/plain": [
       "21"
      ]
     },
     "execution_count": 60,
     "metadata": {},
     "output_type": "execute_result"
    }
   ],
   "source": [
    "len(voice_kana_path_NaN_handy)"
   ]
  },
  {
   "cell_type": "code",
   "execution_count": 66,
   "metadata": {},
   "outputs": [],
   "source": [
    "voice_kana_path_NaN_cant = copy_df[copy_df.isnull().any(axis=1)]#39/420\n",
    "voice_kana_path_NaN_cant.to_csv('data_extract/voice_kana_path_NaN_cant.tsv', sep='\\t',encoding=\"shift-jis\")"
   ]
  },
  {
   "cell_type": "code",
   "execution_count": 63,
   "metadata": {},
   "outputs": [
    {
     "data": {
      "text/html": [
       "<div>\n",
       "<style scoped>\n",
       "    .dataframe tbody tr th:only-of-type {\n",
       "        vertical-align: middle;\n",
       "    }\n",
       "\n",
       "    .dataframe tbody tr th {\n",
       "        vertical-align: top;\n",
       "    }\n",
       "\n",
       "    .dataframe thead th {\n",
       "        text-align: right;\n",
       "    }\n",
       "</style>\n",
       "<table border=\"1\" class=\"dataframe\">\n",
       "  <thead>\n",
       "    <tr style=\"text-align: right;\">\n",
       "      <th></th>\n",
       "      <th>Unnamed: 0</th>\n",
       "      <th>audio_id</th>\n",
       "      <th>audio_file_path</th>\n",
       "      <th>book_id</th>\n",
       "      <th>title</th>\n",
       "      <th>bird_name</th>\n",
       "      <th>id</th>\n",
       "      <th>path</th>\n",
       "      <th>ja_path_name</th>\n",
       "      <th>en_path_name</th>\n",
       "      <th>path_taxon_rank_name</th>\n",
       "    </tr>\n",
       "  </thead>\n",
       "  <tbody>\n",
       "    <tr>\n",
       "      <th>6</th>\n",
       "      <td>189</td>\n",
       "      <td>3_55</td>\n",
       "      <td>db/日本野鳥大鑑3/55 リュウキュウアカショウビン.wav</td>\n",
       "      <td>3</td>\n",
       "      <td>55 リュウキュウアカショウビン</td>\n",
       "      <td>リュウキュウアカショウビン</td>\n",
       "      <td>NaN</td>\n",
       "      <td>NaN</td>\n",
       "      <td>NaN</td>\n",
       "      <td>NaN</td>\n",
       "      <td>NaN</td>\n",
       "    </tr>\n",
       "    <tr>\n",
       "      <th>8</th>\n",
       "      <td>205</td>\n",
       "      <td>3_71</td>\n",
       "      <td>db/日本野鳥大鑑3/71 リュウキュウコゲラ.wav</td>\n",
       "      <td>3</td>\n",
       "      <td>71 リュウキュウコゲラ</td>\n",
       "      <td>リュウキュウコゲラ</td>\n",
       "      <td>NaN</td>\n",
       "      <td>NaN</td>\n",
       "      <td>NaN</td>\n",
       "      <td>NaN</td>\n",
       "      <td>NaN</td>\n",
       "    </tr>\n",
       "    <tr>\n",
       "      <th>10</th>\n",
       "      <td>224</td>\n",
       "      <td>4_19</td>\n",
       "      <td>db/日本野鳥大鑑4/19 アマミヒヨドリ.wav</td>\n",
       "      <td>4</td>\n",
       "      <td>19 アマミヒヨドリ</td>\n",
       "      <td>アマミヒヨドリ</td>\n",
       "      <td>NaN</td>\n",
       "      <td>NaN</td>\n",
       "      <td>NaN</td>\n",
       "      <td>NaN</td>\n",
       "      <td>NaN</td>\n",
       "    </tr>\n",
       "    <tr>\n",
       "      <th>11</th>\n",
       "      <td>225</td>\n",
       "      <td>4_20</td>\n",
       "      <td>db/日本野鳥大鑑4/20 オガサワラヒヨドリ.wav</td>\n",
       "      <td>4</td>\n",
       "      <td>20 オガサワラヒヨドリ</td>\n",
       "      <td>オガサワラヒヨドリ</td>\n",
       "      <td>NaN</td>\n",
       "      <td>NaN</td>\n",
       "      <td>NaN</td>\n",
       "      <td>NaN</td>\n",
       "      <td>NaN</td>\n",
       "    </tr>\n",
       "    <tr>\n",
       "      <th>12</th>\n",
       "      <td>226</td>\n",
       "      <td>4_21</td>\n",
       "      <td>db/日本野鳥大鑑4/21 ダイトウヒヨドリ.wav</td>\n",
       "      <td>4</td>\n",
       "      <td>21 ダイトウヒヨドリ</td>\n",
       "      <td>ダイトウヒヨドリ</td>\n",
       "      <td>NaN</td>\n",
       "      <td>NaN</td>\n",
       "      <td>NaN</td>\n",
       "      <td>NaN</td>\n",
       "      <td>NaN</td>\n",
       "    </tr>\n",
       "    <tr>\n",
       "      <th>15</th>\n",
       "      <td>242</td>\n",
       "      <td>4_37</td>\n",
       "      <td>db/日本野鳥大鑑4/37 ホントウアカヒゲ.wav</td>\n",
       "      <td>4</td>\n",
       "      <td>37 ホントウアカヒゲ</td>\n",
       "      <td>ホントウアカヒゲ</td>\n",
       "      <td>NaN</td>\n",
       "      <td>NaN</td>\n",
       "      <td>NaN</td>\n",
       "      <td>NaN</td>\n",
       "      <td>NaN</td>\n",
       "    </tr>\n",
       "    <tr>\n",
       "      <th>16</th>\n",
       "      <td>269</td>\n",
       "      <td>4_64</td>\n",
       "      <td>db/日本野鳥大鑑4/64 ハシナガウグイス.wav</td>\n",
       "      <td>4</td>\n",
       "      <td>64 ハシナガウグイス</td>\n",
       "      <td>ハシナガウグイス</td>\n",
       "      <td>NaN</td>\n",
       "      <td>NaN</td>\n",
       "      <td>NaN</td>\n",
       "      <td>NaN</td>\n",
       "      <td>NaN</td>\n",
       "    </tr>\n",
       "    <tr>\n",
       "      <th>17</th>\n",
       "      <td>270</td>\n",
       "      <td>4_65</td>\n",
       "      <td>db/日本野鳥大鑑4/65 リュウキュウウグイス.wav</td>\n",
       "      <td>4</td>\n",
       "      <td>65 リュウキュウウグイス</td>\n",
       "      <td>リュウキュウウグイス</td>\n",
       "      <td>NaN</td>\n",
       "      <td>NaN</td>\n",
       "      <td>NaN</td>\n",
       "      <td>NaN</td>\n",
       "      <td>NaN</td>\n",
       "    </tr>\n",
       "    <tr>\n",
       "      <th>22</th>\n",
       "      <td>310</td>\n",
       "      <td>5_32</td>\n",
       "      <td>db/日本野鳥大鑑5/32 アマミヤマガラ.wav</td>\n",
       "      <td>5</td>\n",
       "      <td>32 アマミヤマガラ</td>\n",
       "      <td>アマミヤマガラ</td>\n",
       "      <td>NaN</td>\n",
       "      <td>NaN</td>\n",
       "      <td>NaN</td>\n",
       "      <td>NaN</td>\n",
       "      <td>NaN</td>\n",
       "    </tr>\n",
       "    <tr>\n",
       "      <th>27</th>\n",
       "      <td>339</td>\n",
       "      <td>5_61</td>\n",
       "      <td>db/日本野鳥大鑑5/61 サバンナシトド.wav</td>\n",
       "      <td>5</td>\n",
       "      <td>61 サバンナシトド</td>\n",
       "      <td>サバンナシトド</td>\n",
       "      <td>NaN</td>\n",
       "      <td>NaN</td>\n",
       "      <td>NaN</td>\n",
       "      <td>NaN</td>\n",
       "      <td>NaN</td>\n",
       "    </tr>\n",
       "    <tr>\n",
       "      <th>29</th>\n",
       "      <td>377</td>\n",
       "      <td>6_38</td>\n",
       "      <td>db/日本野鳥大鑑6/38 オサハシブトガラス.wav</td>\n",
       "      <td>6</td>\n",
       "      <td>38 オサハシブトガラス</td>\n",
       "      <td>オサハシブトガラス</td>\n",
       "      <td>NaN</td>\n",
       "      <td>NaN</td>\n",
       "      <td>NaN</td>\n",
       "      <td>NaN</td>\n",
       "      <td>NaN</td>\n",
       "    </tr>\n",
       "    <tr>\n",
       "      <th>30</th>\n",
       "      <td>382</td>\n",
       "      <td>6_43</td>\n",
       "      <td>db/日本野鳥大鑑6/43 ガチョウ.wav</td>\n",
       "      <td>6</td>\n",
       "      <td>43 ガチョウ</td>\n",
       "      <td>ガチョウ</td>\n",
       "      <td>Q255503</td>\n",
       "      <td>NaN</td>\n",
       "      <td>NaN</td>\n",
       "      <td>NaN</td>\n",
       "      <td>NaN</td>\n",
       "    </tr>\n",
       "    <tr>\n",
       "      <th>31</th>\n",
       "      <td>383</td>\n",
       "      <td>6_44</td>\n",
       "      <td>db/日本野鳥大鑑6/44 アヒル.wav</td>\n",
       "      <td>6</td>\n",
       "      <td>44 アヒル</td>\n",
       "      <td>アヒル</td>\n",
       "      <td>Q742292</td>\n",
       "      <td>NaN</td>\n",
       "      <td>NaN</td>\n",
       "      <td>NaN</td>\n",
       "      <td>NaN</td>\n",
       "    </tr>\n",
       "    <tr>\n",
       "      <th>33</th>\n",
       "      <td>396</td>\n",
       "      <td>6_57</td>\n",
       "      <td>db/日本野鳥大鑑6/57 アカハラシキチョウ.wav</td>\n",
       "      <td>6</td>\n",
       "      <td>57 アカハラシキチョウ</td>\n",
       "      <td>アカハラシキチョウ</td>\n",
       "      <td>NaN</td>\n",
       "      <td>NaN</td>\n",
       "      <td>NaN</td>\n",
       "      <td>NaN</td>\n",
       "      <td>NaN</td>\n",
       "    </tr>\n",
       "    <tr>\n",
       "      <th>34</th>\n",
       "      <td>402</td>\n",
       "      <td>6_63</td>\n",
       "      <td>db/日本野鳥大鑑6/63 ホウコウチョウ.wav</td>\n",
       "      <td>6</td>\n",
       "      <td>63 ホウコウチョウ</td>\n",
       "      <td>ホウコウチョウ</td>\n",
       "      <td>NaN</td>\n",
       "      <td>NaN</td>\n",
       "      <td>NaN</td>\n",
       "      <td>NaN</td>\n",
       "      <td>NaN</td>\n",
       "    </tr>\n",
       "    <tr>\n",
       "      <th>36</th>\n",
       "      <td>414</td>\n",
       "      <td>6_75</td>\n",
       "      <td>db/日本野鳥大鑑6/75 キンランチョウ.wav</td>\n",
       "      <td>6</td>\n",
       "      <td>75 キンランチョウ</td>\n",
       "      <td>キンランチョウ</td>\n",
       "      <td>NaN</td>\n",
       "      <td>NaN</td>\n",
       "      <td>NaN</td>\n",
       "      <td>NaN</td>\n",
       "      <td>NaN</td>\n",
       "    </tr>\n",
       "  </tbody>\n",
       "</table>\n",
       "</div>"
      ],
      "text/plain": [
       "    Unnamed: 0 audio_id                  audio_file_path  book_id  \\\n",
       "6          189     3_55  db/日本野鳥大鑑3/55 リュウキュウアカショウビン.wav        3   \n",
       "8          205     3_71      db/日本野鳥大鑑3/71 リュウキュウコゲラ.wav        3   \n",
       "10         224     4_19        db/日本野鳥大鑑4/19 アマミヒヨドリ.wav        4   \n",
       "11         225     4_20      db/日本野鳥大鑑4/20 オガサワラヒヨドリ.wav        4   \n",
       "12         226     4_21       db/日本野鳥大鑑4/21 ダイトウヒヨドリ.wav        4   \n",
       "15         242     4_37       db/日本野鳥大鑑4/37 ホントウアカヒゲ.wav        4   \n",
       "16         269     4_64       db/日本野鳥大鑑4/64 ハシナガウグイス.wav        4   \n",
       "17         270     4_65     db/日本野鳥大鑑4/65 リュウキュウウグイス.wav        4   \n",
       "22         310     5_32        db/日本野鳥大鑑5/32 アマミヤマガラ.wav        5   \n",
       "27         339     5_61        db/日本野鳥大鑑5/61 サバンナシトド.wav        5   \n",
       "29         377     6_38      db/日本野鳥大鑑6/38 オサハシブトガラス.wav        6   \n",
       "30         382     6_43           db/日本野鳥大鑑6/43 ガチョウ.wav        6   \n",
       "31         383     6_44            db/日本野鳥大鑑6/44 アヒル.wav        6   \n",
       "33         396     6_57      db/日本野鳥大鑑6/57 アカハラシキチョウ.wav        6   \n",
       "34         402     6_63        db/日本野鳥大鑑6/63 ホウコウチョウ.wav        6   \n",
       "36         414     6_75        db/日本野鳥大鑑6/75 キンランチョウ.wav        6   \n",
       "\n",
       "               title      bird_name       id path ja_path_name en_path_name  \\\n",
       "6   55 リュウキュウアカショウビン  リュウキュウアカショウビン      NaN  NaN          NaN          NaN   \n",
       "8       71 リュウキュウコゲラ      リュウキュウコゲラ      NaN  NaN          NaN          NaN   \n",
       "10        19 アマミヒヨドリ        アマミヒヨドリ      NaN  NaN          NaN          NaN   \n",
       "11      20 オガサワラヒヨドリ      オガサワラヒヨドリ      NaN  NaN          NaN          NaN   \n",
       "12       21 ダイトウヒヨドリ       ダイトウヒヨドリ      NaN  NaN          NaN          NaN   \n",
       "15       37 ホントウアカヒゲ       ホントウアカヒゲ      NaN  NaN          NaN          NaN   \n",
       "16       64 ハシナガウグイス       ハシナガウグイス      NaN  NaN          NaN          NaN   \n",
       "17     65 リュウキュウウグイス     リュウキュウウグイス      NaN  NaN          NaN          NaN   \n",
       "22        32 アマミヤマガラ        アマミヤマガラ      NaN  NaN          NaN          NaN   \n",
       "27        61 サバンナシトド        サバンナシトド      NaN  NaN          NaN          NaN   \n",
       "29      38 オサハシブトガラス      オサハシブトガラス      NaN  NaN          NaN          NaN   \n",
       "30           43 ガチョウ           ガチョウ  Q255503  NaN          NaN          NaN   \n",
       "31            44 アヒル            アヒル  Q742292  NaN          NaN          NaN   \n",
       "33      57 アカハラシキチョウ      アカハラシキチョウ      NaN  NaN          NaN          NaN   \n",
       "34        63 ホウコウチョウ        ホウコウチョウ      NaN  NaN          NaN          NaN   \n",
       "36        75 キンランチョウ        キンランチョウ      NaN  NaN          NaN          NaN   \n",
       "\n",
       "   path_taxon_rank_name  \n",
       "6                   NaN  \n",
       "8                   NaN  \n",
       "10                  NaN  \n",
       "11                  NaN  \n",
       "12                  NaN  \n",
       "15                  NaN  \n",
       "16                  NaN  \n",
       "17                  NaN  \n",
       "22                  NaN  \n",
       "27                  NaN  \n",
       "29                  NaN  \n",
       "30                  NaN  \n",
       "31                  NaN  \n",
       "33                  NaN  \n",
       "34                  NaN  \n",
       "36                  NaN  "
      ]
     },
     "execution_count": 63,
     "metadata": {},
     "output_type": "execute_result"
    }
   ],
   "source": [
    "voice_kana_path_NaN_cant"
   ]
  },
  {
   "cell_type": "code",
   "execution_count": 64,
   "metadata": {},
   "outputs": [
    {
     "data": {
      "text/plain": [
       "16"
      ]
     },
     "execution_count": 64,
     "metadata": {},
     "output_type": "execute_result"
    }
   ],
   "source": [
    "len(voice_kana_path_NaN_cant)"
   ]
  },
  {
   "cell_type": "code",
   "execution_count": null,
   "metadata": {},
   "outputs": [],
   "source": [
    "#上記16項目を図鑑サイトにて手動で検索\n",
    "# https://i-zukan.jp/"
   ]
  },
  {
   "cell_type": "code",
   "execution_count": 67,
   "metadata": {},
   "outputs": [],
   "source": [
    "roma_df = pd.read_csv('data_extract/voice_roma_path.tsv', sep='\\t')"
   ]
  },
  {
   "cell_type": "code",
   "execution_count": 68,
   "metadata": {},
   "outputs": [
    {
     "data": {
      "text/plain": [
       "4989"
      ]
     },
     "execution_count": 68,
     "metadata": {},
     "output_type": "execute_result"
    }
   ],
   "source": [
    "len(roma_df)"
   ]
  },
  {
   "cell_type": "code",
   "execution_count": 69,
   "metadata": {},
   "outputs": [],
   "source": [
    "voice_roma_path_NonNaN = roma_df.dropna(how='any')#381/420\n",
    "voice_roma_path_NonNaN.to_csv('data_extract/voice_roma_path_NonNaN.tsv', sep='\\t',encoding=\"utf-8\")"
   ]
  },
  {
   "cell_type": "code",
   "execution_count": 70,
   "metadata": {},
   "outputs": [
    {
     "data": {
      "text/plain": [
       "3998"
      ]
     },
     "execution_count": 70,
     "metadata": {},
     "output_type": "execute_result"
    }
   ],
   "source": [
    "len(voice_roma_path_NonNaN)"
   ]
  },
  {
   "cell_type": "code",
   "execution_count": 73,
   "metadata": {},
   "outputs": [],
   "source": [
    "voice_roma_path_NaN = roma_df[roma_df.isnull().any(axis=1)]#39/420\n",
    "voice_roma_path_NaN.to_csv('data_extract/voice_roma_path_NaN.tsv', sep='\\t',encoding=\"shift-jis\")"
   ]
  },
  {
   "cell_type": "code",
   "execution_count": 74,
   "metadata": {},
   "outputs": [
    {
     "data": {
      "text/plain": [
       "991"
      ]
     },
     "execution_count": 74,
     "metadata": {},
     "output_type": "execute_result"
    }
   ],
   "source": [
    "len(voice_roma_path_NaN)"
   ]
  },
  {
   "cell_type": "code",
   "execution_count": null,
   "metadata": {},
   "outputs": [],
   "source": []
  }
 ],
 "metadata": {
  "kernelspec": {
   "display_name": "Python 3",
   "language": "python",
   "name": "python3"
  },
  "language_info": {
   "codemirror_mode": {
    "name": "ipython",
    "version": 3
   },
   "file_extension": ".py",
   "mimetype": "text/x-python",
   "name": "python",
   "nbconvert_exporter": "python",
   "pygments_lexer": "ipython3",
   "version": "3.9.0"
  }
 },
 "nbformat": 4,
 "nbformat_minor": 4
}
