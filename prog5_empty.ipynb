{
 "cells": [
  {
   "cell_type": "markdown",
   "metadata": {},
   "source": [
    "## NonNaN，NaN，NaN_Copyを作成し手動で作業"
   ]
  },
  {
   "cell_type": "markdown",
   "metadata": {},
   "source": [
    "## handy,cantを分離し保存"
   ]
  },
  {
   "cell_type": "code",
   "execution_count": 6,
   "metadata": {},
   "outputs": [],
   "source": [
    "import pandas as pd\n",
    "\n",
    "kana_df = pd.read_csv('data_extract/voice_kana_path.tsv', sep='\\t')"
   ]
  },
  {
   "cell_type": "code",
   "execution_count": 7,
   "metadata": {},
   "outputs": [],
   "source": [
    "voice_kana_path_NonNaN = kana_df.dropna(how='any')#381/420\n",
    "voice_kana_path_NonNaN.to_csv('data_extract/voice_kana_path_NonNaN.tsv', sep='\\t',encoding=\"utf-8\")"
   ]
  },
  {
   "cell_type": "code",
   "execution_count": 8,
   "metadata": {},
   "outputs": [],
   "source": [
    "voice_kana_path_NaN = kana_df[kana_df.isnull().any(axis=1)]#39/420\n",
    "voice_kana_path_NaN.to_csv('data_extract/voice_kana_path_NaN.tsv', sep='\\t',encoding=\"utf-8\")"
   ]
  },
  {
   "cell_type": "code",
   "execution_count": 9,
   "metadata": {},
   "outputs": [],
   "source": [
    "# 39行しかないので手動でデータを作成"
   ]
  },
  {
   "cell_type": "code",
   "execution_count": 10,
   "metadata": {},
   "outputs": [],
   "source": [
    "import pickle\n",
    "# with open(\"data_extract/ontology_path.pickle\",'rb') as f:\n",
    "with open(\"data_extract/ontology_path_v6.pickle\", 'rb') as f:\n",
    "    ontology = pickle.load(f)"
   ]
  },
  {
   "cell_type": "code",
   "execution_count": 11,
   "metadata": {},
   "outputs": [],
   "source": [
    "ontology_d = dict()\n",
    "for d in ontology:\n",
    "    ontology_d[d[\"id\"]]=d"
   ]
  },
  {
   "cell_type": "code",
   "execution_count": 12,
   "metadata": {},
   "outputs": [
    {
     "name": "stdout",
     "output_type": "stream",
     "text": [
      "Q255503 無いよ～\n",
      "Q742292 無いよ～\n",
      "Q1942487 無いよ～\n",
      "Q27075729 無いよ～\n"
     ]
    }
   ],
   "source": [
    "# 手持ちの辞書に手動検索の結果が入っているかどうかリストに格納\n",
    "\n",
    "l = [\"Q26452\",\"Q1152577\",\"Q1076585\",\"Q728682\",\"Q1267153\",\"Q1267153\",\"Q207290\",\"Q2897097\",\"Q790616\",\"Q790616\",\"Q25740\",\"Q720497\",\"Q1367236\",\"Q1074163\",\"Q170831\",\"Q177798\",\"Q156767\",\"Q700028\",\"Q700028\",\"Q25354\",\"Q255503\",\"Q742292\",\"Q42326\",\"Q1942487\",\"Q27075729\"]\n",
    "\n",
    "want = []\n",
    "for k in l:\n",
    "    if k in ontology_d:\n",
    "        want.append(ontology_d[k])\n",
    "    else:\n",
    "        print(k,\"無いよ～\")\n",
    "        \n",
    "# Q255503 無いよ～\n",
    "# Q742292 無いよ～"
   ]
  },
  {
   "cell_type": "code",
   "execution_count": 14,
   "metadata": {},
   "outputs": [],
   "source": [
    "# voice_kana_path_NaN_copyの空白のうち，埋められるものを手動で埋める"
   ]
  },
  {
   "cell_type": "code",
   "execution_count": 15,
   "metadata": {},
   "outputs": [],
   "source": [
    "copy_df = pd.read_csv('data_extract/voice_kana_path_NaN_copy.tsv', sep='\\t',encoding = \"shift-jis\")"
   ]
  },
  {
   "cell_type": "code",
   "execution_count": 16,
   "metadata": {},
   "outputs": [],
   "source": [
    "# copy_df"
   ]
  },
  {
   "cell_type": "code",
   "execution_count": 17,
   "metadata": {},
   "outputs": [],
   "source": [
    "voice_kana_path_NaN_handy = copy_df.dropna(how='any')#21/39\n",
    "# voice_kana_path_NaN_handy.to_csv('data_extract/voice_kana_path_NaN_handy.tsv', sep='\\t',encoding=\"utf-8\")\n",
    "voice_kana_path_NaN_handy.to_csv('data_extract/voice_kana_path_NaN_handy_v2.tsv', sep='\\t',encoding=\"utf-8\")"
   ]
  },
  {
   "cell_type": "code",
   "execution_count": 18,
   "metadata": {},
   "outputs": [
    {
     "data": {
      "text/plain": [
       "21"
      ]
     },
     "execution_count": 18,
     "metadata": {},
     "output_type": "execute_result"
    }
   ],
   "source": [
    "len(voice_kana_path_NaN_handy)"
   ]
  },
  {
   "cell_type": "code",
   "execution_count": 19,
   "metadata": {},
   "outputs": [],
   "source": [
    "voice_kana_path_NaN_cant = copy_df[copy_df.isnull().any(axis=1)]#39/420\n",
    "voice_kana_path_NaN_cant.to_csv('data_extract/voice_kana_path_NaN_cant.tsv', sep='\\t',encoding=\"shift-jis\")"
   ]
  },
  {
   "cell_type": "code",
   "execution_count": 20,
   "metadata": {},
   "outputs": [],
   "source": [
    "# voice_kana_path_NaN_cant"
   ]
  },
  {
   "cell_type": "code",
   "execution_count": 21,
   "metadata": {},
   "outputs": [
    {
     "data": {
      "text/plain": [
       "16"
      ]
     },
     "execution_count": 21,
     "metadata": {},
     "output_type": "execute_result"
    }
   ],
   "source": [
    "len(voice_kana_path_NaN_cant)"
   ]
  },
  {
   "cell_type": "code",
   "execution_count": 22,
   "metadata": {},
   "outputs": [],
   "source": [
    "#上記16項目を図鑑サイトにて手動で検索\n",
    "# https://i-zukan.jp/"
   ]
  },
  {
   "cell_type": "code",
   "execution_count": 23,
   "metadata": {},
   "outputs": [],
   "source": [
    "roma_df = pd.read_csv('data_extract/voice_roma_path.tsv', sep='\\t')"
   ]
  },
  {
   "cell_type": "code",
   "execution_count": 24,
   "metadata": {},
   "outputs": [
    {
     "data": {
      "text/plain": [
       "4989"
      ]
     },
     "execution_count": 24,
     "metadata": {},
     "output_type": "execute_result"
    }
   ],
   "source": [
    "len(roma_df)"
   ]
  },
  {
   "cell_type": "code",
   "execution_count": 25,
   "metadata": {},
   "outputs": [],
   "source": [
    "voice_roma_path_NonNaN = roma_df.dropna(how='any')#381/420\n",
    "voice_roma_path_NonNaN.to_csv('data_extract/voice_roma_path_NonNaN.tsv', sep='\\t',encoding=\"utf-8\")"
   ]
  },
  {
   "cell_type": "code",
   "execution_count": 26,
   "metadata": {},
   "outputs": [
    {
     "data": {
      "text/plain": [
       "2481"
      ]
     },
     "execution_count": 26,
     "metadata": {},
     "output_type": "execute_result"
    }
   ],
   "source": [
    "len(voice_roma_path_NonNaN)"
   ]
  },
  {
   "cell_type": "code",
   "execution_count": 27,
   "metadata": {},
   "outputs": [],
   "source": [
    "voice_roma_path_NaN = roma_df[roma_df.isnull().any(axis=1)]#39/420\n",
    "voice_roma_path_NaN.to_csv('data_extract/voice_roma_path_NaN.tsv', sep='\\t',encoding=\"shift-jis\")"
   ]
  },
  {
   "cell_type": "code",
   "execution_count": 28,
   "metadata": {},
   "outputs": [
    {
     "data": {
      "text/plain": [
       "2508"
      ]
     },
     "execution_count": 28,
     "metadata": {},
     "output_type": "execute_result"
    }
   ],
   "source": [
    "len(voice_roma_path_NaN)"
   ]
  },
  {
   "cell_type": "code",
   "execution_count": 29,
   "metadata": {},
   "outputs": [],
   "source": [
    "roma_copy= pd.read_csv('data_extract/voice_roma_path_NaN_copy.tsv', sep='\\t',encoding=\"shift-jis\")"
   ]
  },
  {
   "cell_type": "code",
   "execution_count": 30,
   "metadata": {},
   "outputs": [],
   "source": [
    "voice_roma_path_NaN_cant = roma_copy[roma_copy['id'].isnull()]\n",
    "voice_roma_path_NaN_cant.to_csv('data_extract/voice_roma_path_NaN_cant.tsv', sep='\\t',encoding=\"shift-jis\")"
   ]
  },
  {
   "cell_type": "code",
   "execution_count": 31,
   "metadata": {},
   "outputs": [],
   "source": [
    "voice_roma_path_NaN_animal = roma_copy[roma_copy['romaji_to_kana'] == \"動物\"]\n",
    "voice_roma_path_NaN_animal.to_csv('data_extract/voice_roma_path_NaN_animal.tsv', sep='\\t',encoding=\"shift-jis\")"
   ]
  },
  {
   "cell_type": "code",
   "execution_count": 32,
   "metadata": {},
   "outputs": [],
   "source": [
    "roma_col_name = [\"audio_id\",\"audio_file_path\",\"romaji_name\",\"romaji_to_kana\",\"id\",\"en_name\",\"ja_name\",\"path\",\"ja_path_name\",\"en_path_name\",\"path_taxon_rank_name\"]"
   ]
  },
  {
   "cell_type": "code",
   "execution_count": 33,
   "metadata": {},
   "outputs": [],
   "source": [
    "roma_tori = roma_copy[roma_copy['romaji_to_kana'] != \"動物\"]\n",
    "roma_copy_id_d = roma_tori.dropna(subset=['id']).to_dict(orient='records')#これはfor文で対応表を付けてあげなければだめ"
   ]
  },
  {
   "cell_type": "code",
   "execution_count": 34,
   "metadata": {},
   "outputs": [
    {
     "data": {
      "text/plain": [
       "[{'audio_id': 1103.0,\n",
       "  'audio_file_path': 'data01/akaeri_110702_sarobetsu_namba.0001.wav',\n",
       "  'romaji_name': 'akaeri',\n",
       "  'romaji_to_kana': nan,\n",
       "  'id': 'Q206840',\n",
       "  'en_name': nan,\n",
       "  'ja_name': nan,\n",
       "  'path': nan,\n",
       "  'ja_path_name': nan,\n",
       "  'en_path_name': nan,\n",
       "  'path_taxon_rank_name': nan}]"
      ]
     },
     "execution_count": 34,
     "metadata": {},
     "output_type": "execute_result"
    }
   ],
   "source": [
    "roma_copy_id_d[0:1]"
   ]
  },
  {
   "cell_type": "code",
   "execution_count": 35,
   "metadata": {},
   "outputs": [
    {
     "data": {
      "text/plain": [
       "{'id': 'Q1001586',\n",
       " 'en_name': \"Finsch's Francolin\",\n",
       " 'ja_name': 'チャバネシャコ',\n",
       " 'en_aliases': 'Francolinus finschi,Scleroptila finschi',\n",
       " 'ja_aliases': '',\n",
       " 'img_urls': '',\n",
       " 'taxon_rank': 'Q7432',\n",
       " 'taxon_name': 'Scleroptila finschi',\n",
       " 'parent_taxon': 'Q1286431',\n",
       " 'taxon_rank_name': 'species',\n",
       " 'taxon_rank_ja_name': '種',\n",
       " 'parent_taxon_name': 'Scleroptila',\n",
       " 'parent_taxon_ja_name': None,\n",
       " 'path': 'Q1286431/Q1001586',\n",
       " 'ja_path_name': 'Scleroptila/チャバネシャコ',\n",
       " 'en_path_name': \"Scleroptila/Finsch's Francolin\",\n",
       " 'path_taxon_rank_name': '/species'}"
      ]
     },
     "execution_count": 35,
     "metadata": {},
     "output_type": "execute_result"
    }
   ],
   "source": [
    "ontology_d[\"Q1001586\"]"
   ]
  },
  {
   "cell_type": "code",
   "execution_count": 36,
   "metadata": {},
   "outputs": [
    {
     "ename": "KeyError",
     "evalue": "'ja_path_name'",
     "output_type": "error",
     "traceback": [
      "\u001b[1;31m---------------------------------------------------------------------------\u001b[0m",
      "\u001b[1;31mKeyError\u001b[0m                                  Traceback (most recent call last)",
      "\u001b[1;32m<ipython-input-36-de2987eec264>\u001b[0m in \u001b[0;36m<module>\u001b[1;34m\u001b[0m\n\u001b[0;32m      5\u001b[0m         \u001b[0md\u001b[0m\u001b[1;33m[\u001b[0m\u001b[1;34m\"ja_name\"\u001b[0m\u001b[1;33m]\u001b[0m \u001b[1;33m=\u001b[0m \u001b[0montology_d\u001b[0m\u001b[1;33m[\u001b[0m\u001b[0mk\u001b[0m\u001b[1;33m]\u001b[0m\u001b[1;33m[\u001b[0m\u001b[1;34m\"ja_name\"\u001b[0m\u001b[1;33m]\u001b[0m\u001b[1;33m\u001b[0m\u001b[1;33m\u001b[0m\u001b[0m\n\u001b[0;32m      6\u001b[0m         \u001b[0md\u001b[0m\u001b[1;33m[\u001b[0m\u001b[1;34m\"path\"\u001b[0m\u001b[1;33m]\u001b[0m \u001b[1;33m=\u001b[0m \u001b[0montology_d\u001b[0m\u001b[1;33m[\u001b[0m\u001b[0mk\u001b[0m\u001b[1;33m]\u001b[0m\u001b[1;33m[\u001b[0m\u001b[1;34m\"path\"\u001b[0m\u001b[1;33m]\u001b[0m\u001b[1;33m\u001b[0m\u001b[1;33m\u001b[0m\u001b[0m\n\u001b[1;32m----> 7\u001b[1;33m         \u001b[0md\u001b[0m\u001b[1;33m[\u001b[0m\u001b[1;34m\"ja_path_name\"\u001b[0m\u001b[1;33m]\u001b[0m \u001b[1;33m=\u001b[0m \u001b[0montology_d\u001b[0m\u001b[1;33m[\u001b[0m\u001b[0mk\u001b[0m\u001b[1;33m]\u001b[0m\u001b[1;33m[\u001b[0m\u001b[1;34m\"ja_path_name\"\u001b[0m\u001b[1;33m]\u001b[0m\u001b[1;33m\u001b[0m\u001b[1;33m\u001b[0m\u001b[0m\n\u001b[0m\u001b[0;32m      8\u001b[0m         \u001b[0md\u001b[0m\u001b[1;33m[\u001b[0m\u001b[1;34m\"en_path_name\"\u001b[0m\u001b[1;33m]\u001b[0m \u001b[1;33m=\u001b[0m \u001b[0montology_d\u001b[0m\u001b[1;33m[\u001b[0m\u001b[0mk\u001b[0m\u001b[1;33m]\u001b[0m\u001b[1;33m[\u001b[0m\u001b[1;34m\"en_path_name\"\u001b[0m\u001b[1;33m]\u001b[0m\u001b[1;33m\u001b[0m\u001b[1;33m\u001b[0m\u001b[0m\n\u001b[0;32m      9\u001b[0m         \u001b[0md\u001b[0m\u001b[1;33m[\u001b[0m\u001b[1;34m\"path_taxon_rank_name\"\u001b[0m\u001b[1;33m]\u001b[0m \u001b[1;33m=\u001b[0m \u001b[0montology_d\u001b[0m\u001b[1;33m[\u001b[0m\u001b[0mk\u001b[0m\u001b[1;33m]\u001b[0m\u001b[1;33m[\u001b[0m\u001b[1;34m\"path_taxon_rank_name\"\u001b[0m\u001b[1;33m]\u001b[0m\u001b[1;33m\u001b[0m\u001b[1;33m\u001b[0m\u001b[0m\n",
      "\u001b[1;31mKeyError\u001b[0m: 'ja_path_name'"
     ]
    }
   ],
   "source": [
    "for d in roma_copy_id_d:\n",
    "    k = d[\"id\"]\n",
    "    if k in ontology_d:\n",
    "        try:\n",
    "            d[\"en_name\"] = ontology_d[k][\"en_name\"]\n",
    "            d[\"ja_name\"] = ontology_d[k][\"ja_name\"]\n",
    "            d[\"path\"] = ontology_d[k][\"path\"]\n",
    "            d[\"ja_path_name\"] = ontology_d[k][\"ja_path_name\"]\n",
    "            d[\"en_path_name\"] = ontology_d[k][\"en_path_name\"]\n",
    "            d[\"path_taxon_rank_name\"] = ontology_d[k][\"path_taxon_rank_name\"]\n",
    "        except:\n",
    "            \n",
    "# for roma_copy[0:3]"
   ]
  },
  {
   "cell_type": "code",
   "execution_count": 31,
   "metadata": {},
   "outputs": [],
   "source": [
    "roma_copy_handy = pd.DataFrame(roma_copy_id_d)\n",
    "roma_copy_handy.to_csv('data_extract/voice_roma_path_NaN_handy.tsv', sep='\\t',encoding=\"shift-jis\")"
   ]
  },
  {
   "cell_type": "code",
   "execution_count": 32,
   "metadata": {},
   "outputs": [
    {
     "ename": "NameError",
     "evalue": "name 'roma_copy_id' is not defined",
     "output_type": "error",
     "traceback": [
      "\u001b[1;31m---------------------------------------------------------------------------\u001b[0m",
      "\u001b[1;31mNameError\u001b[0m                                 Traceback (most recent call last)",
      "\u001b[1;32m<ipython-input-32-b9070664bdc1>\u001b[0m in \u001b[0;36m<module>\u001b[1;34m\u001b[0m\n\u001b[1;32m----> 1\u001b[1;33m \u001b[0mroma_copy_id\u001b[0m\u001b[1;33m[\u001b[0m\u001b[1;36m0\u001b[0m\u001b[1;33m:\u001b[0m\u001b[1;36m3\u001b[0m\u001b[1;33m]\u001b[0m\u001b[1;33m\u001b[0m\u001b[1;33m\u001b[0m\u001b[0m\n\u001b[0m",
      "\u001b[1;31mNameError\u001b[0m: name 'roma_copy_id' is not defined"
     ]
    }
   ],
   "source": [
    "roma_copy_id[0:3]"
   ]
  },
  {
   "cell_type": "markdown",
   "metadata": {},
   "source": [
    "## 使えるデータを結合"
   ]
  },
  {
   "cell_type": "code",
   "execution_count": 33,
   "metadata": {},
   "outputs": [],
   "source": [
    "import pandas as pd\n",
    "roma_nonnan= pd.read_csv('data_extract/voice_roma_path_NonNaN.tsv', sep='\\t')\n",
    "roma_handy= pd.read_csv('data_extract/voice_roma_path_NaN_handy.tsv', sep='\\t',encoding=\"shift-jis\")\n",
    "roma = pd.concat([roma_nonnan,roma_handy])\n",
    "roma.to_csv('data_extract/roma_final.tsv', sep='\\t',encoding=\"shift-jis\")"
   ]
  },
  {
   "cell_type": "code",
   "execution_count": 34,
   "metadata": {},
   "outputs": [],
   "source": [
    "kana_nonnan= pd.read_csv('data_extract/voice_kana_path_NonNaN.tsv', sep='\\t')\n",
    "kana_handy= pd.read_csv('data_extract/voice_kana_path_NaN_handy.tsv', sep='\\t')\n",
    "kana = pd.concat([kana_nonnan,kana_handy])\n",
    "kana.to_csv('data_extract/kana_final.tsv', sep='\\t',encoding=\"shift-jis\")"
   ]
  },
  {
   "cell_type": "code",
   "execution_count": null,
   "metadata": {},
   "outputs": [],
   "source": []
  },
  {
   "cell_type": "code",
   "execution_count": null,
   "metadata": {},
   "outputs": [],
   "source": []
  }
 ],
 "metadata": {
  "kernelspec": {
   "display_name": "Python 3",
   "language": "python",
   "name": "python3"
  },
  "language_info": {
   "codemirror_mode": {
    "name": "ipython",
    "version": 3
   },
   "file_extension": ".py",
   "mimetype": "text/x-python",
   "name": "python",
   "nbconvert_exporter": "python",
   "pygments_lexer": "ipython3",
   "version": "3.9.0"
  }
 },
 "nbformat": 4,
 "nbformat_minor": 4
}
