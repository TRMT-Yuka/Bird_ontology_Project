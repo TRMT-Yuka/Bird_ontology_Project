{
 "cells": [
  {
   "cell_type": "markdown",
   "metadata": {},
   "source": [
    "## NonNaN，NaN，NaN_Copyを作成し手動で作業"
   ]
  },
  {
   "cell_type": "markdown",
   "metadata": {},
   "source": [
    "## handy,cantを分離し保存"
   ]
  },
  {
   "cell_type": "code",
   "execution_count": 2,
   "metadata": {},
   "outputs": [],
   "source": [
    "import pandas as pd\n",
    "\n",
    "kana_df = pd.read_csv('data_extract/voice_kana_path.tsv', sep='\\t')"
   ]
  },
  {
   "cell_type": "code",
   "execution_count": 19,
   "metadata": {},
   "outputs": [],
   "source": [
    "voice_kana_path_NonNaN = kana_df.dropna(how='any')#381/420\n",
    "voice_kana_path_NonNaN.to_csv('data_extract/voice_kana_path_NonNaN.tsv', sep='\\t',encoding=\"utf-8\")"
   ]
  },
  {
   "cell_type": "code",
   "execution_count": 21,
   "metadata": {},
   "outputs": [],
   "source": [
    "voice_kana_path_NaN = kana_df[kana_df.isnull().any(axis=1)]#39/420\n",
    "voice_kana_path_NaN.to_csv('data_extract/voice_kana_path_NaN.tsv', sep='\\t',encoding=\"utf-8\")"
   ]
  },
  {
   "cell_type": "code",
   "execution_count": 18,
   "metadata": {},
   "outputs": [],
   "source": [
    "# 39行しかないので手動でデータを作成"
   ]
  },
  {
   "cell_type": "code",
   "execution_count": 20,
   "metadata": {},
   "outputs": [],
   "source": [
    "import pickle\n",
    "with open(\"data_extract/ontology_path.pickle\",'rb') as f:\n",
    "    ontology = pickle.load(f)"
   ]
  },
  {
   "cell_type": "code",
   "execution_count": 21,
   "metadata": {},
   "outputs": [],
   "source": [
    "ontology_d = dict()\n",
    "for d in ontology:\n",
    "    ontology_d[d[\"id\"]]=d"
   ]
  },
  {
   "cell_type": "code",
   "execution_count": 45,
   "metadata": {},
   "outputs": [],
   "source": [
    "# 手持ちの辞書に手動検索の結果が入っているかどうかリストに格納\n",
    "\n",
    "l = [\"Q26452\",\"Q1152577\",\"Q1076585\",\"Q728682\",\"Q1267153\",\"Q1267153\",\"Q207290\",\"Q2897097\",\"Q790616\",\"Q790616\",\"Q25740\",\"Q720497\",\"Q1367236\",\"Q1074163\",\"Q170831\",\"Q177798\",\"Q156767\",\"Q700028\",\"Q700028\",\"Q25354\",\"Q255503\",\"Q742292\",\"Q42326\",\"Q1942487\",\"Q27075729\"]\n",
    "\n",
    "want = []\n",
    "for k in l:\n",
    "    if k in ontology_d:\n",
    "        want.append(ontology_d[k])\n",
    "    else:\n",
    "        print(k,\"無いよ～\")\n",
    "        \n",
    "# Q255503 無いよ～\n",
    "# Q742292 無いよ～"
   ]
  },
  {
   "cell_type": "code",
   "execution_count": 42,
   "metadata": {},
   "outputs": [],
   "source": [
    "# voice_kana_path_NaN_copyの空白のうち，埋められるものを手動で埋める"
   ]
  },
  {
   "cell_type": "code",
   "execution_count": 56,
   "metadata": {},
   "outputs": [],
   "source": [
    "copy_df = pd.read_csv('data_extract/voice_kana_path_NaN_copy.tsv', sep='\\t',encoding = \"shift-jis\")"
   ]
  },
  {
   "cell_type": "code",
   "execution_count": 58,
   "metadata": {},
   "outputs": [],
   "source": [
    "# copy_df"
   ]
  },
  {
   "cell_type": "code",
   "execution_count": 59,
   "metadata": {},
   "outputs": [],
   "source": [
    "voice_kana_path_NaN_handy = copy_df.dropna(how='any')#21/39\n",
    "voice_kana_path_NaN_handy.to_csv('data_extract/voice_kana_path_NaN_handy.tsv', sep='\\t',encoding=\"utf-8\")"
   ]
  },
  {
   "cell_type": "code",
   "execution_count": 60,
   "metadata": {},
   "outputs": [
    {
     "data": {
      "text/plain": [
       "21"
      ]
     },
     "execution_count": 60,
     "metadata": {},
     "output_type": "execute_result"
    }
   ],
   "source": [
    "len(voice_kana_path_NaN_handy)"
   ]
  },
  {
   "cell_type": "code",
   "execution_count": 66,
   "metadata": {},
   "outputs": [],
   "source": [
    "voice_kana_path_NaN_cant = copy_df[copy_df.isnull().any(axis=1)]#39/420\n",
    "voice_kana_path_NaN_cant.to_csv('data_extract/voice_kana_path_NaN_cant.tsv', sep='\\t',encoding=\"shift-jis\")"
   ]
  },
  {
   "cell_type": "code",
   "execution_count": 14,
   "metadata": {},
   "outputs": [],
   "source": [
    "# voice_kana_path_NaN_cant"
   ]
  },
  {
   "cell_type": "code",
   "execution_count": 64,
   "metadata": {},
   "outputs": [
    {
     "data": {
      "text/plain": [
       "16"
      ]
     },
     "execution_count": 64,
     "metadata": {},
     "output_type": "execute_result"
    }
   ],
   "source": [
    "len(voice_kana_path_NaN_cant)"
   ]
  },
  {
   "cell_type": "code",
   "execution_count": null,
   "metadata": {},
   "outputs": [],
   "source": [
    "#上記16項目を図鑑サイトにて手動で検索\n",
    "# https://i-zukan.jp/"
   ]
  },
  {
   "cell_type": "code",
   "execution_count": 92,
   "metadata": {},
   "outputs": [],
   "source": [
    "roma_df = pd.read_csv('data_extract/voice_roma_path.tsv', sep='\\t')"
   ]
  },
  {
   "cell_type": "code",
   "execution_count": 68,
   "metadata": {},
   "outputs": [
    {
     "data": {
      "text/plain": [
       "4989"
      ]
     },
     "execution_count": 68,
     "metadata": {},
     "output_type": "execute_result"
    }
   ],
   "source": [
    "len(roma_df)"
   ]
  },
  {
   "cell_type": "code",
   "execution_count": 69,
   "metadata": {},
   "outputs": [],
   "source": [
    "voice_roma_path_NonNaN = roma_df.dropna(how='any')#381/420\n",
    "voice_roma_path_NonNaN.to_csv('data_extract/voice_roma_path_NonNaN.tsv', sep='\\t',encoding=\"utf-8\")"
   ]
  },
  {
   "cell_type": "code",
   "execution_count": 70,
   "metadata": {},
   "outputs": [
    {
     "data": {
      "text/plain": [
       "3998"
      ]
     },
     "execution_count": 70,
     "metadata": {},
     "output_type": "execute_result"
    }
   ],
   "source": [
    "len(voice_roma_path_NonNaN)"
   ]
  },
  {
   "cell_type": "code",
   "execution_count": 93,
   "metadata": {},
   "outputs": [],
   "source": [
    "voice_roma_path_NaN = roma_df[roma_df.isnull().any(axis=1)]#39/420\n",
    "voice_roma_path_NaN.to_csv('data_extract/voice_roma_path_NaN.tsv', sep='\\t',encoding=\"shift-jis\")"
   ]
  },
  {
   "cell_type": "code",
   "execution_count": 74,
   "metadata": {},
   "outputs": [
    {
     "data": {
      "text/plain": [
       "991"
      ]
     },
     "execution_count": 74,
     "metadata": {},
     "output_type": "execute_result"
    }
   ],
   "source": [
    "len(voice_roma_path_NaN)"
   ]
  },
  {
   "cell_type": "code",
   "execution_count": 9,
   "metadata": {},
   "outputs": [],
   "source": [
    "roma_copy= pd.read_csv('data_extract/voice_roma_path_NaN_copy.tsv', sep='\\t',encoding=\"shift-jis\")"
   ]
  },
  {
   "cell_type": "code",
   "execution_count": 95,
   "metadata": {},
   "outputs": [],
   "source": [
    "voice_roma_path_NaN_cant = roma_copy[roma_copy['id'].isnull()]\n",
    "voice_roma_path_NaN_cant.to_csv('data_extract/voice_roma_path_NaN_cant.tsv', sep='\\t',encoding=\"shift-jis\")"
   ]
  },
  {
   "cell_type": "code",
   "execution_count": 96,
   "metadata": {},
   "outputs": [],
   "source": [
    "voice_roma_path_NaN_animal = roma_copy[roma_copy['romaji_to_kana'] == \"動物\"]\n",
    "voice_roma_path_NaN_animal.to_csv('data_extract/voice_roma_path_NaN_animal.tsv', sep='\\t',encoding=\"shift-jis\")"
   ]
  },
  {
   "cell_type": "code",
   "execution_count": 46,
   "metadata": {},
   "outputs": [],
   "source": [
    "roma_col_name = [\"audio_id\",\"audio_file_path\",\"romaji_name\",\"romaji_to_kana\",\"id\",\"en_name\",\"ja_name\",\"path\",\"ja_path_name\",\"en_path_name\",\"path_taxon_rank_name\"]"
   ]
  },
  {
   "cell_type": "code",
   "execution_count": 59,
   "metadata": {},
   "outputs": [],
   "source": [
    "roma_tori = roma_copy[roma_copy['romaji_to_kana'] != \"動物\"]\n",
    "roma_copy_id_d = roma_tori.dropna(subset=['id']).to_dict(orient='records')#これはfor文で対応表を付けてあげなければだめ"
   ]
  },
  {
   "cell_type": "code",
   "execution_count": 64,
   "metadata": {},
   "outputs": [
    {
     "data": {
      "text/plain": [
       "[{'audio_id': 1103.0,\n",
       "  'audio_file_path': 'data01/akaeri_110702_sarobetsu_namba.0001.wav',\n",
       "  'romaji_name': 'akaeri',\n",
       "  'romaji_to_kana': nan,\n",
       "  'id': 'Q206840',\n",
       "  'en_name': nan,\n",
       "  'ja_name': nan,\n",
       "  'path': nan,\n",
       "  'ja_path_name': nan,\n",
       "  'en_path_name': nan,\n",
       "  'path_taxon_rank_name': nan}]"
      ]
     },
     "execution_count": 64,
     "metadata": {},
     "output_type": "execute_result"
    }
   ],
   "source": [
    "roma_copy_id_d[0:1]"
   ]
  },
  {
   "cell_type": "code",
   "execution_count": 68,
   "metadata": {},
   "outputs": [
    {
     "data": {
      "text/plain": [
       "{'id': 'Q1001586',\n",
       " 'en_name': \"Finsch's Francolin\",\n",
       " 'ja_name': 'チャバネシャコ',\n",
       " 'en_aliases': 'Francolinus finschi,Scleroptila finschi',\n",
       " 'ja_aliases': '',\n",
       " 'img_urls': '',\n",
       " 'taxon_name': 'Scleroptila finschi',\n",
       " 'taxon_rank': 'Q7432',\n",
       " 'taxon_rank_name': 'species',\n",
       " 'taxon_rank_ja_name': '種',\n",
       " 'parent_taxon': 'Q1286431',\n",
       " 'parent_taxon_name': 'Scleroptila',\n",
       " 'parent_taxon_ja_name': '',\n",
       " 'path': 'Q1286431/Q1001586',\n",
       " 'ja_path_name': 'Scleroptila/チャバネシャコ',\n",
       " 'en_path_name': \"Scleroptila/Finsch's Francolin\",\n",
       " 'path_taxon_rank_name': 'genus/species'}"
      ]
     },
     "execution_count": 68,
     "metadata": {},
     "output_type": "execute_result"
    }
   ],
   "source": [
    "ontology_d[\"Q1001586\"]"
   ]
  },
  {
   "cell_type": "code",
   "execution_count": 69,
   "metadata": {},
   "outputs": [],
   "source": [
    "for d in roma_copy_id_d:\n",
    "    k = d[\"id\"]\n",
    "    if k in ontology_d:\n",
    "        d[\"en_name\"] = ontology_d[k][\"en_name\"]\n",
    "        d[\"ja_name\"] = ontology_d[k][\"ja_name\"]\n",
    "        d[\"path\"] = ontology_d[k][\"path\"]\n",
    "        d[\"ja_path_name\"] = ontology_d[k][\"ja_path_name\"]\n",
    "        d[\"en_path_name\"] = ontology_d[k][\"en_path_name\"]\n",
    "        d[\"path_taxon_rank_name\"] = ontology_d[k][\"path_taxon_rank_name\"]\n",
    "# for roma_copy[0:3]"
   ]
  },
  {
   "cell_type": "code",
   "execution_count": 74,
   "metadata": {},
   "outputs": [],
   "source": [
    "roma_copy_handy = pd.DataFrame(roma_copy_id_d)\n",
    "roma_copy_handy.to_csv('data_extract/voice_roma_path_NaN_handy.tsv', sep='\\t',encoding=\"shift-jis\")"
   ]
  },
  {
   "cell_type": "code",
   "execution_count": 75,
   "metadata": {},
   "outputs": [
    {
     "data": {
      "text/html": [
       "<div>\n",
       "<style scoped>\n",
       "    .dataframe tbody tr th:only-of-type {\n",
       "        vertical-align: middle;\n",
       "    }\n",
       "\n",
       "    .dataframe tbody tr th {\n",
       "        vertical-align: top;\n",
       "    }\n",
       "\n",
       "    .dataframe thead th {\n",
       "        text-align: right;\n",
       "    }\n",
       "</style>\n",
       "<table border=\"1\" class=\"dataframe\">\n",
       "  <thead>\n",
       "    <tr style=\"text-align: right;\">\n",
       "      <th></th>\n",
       "      <th>audio_id</th>\n",
       "      <th>audio_file_path</th>\n",
       "      <th>romaji_name</th>\n",
       "      <th>romaji_to_kana</th>\n",
       "      <th>id</th>\n",
       "      <th>en_name</th>\n",
       "      <th>ja_name</th>\n",
       "      <th>path</th>\n",
       "      <th>ja_path_name</th>\n",
       "      <th>en_path_name</th>\n",
       "      <th>path_taxon_rank_name</th>\n",
       "    </tr>\n",
       "  </thead>\n",
       "  <tbody>\n",
       "    <tr>\n",
       "      <th>0</th>\n",
       "      <td>1103.0</td>\n",
       "      <td>data01/akaeri_110702_sarobetsu_namba.0001.wav</td>\n",
       "      <td>akaeri</td>\n",
       "      <td>NaN</td>\n",
       "      <td>Q206840</td>\n",
       "      <td>Red-necked Phalarope</td>\n",
       "      <td>アカエリヒレアシシギ</td>\n",
       "      <td>Q253776/Q206840</td>\n",
       "      <td>ヒレアシシギ属/アカエリヒレアシシギ</td>\n",
       "      <td>Phalaropus/Red-necked Phalarope</td>\n",
       "      <td>genus/species</td>\n",
       "    </tr>\n",
       "    <tr>\n",
       "      <th>1</th>\n",
       "      <td>3238.0</td>\n",
       "      <td>data01/akaeri_110702_sarobetsu_namba.0002.wav</td>\n",
       "      <td>akaeri</td>\n",
       "      <td>NaN</td>\n",
       "      <td>Q206840</td>\n",
       "      <td>Red-necked Phalarope</td>\n",
       "      <td>アカエリヒレアシシギ</td>\n",
       "      <td>Q253776/Q206840</td>\n",
       "      <td>ヒレアシシギ属/アカエリヒレアシシギ</td>\n",
       "      <td>Phalaropus/Red-necked Phalarope</td>\n",
       "      <td>genus/species</td>\n",
       "    </tr>\n",
       "    <tr>\n",
       "      <th>2</th>\n",
       "      <td>3302.0</td>\n",
       "      <td>data01/akaeri_110702_sarobetsu_namba.0000.wav</td>\n",
       "      <td>akaeri</td>\n",
       "      <td>NaN</td>\n",
       "      <td>Q206840</td>\n",
       "      <td>Red-necked Phalarope</td>\n",
       "      <td>アカエリヒレアシシギ</td>\n",
       "      <td>Q253776/Q206840</td>\n",
       "      <td>ヒレアシシギ属/アカエリヒレアシシギ</td>\n",
       "      <td>Phalaropus/Red-necked Phalarope</td>\n",
       "      <td>genus/species</td>\n",
       "    </tr>\n",
       "  </tbody>\n",
       "</table>\n",
       "</div>"
      ],
      "text/plain": [
       "   audio_id                                audio_file_path romaji_name  \\\n",
       "0    1103.0  data01/akaeri_110702_sarobetsu_namba.0001.wav      akaeri   \n",
       "1    3238.0  data01/akaeri_110702_sarobetsu_namba.0002.wav      akaeri   \n",
       "2    3302.0  data01/akaeri_110702_sarobetsu_namba.0000.wav      akaeri   \n",
       "\n",
       "   romaji_to_kana       id               en_name     ja_name             path  \\\n",
       "0             NaN  Q206840  Red-necked Phalarope  アカエリヒレアシシギ  Q253776/Q206840   \n",
       "1             NaN  Q206840  Red-necked Phalarope  アカエリヒレアシシギ  Q253776/Q206840   \n",
       "2             NaN  Q206840  Red-necked Phalarope  アカエリヒレアシシギ  Q253776/Q206840   \n",
       "\n",
       "         ja_path_name                     en_path_name path_taxon_rank_name  \n",
       "0  ヒレアシシギ属/アカエリヒレアシシギ  Phalaropus/Red-necked Phalarope        genus/species  \n",
       "1  ヒレアシシギ属/アカエリヒレアシシギ  Phalaropus/Red-necked Phalarope        genus/species  \n",
       "2  ヒレアシシギ属/アカエリヒレアシシギ  Phalaropus/Red-necked Phalarope        genus/species  "
      ]
     },
     "execution_count": 75,
     "metadata": {},
     "output_type": "execute_result"
    }
   ],
   "source": [
    "roma_copy_id[0:3]"
   ]
  },
  {
   "cell_type": "markdown",
   "metadata": {},
   "source": [
    "## 使えるデータを結合"
   ]
  },
  {
   "cell_type": "code",
   "execution_count": 108,
   "metadata": {},
   "outputs": [],
   "source": [
    "import pandas as pd\n",
    "roma_nonnan= pd.read_csv('data_extract/voice_roma_path_NonNaN.tsv', sep='\\t')\n",
    "roma_handy= pd.read_csv('data_extract/voice_roma_path_NaN_handy.tsv', sep='\\t',encoding=\"shift-jis\")\n",
    "roma = pd.concat([roma_nonnan,roma_handy])\n",
    "roma.to_csv('data_extract/roma_final.tsv', sep='\\t',encoding=\"shift-jis\")"
   ]
  },
  {
   "cell_type": "code",
   "execution_count": 109,
   "metadata": {},
   "outputs": [],
   "source": [
    "kana_nonnan= pd.read_csv('data_extract/voice_kana_path_NonNaN.tsv', sep='\\t')\n",
    "kana_handy= pd.read_csv('data_extract/voice_kana_path_NaN_handy.tsv', sep='\\t')\n",
    "kana = pd.concat([kana_nonnan,kana_handy])\n",
    "kana.to_csv('data_extract/kana_final.tsv', sep='\\t',encoding=\"shift-jis\")"
   ]
  },
  {
   "cell_type": "code",
   "execution_count": null,
   "metadata": {},
   "outputs": [],
   "source": []
  }
 ],
 "metadata": {
  "kernelspec": {
   "display_name": "Python 3",
   "language": "python",
   "name": "python3"
  },
  "language_info": {
   "codemirror_mode": {
    "name": "ipython",
    "version": 3
   },
   "file_extension": ".py",
   "mimetype": "text/x-python",
   "name": "python",
   "nbconvert_exporter": "python",
   "pygments_lexer": "ipython3",
   "version": "3.9.0"
  }
 },
 "nbformat": 4,
 "nbformat_minor": 4
}
