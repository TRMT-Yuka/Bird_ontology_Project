{
 "cells": [
  {
   "cell_type": "code",
   "execution_count": 13,
   "id": "07128ced",
   "metadata": {},
   "outputs": [],
   "source": [
    "import torch\n",
    "from transformers import BertTokenizer, BertForMaskedLM"
   ]
  },
  {
   "cell_type": "code",
   "execution_count": 11,
   "id": "35a77303",
   "metadata": {},
   "outputs": [],
   "source": [
    "# !pip install fugashi\n",
    "# !pip install ipadic"
   ]
  },
  {
   "cell_type": "code",
   "execution_count": 14,
   "id": "108554a0",
   "metadata": {},
   "outputs": [],
   "source": [
    "# Load pre-trained tokenizer\n",
    "# tokenizer = BertJapaneseTokenizer.from_pretrained('cl-tohoku/bert-base-japanese-whole-word-masking')\n",
    "tokenizer = BertTokenizer.from_pretrained('bert-base-uncased')"
   ]
  },
  {
   "cell_type": "code",
   "execution_count": 9,
   "id": "159d032c",
   "metadata": {},
   "outputs": [],
   "source": [
    "import pickle\n",
    "\n",
    "with open('data_extract/ontology.pickle', 'rb') as f:\n",
    "    ontology = pickle.load(f)"
   ]
  },
  {
   "cell_type": "markdown",
   "id": "f5152cbf",
   "metadata": {},
   "source": [
    "## grand parent taxon"
   ]
  },
  {
   "cell_type": "code",
   "execution_count": 15,
   "id": "3b203308",
   "metadata": {},
   "outputs": [],
   "source": [
    "ontology_d = {}\n",
    "for d in ontology:\n",
    "    ontology_d[d[\"id\"]]=d"
   ]
  },
  {
   "cell_type": "code",
   "execution_count": 17,
   "id": "fec77864",
   "metadata": {},
   "outputs": [],
   "source": [
    "for d in ontology:\n",
    "    try:\n",
    "        d[\"grand_parent_taxon\"] = ontology_d[d[\"id\"]][\"parent_taxon\"]\n",
    "    except:\n",
    "        pass"
   ]
  },
  {
   "cell_type": "code",
   "execution_count": 18,
   "id": "5a7d3b00",
   "metadata": {},
   "outputs": [
    {
     "data": {
      "text/plain": [
       "[{'id': 'Q27638142',\n",
       "  'en_name': 'Diglossa albilatera albilatera',\n",
       "  'ja_name': None,\n",
       "  'en_aliases': {},\n",
       "  'ja_aliases': {},\n",
       "  'img_urls': {},\n",
       "  'taxon_rank': 'Q68947',\n",
       "  'taxon_name': 'Diglossa albilatera albilatera',\n",
       "  'parent_taxon': 'Q536912',\n",
       "  'grand_parent_taxon': 'Q536912'},\n",
       " {'id': 'Q40506530',\n",
       "  'en_name': 'Lochmias nematura castanonota',\n",
       "  'ja_name': None,\n",
       "  'en_aliases': {},\n",
       "  'ja_aliases': {},\n",
       "  'img_urls': {},\n",
       "  'taxon_rank': 'Q68947',\n",
       "  'taxon_name': 'Lochmias nematura castanonota',\n",
       "  'parent_taxon': 'Q1039940',\n",
       "  'grand_parent_taxon': 'Q1039940'},\n",
       " {'id': 'Q27608560',\n",
       "  'en_name': 'Gallinago nigripennis nigripennis',\n",
       "  'ja_name': None,\n",
       "  'en_aliases': {},\n",
       "  'ja_aliases': {},\n",
       "  'img_urls': {},\n",
       "  'taxon_rank': 'Q68947',\n",
       "  'taxon_name': 'Gallinago nigripennis nigripennis',\n",
       "  'parent_taxon': 'Q1260623',\n",
       "  'grand_parent_taxon': 'Q1260623'},\n",
       " {'id': 'Q15977273',\n",
       "  'en_name': 'Phragmacia',\n",
       "  'ja_name': None,\n",
       "  'en_aliases': {},\n",
       "  'ja_aliases': {},\n",
       "  'img_urls': {'0': 'https://www.wikidata.org/wiki/Q15977273#/media/File:Phragmacia%20substriata%201838.jpg'},\n",
       "  'taxon_rank': 'Q34740',\n",
       "  'taxon_name': 'Phragmacia',\n",
       "  'parent_taxon': 'Q550595',\n",
       "  'grand_parent_taxon': 'Q550595'},\n",
       " {'id': 'Q40688995',\n",
       "  'en_name': 'Zoothera citrina innotata',\n",
       "  'ja_name': None,\n",
       "  'en_aliases': {},\n",
       "  'ja_aliases': {},\n",
       "  'img_urls': {},\n",
       "  'taxon_rank': 'Q68947',\n",
       "  'taxon_name': 'Zoothera citrina innotata',\n",
       "  'parent_taxon': 'Q599334',\n",
       "  'grand_parent_taxon': 'Q599334'},\n",
       " {'id': 'Q1260197',\n",
       "  'en_name': 'Rallicula rubra',\n",
       "  'ja_name': 'アカパプアクイナ',\n",
       "  'en_aliases': {'0': 'New Guinea chestnut rail',\n",
       "   '1': 'Chestnut forest rail',\n",
       "   '2': 'Chestnut Forest Rail'},\n",
       "  'ja_aliases': {},\n",
       "  'img_urls': {'0': 'https://www.wikidata.org/wiki/Q1260197#/media/File:RalliculaRubraSmit.jpg'},\n",
       "  'taxon_rank': 'Q7432',\n",
       "  'taxon_name': 'Rallicula rubra',\n",
       "  'parent_taxon': 'Q2054278',\n",
       "  'grand_parent_taxon': 'Q2054278'},\n",
       " {'id': 'Q2922483',\n",
       "  'en_name': \"Grauer's Swamp Warbler\",\n",
       "  'ja_name': 'オオアフリカスゲヨシキリ',\n",
       "  'en_aliases': {'0': 'Bradypterus graueri',\n",
       "   '1': 'Grauerís scrub-warbler',\n",
       "   '2': 'Graueris scrub-warbler'},\n",
       "  'ja_aliases': {},\n",
       "  'img_urls': {},\n",
       "  'taxon_rank': 'Q7432',\n",
       "  'taxon_name': 'Bradypterus graueri',\n",
       "  'parent_taxon': 'Q611996',\n",
       "  'grand_parent_taxon': 'Q611996'},\n",
       " {'id': 'Q27626412',\n",
       "  'en_name': 'Apalis thoracica claudei',\n",
       "  'ja_name': None,\n",
       "  'en_aliases': {},\n",
       "  'ja_aliases': {},\n",
       "  'img_urls': {},\n",
       "  'taxon_rank': 'Q68947',\n",
       "  'taxon_name': 'Apalis thoracica claudei',\n",
       "  'parent_taxon': 'Q2858123',\n",
       "  'grand_parent_taxon': 'Q2858123'},\n",
       " {'id': 'Q27614178',\n",
       "  'en_name': 'Lybius torquatus pumilio',\n",
       "  'ja_name': None,\n",
       "  'en_aliases': {},\n",
       "  'ja_aliases': {},\n",
       "  'img_urls': {},\n",
       "  'taxon_rank': 'Q68947',\n",
       "  'taxon_name': 'Lybius torquatus pumilio',\n",
       "  'parent_taxon': 'Q402531',\n",
       "  'grand_parent_taxon': 'Q402531'},\n",
       " {'id': 'Q33148390',\n",
       "  'en_name': 'Limnofregatinae',\n",
       "  'ja_name': None,\n",
       "  'en_aliases': {},\n",
       "  'ja_aliases': {},\n",
       "  'img_urls': {},\n",
       "  'taxon_rank': 'Q164280',\n",
       "  'taxon_name': 'Limnofregatinae',\n",
       "  'parent_taxon': 'Q15631713',\n",
       "  'grand_parent_taxon': 'Q15631713'}]"
      ]
     },
     "execution_count": 18,
     "metadata": {},
     "output_type": "execute_result"
    }
   ],
   "source": [
    "grand_\n",
    "ontology[0:10]"
   ]
  },
  {
   "cell_type": "code",
   "execution_count": null,
   "id": "2c3c99ab",
   "metadata": {},
   "outputs": [],
   "source": [
    "# Tokenize input\n",
    "text = 'テレビでサッカーの試合を見る。'\n",
    "tokenized_text = tokenizer.tokenize(text)\n",
    "# ['テレビ', 'で', 'サッカー', 'の', '試合', 'を', '見る', '。']\n",
    "\n",
    "# Mask a token that we will try to predict back with `BertForMaskedLM`\n",
    "masked_index = 2\n",
    "tokenized_text[masked_index] = '[MASK]'\n",
    "# ['テレビ', 'で', '[MASK]', 'の', '試合', 'を', '見る', '。']\n",
    "\n",
    "# Convert token to vocabulary indices\n",
    "indexed_tokens = tokenizer.convert_tokens_to_ids(tokenized_text)\n",
    "# [571, 12, 4, 5, 608, 11, 2867, 8]\n",
    "\n",
    "# Convert inputs to PyTorch tensors\n",
    "tokens_tensor = torch.tensor([indexed_tokens])\n",
    "# tensor([[ 571,   12,    4,    5,  608,   11, 2867,    8]])\n",
    "\n",
    "# Load pre-trained model\n",
    "model = BertForMaskedLM.from_pretrained('cl-tohoku/bert-base-japanese-whole-word-masking')\n",
    "model.eval()\n",
    "\n",
    "# Predict\n",
    "with torch.no_grad():\n",
    "    outputs = model(tokens_tensor)\n",
    "    predictions = outputs[0][0, masked_index].topk(5) # 予測結果の上位5件を抽出\n",
    "\n",
    "# Show results\n",
    "for i, index_t in enumerate(predictions.indices):\n",
    "    index = index_t.item()\n",
    "    token = tokenizer.convert_ids_to_tokens([index])[0]\n",
    "    print(i, token)"
   ]
  }
 ],
 "metadata": {
  "kernelspec": {
   "display_name": "Python 3",
   "language": "python",
   "name": "python3"
  },
  "language_info": {
   "codemirror_mode": {
    "name": "ipython",
    "version": 3
   },
   "file_extension": ".py",
   "mimetype": "text/x-python",
   "name": "python",
   "nbconvert_exporter": "python",
   "pygments_lexer": "ipython3",
   "version": "3.9.0"
  }
 },
 "nbformat": 4,
 "nbformat_minor": 5
}
