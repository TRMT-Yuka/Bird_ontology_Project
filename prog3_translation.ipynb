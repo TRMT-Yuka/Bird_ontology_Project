{
 "cells": [
  {
   "cell_type": "markdown",
   "metadata": {},
   "source": [
    "## pickleから辞書を取得"
   ]
  },
  {
   "cell_type": "code",
   "execution_count": 1,
   "metadata": {},
   "outputs": [],
   "source": [
    "# # （tsv形式の辞書からpickleを取得）\n",
    "\n",
    "# with open('data_extract/ontology.tsv', mode='r', newline='', encoding='utf-8') as f:\n",
    "#     tsv_reader = csv.reader(f, delimiter='\\t')\n",
    "#     data = [row for row in tsv_reader if row != []]\n",
    "\n",
    "# new_data = []\n",
    "# key = data[0]\n",
    "\n",
    "# for d in data[1:]:\n",
    "#     data_d = {}\n",
    "#     for i in range(len(key)):\n",
    "#         data_d[key[i]] = d[i]\n",
    "#     new_data.append(data_d)\n",
    "\n",
    "# import pickle\n",
    "# with open(\"data_extract/ontology.pickle\", 'wb') as f:\n",
    "#     pickle.dump(new_data,f)\n",
    "\n",
    "import pickle\n",
    "with open(\"data_extract/ontology.pickle\", 'rb') as f:\n",
    "    data = pickle.load(f)"
   ]
  },
  {
   "cell_type": "markdown",
   "metadata": {},
   "source": [
    "## DeepL API準備"
   ]
  },
  {
   "cell_type": "code",
   "execution_count": 57,
   "metadata": {},
   "outputs": [],
   "source": [
    "with open('data_secret/DeepL_api.txt', 'r', encoding='UTF-8') as f:\n",
    "    k = f.read()"
   ]
  },
  {
   "cell_type": "code",
   "execution_count": 58,
   "metadata": {},
   "outputs": [],
   "source": [
    "import requests\n",
    "\n",
    "def ENtoJA(text):\n",
    "    # URLクエリに仕込むパラメータの辞書を作っておく\n",
    "    params = {\"auth_key\": k,\n",
    "                \"text\": text,\n",
    "                \"source_lang\": 'EN', # 入力テキストの言語を英語に設定\n",
    "                \"target_lang\": 'JA'  # 出力テキストの言語を日本語に設定（JPではなくJAなので注意）\n",
    "             }\n",
    "\n",
    "    # パラメータと一緒にPOSTする\n",
    "    request = requests.post(\"https://api-free.deepl.com/v2/translate\", data=params) # free用のURL、有料版はURLが異なります\n",
    "    result = request.json()\n",
    "    return result[\"translations\"][0][\"text\"]"
   ]
  },
  {
   "cell_type": "code",
   "execution_count": 65,
   "metadata": {},
   "outputs": [],
   "source": [
    "for d in data:\n",
    "    if \"trans_name\" in d:\n",
    "        pass\n",
    "    else:\n",
    "        d[\"trans_name\"] = ENtoJA(d[\"en_name\"])\n",
    "        print('\\r%s                                            ' %(d[\"trans_name\"]), end='')"
   ]
  },
  {
   "cell_type": "code",
   "execution_count": 72,
   "metadata": {},
   "outputs": [],
   "source": [
    "import pickle\n",
    "with open(\"DeepL_11057in50640.bin\", 'wb') as f:\n",
    "    pickle.dump(data,f)\n",
    "    \n",
    "# 翻訳結果\n",
    "# ・50640項目中11057の地点でAPIの利用制限到達，翻訳精度微妙\n",
    "# ・英語を直に日本語読みとかのほうがまだいいかも\n",
    "# ・作成したデータは上記のバイナリファイルに保存してtrushに移動済み"
   ]
  },
  {
   "cell_type": "markdown",
   "metadata": {},
   "source": [
    "## ローマ字読み付与"
   ]
  },
  {
   "cell_type": "code",
   "execution_count": 76,
   "metadata": {},
   "outputs": [],
   "source": [
    "# !pip install pykakasi"
   ]
  },
  {
   "cell_type": "code",
   "execution_count": 77,
   "metadata": {},
   "outputs": [
    {
     "name": "stderr",
     "output_type": "stream",
     "text": [
      "<ipython-input-77-199bc52e4aae>:4: DeprecationWarning: Call to deprecated method setMode. (Old API will be removed in v3.0.) -- Deprecated since version 2.1.\n",
      "  kakasi.setMode('H', 'a') # ひらがなをローマ字に変換するように設定\n",
      "<ipython-input-77-199bc52e4aae>:5: DeprecationWarning: Call to deprecated method setMode. (Old API will be removed in v3.0.) -- Deprecated since version 2.1.\n",
      "  kakasi.setMode('K', 'a') # カタカナをローマ字に変換するように設定\n",
      "<ipython-input-77-199bc52e4aae>:6: DeprecationWarning: Call to deprecated method setMode. (Old API will be removed in v3.0.) -- Deprecated since version 2.1.\n",
      "  kakasi.setMode('J', 'a') # 漢字をローマ字に変換するように設定\n",
      "<ipython-input-77-199bc52e4aae>:7: DeprecationWarning: Call to deprecated method getConverter. (Old API will be removed in v3.0.) -- Deprecated since version 2.1.\n",
      "  conversion = kakasi.getConverter() # 上記モード設定の適用\n",
      "<ipython-input-77-199bc52e4aae>:14: DeprecationWarning: Call to deprecated method do. (Old API will be removed in v3.0.) -- Deprecated since version 2.1.\n",
      "  d[\"romaji_name\"] = conversion.do(d[\"ja_name\"])\n"
     ]
    },
    {
     "name": "stdout",
     "output_type": "stream",
     "text": [
      "oodarumainko                                                                           "
     ]
    }
   ],
   "source": [
    "import pykakasi\n",
    "\n",
    "kakasi = pykakasi.kakasi() # インスタンスの作成\n",
    "kakasi.setMode('H', 'a') # ひらがなをローマ字に変換するように設定\n",
    "kakasi.setMode('K', 'a') # カタカナをローマ字に変換するように設定\n",
    "kakasi.setMode('J', 'a') # 漢字をローマ字に変換するように設定\n",
    "conversion = kakasi.getConverter() # 上記モード設定の適用\n",
    "\n",
    "\n",
    "for d in data:\n",
    "    if \"romaji_name\" in d:\n",
    "        pass\n",
    "    else:\n",
    "        d[\"romaji_name\"] = conversion.do(d[\"ja_name\"])\n",
    "        print('\\r%s                                            ' %(d[\"romaji_name\"]), end='')"
   ]
  },
  {
   "cell_type": "markdown",
   "metadata": {},
   "source": [
    "## ネットワーク作成　（&親子tsv作成)"
   ]
  },
  {
   "cell_type": "code",
   "execution_count": 137,
   "metadata": {},
   "outputs": [
    {
     "name": "stdout",
     "output_type": "stream",
     "text": [
      "Requirement already satisfied: networkx in c:\\users\\teramoto\\appdata\\local\\programs\\python\\python39\\lib\\site-packages (2.7.1)\n"
     ]
    },
    {
     "name": "stderr",
     "output_type": "stream",
     "text": [
      "WARNING: You are using pip version 20.2.4; however, version 22.0.4 is available.\n",
      "You should consider upgrading via the 'c:\\users\\teramoto\\appdata\\local\\programs\\python\\python39\\python.exe -m pip install --upgrade pip' command.\n"
     ]
    }
   ],
   "source": [
    "!pip install networkx"
   ]
  },
  {
   "cell_type": "code",
   "execution_count": 2,
   "metadata": {},
   "outputs": [],
   "source": [
    "child_parent_data = []\n",
    "for d in data:\n",
    "    child_parent_data.append({\"id\":d[\"id\"],\"parent_taxon\":d[\"parent_taxon\"]})\n",
    "\n",
    "import csv\n",
    "with open('data_extract/child_parent.tsv','w',encoding='utf-8') as csvfile:\n",
    "    writer = csv.DictWriter(csvfile, fieldnames = [\"id\",\"parent_taxon\"],delimiter = \"\\t\")\n",
    "    writer.writeheader()\n",
    "    writer.writerows(child_parent_data)"
   ]
  },
  {
   "cell_type": "code",
   "execution_count": 4,
   "metadata": {},
   "outputs": [],
   "source": [
    "import networkx as nx\n",
    "G = nx.DiGraph() #無向グラフを作成 "
   ]
  },
  {
   "cell_type": "code",
   "execution_count": 5,
   "metadata": {},
   "outputs": [],
   "source": [
    "for d in child_parent_data:\n",
    "    G.add_edge(d[\"parent_taxon\"],d[\"id\"])"
   ]
  },
  {
   "cell_type": "code",
   "execution_count": 6,
   "metadata": {},
   "outputs": [],
   "source": [
    "from matplotlib import pyplot as plt\n",
    "\n",
    "# # pos = nx.spring_layout(G, seed=0)\n",
    "# plt.figure() #グラフエリアのサイズ\n",
    "# nx.draw_networkx(G) #グラフの描画(おまかせ)\n",
    "# plt.show() #グラフの描画"
   ]
  },
  {
   "cell_type": "code",
   "execution_count": 9,
   "metadata": {},
   "outputs": [
    {
     "name": "stdout",
     "output_type": "stream",
     "text": [
      "Collecting matplotlib"
     ]
    },
    {
     "name": "stderr",
     "output_type": "stream",
     "text": [
      "ERROR: Could not install packages due to an EnvironmentError: [WinError 5] アクセスが拒否されました。: 'C:\\\\Users\\\\Teramoto\\\\AppData\\\\Local\\\\Programs\\\\Python\\\\Python39\\\\Lib\\\\site-packages\\\\~atplotlib\\\\backends\\\\_backend_agg.cp39-win_amd64.pyd'\n",
      "Consider using the `--user` option or check the permissions.\n",
      "\n",
      "WARNING: You are using pip version 20.2.4; however, version 22.0.4 is available.\n",
      "You should consider upgrading via the 'c:\\users\\teramoto\\appdata\\local\\programs\\python\\python39\\python.exe -m pip install --upgrade pip' command.\n"
     ]
    },
    {
     "name": "stdout",
     "output_type": "stream",
     "text": [
      "\n",
      "  Downloading matplotlib-3.5.1-cp39-cp39-win_amd64.whl (7.2 MB)\n",
      "Requirement already satisfied, skipping upgrade: kiwisolver>=1.0.1 in c:\\users\\teramoto\\appdata\\local\\programs\\python\\python39\\lib\\site-packages (from matplotlib) (1.3.1)\n",
      "Requirement already satisfied, skipping upgrade: packaging>=20.0 in c:\\users\\teramoto\\appdata\\local\\programs\\python\\python39\\lib\\site-packages (from matplotlib) (20.7)\n",
      "Requirement already satisfied, skipping upgrade: numpy>=1.17 in c:\\users\\teramoto\\appdata\\local\\programs\\python\\python39\\lib\\site-packages (from matplotlib) (1.19.5)\n",
      "Requirement already satisfied, skipping upgrade: python-dateutil>=2.7 in c:\\users\\teramoto\\appdata\\local\\programs\\python\\python39\\lib\\site-packages (from matplotlib) (2.8.1)\n",
      "Requirement already satisfied, skipping upgrade: pillow>=6.2.0 in c:\\users\\teramoto\\appdata\\local\\programs\\python\\python39\\lib\\site-packages (from matplotlib) (8.2.0)\n",
      "Requirement already satisfied, skipping upgrade: cycler>=0.10 in c:\\users\\teramoto\\appdata\\local\\programs\\python\\python39\\lib\\site-packages (from matplotlib) (0.10.0)\n",
      "Collecting fonttools>=4.22.0\n",
      "  Downloading fonttools-4.31.2-py3-none-any.whl (899 kB)\n",
      "Requirement already satisfied, skipping upgrade: pyparsing>=2.2.1 in c:\\users\\teramoto\\appdata\\local\\programs\\python\\python39\\lib\\site-packages (from matplotlib) (2.4.7)\n",
      "Requirement already satisfied, skipping upgrade: six>=1.5 in c:\\users\\teramoto\\appdata\\local\\programs\\python\\python39\\lib\\site-packages (from python-dateutil>=2.7->matplotlib) (1.15.0)\n",
      "Installing collected packages: fonttools, matplotlib\n",
      "  Attempting uninstall: matplotlib\n",
      "    Found existing installation: matplotlib 3.4.2\n",
      "    Uninstalling matplotlib-3.4.2:\n",
      "      Successfully uninstalled matplotlib-3.4.2\n"
     ]
    }
   ],
   "source": [
    "!pip install --upgrade matplotlib"
   ]
  },
  {
   "cell_type": "code",
   "execution_count": null,
   "metadata": {},
   "outputs": [
    {
     "name": "stdout",
     "output_type": "stream",
     "text": [
      "1\n",
      "2\n"
     ]
    }
   ],
   "source": [
    "from matplotlib import pyplot as plt\n",
    "\n",
    "print(1)\n",
    "plt.figure(figsize=(108000,108000))\n",
    "print(2)\n",
    "pos = nx.spring_layout(G)\n",
    "print(3)\n",
    "nx.draw_networkx(G,pos)\n",
    "\n",
    "print(4)\n",
    "plt.axis(\"off\")\n",
    "print(5)\n",
    "plt.savefig(\"default.png\")\n",
    "print(6)\n",
    "plt.show()"
   ]
  },
  {
   "cell_type": "code",
   "execution_count": null,
   "metadata": {},
   "outputs": [],
   "source": []
  },
  {
   "cell_type": "code",
   "execution_count": null,
   "metadata": {},
   "outputs": [],
   "source": []
  }
 ],
 "metadata": {
  "kernelspec": {
   "display_name": "Python 3",
   "language": "python",
   "name": "python3"
  },
  "language_info": {
   "codemirror_mode": {
    "name": "ipython",
    "version": 3
   },
   "file_extension": ".py",
   "mimetype": "text/x-python",
   "name": "python",
   "nbconvert_exporter": "python",
   "pygments_lexer": "ipython3",
   "version": "3.9.0"
  }
 },
 "nbformat": 4,
 "nbformat_minor": 4
}
