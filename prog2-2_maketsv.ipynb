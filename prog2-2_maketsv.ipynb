{
 "cells": [
  {
   "cell_type": "code",
   "execution_count": 1,
   "metadata": {},
   "outputs": [],
   "source": [
    "import pickle\n",
    "        \n",
    "with open(\"data_extract/data_json_1.pickle\",\"rb\") as f:\n",
    "    data_1 = pickle.load(f)\n",
    "\n",
    "with open(\"data_extract/data_json_2.pickle\",\"rb\") as f:\n",
    "    data_2 = pickle.load(f)\n",
    "\n",
    "with open(\"data_extract/data_json_3.pickle\",\"rb\") as f:\n",
    "    data_3 = pickle.load(f)\n",
    "\n",
    "with open(\"data_extract/data_json_4.pickle\",\"rb\") as f:\n",
    "    data_4 = pickle.load(f)\n",
    "\n",
    "with open(\"data_extract/data_json_5.pickle\",\"rb\") as f:\n",
    "    data_5 = pickle.load(f)\n",
    "\n",
    "with open(\"data_extract/data_json_6.pickle\",\"rb\") as f:\n",
    "    data_6 = pickle.load(f)\n",
    "\n",
    "with open(\"data_extract/data_json_7.pickle\",\"rb\") as f:\n",
    "    data_7 = pickle.load(f)\n",
    "\n",
    "with open(\"data_extract/data_json_8.pickle\",\"rb\") as f:\n",
    "    data_8 = pickle.load(f)\n",
    "\n",
    "with open(\"data_extract/data_json_99.pickle\",\"rb\") as f:\n",
    "    data_99 = pickle.load(f)\n",
    "\n",
    "data = data_1 + data_2 + data_3 + data_4 + data_5 + data_6 + data_7 + data_99#35737"
   ]
  },
  {
   "cell_type": "code",
   "execution_count": 2,
   "metadata": {},
   "outputs": [],
   "source": [
    "data_d = {}\n",
    "for d in data:\n",
    "    data_d[d[\"id\"]]=d"
   ]
  },
  {
   "cell_type": "code",
   "execution_count": 3,
   "metadata": {},
   "outputs": [],
   "source": [
    "ID_list = []\n",
    "for v in data:\n",
    "    ID_list.append(v[\"taxon_rank\"])\n",
    "    ID_list.append(v[\"parent_taxon\"])\n",
    "ID_set = set(ID_list)"
   ]
  },
  {
   "cell_type": "code",
   "execution_count": 4,
   "metadata": {},
   "outputs": [],
   "source": [
    "ID_d = dict()\n",
    "nodata_set = set()\n",
    "for k in ID_set:\n",
    "    if k in data_d:\n",
    "        ID_d[k] = data_d[k][\"en_name\"]\n",
    "    else:\n",
    "        nodata_set.add(k)"
   ]
  },
  {
   "cell_type": "code",
   "execution_count": 5,
   "metadata": {},
   "outputs": [],
   "source": [
    "ID_d_ja = dict()\n",
    "nodata_set_ja = set()\n",
    "for k in ID_set:\n",
    "    if k in data_d:\n",
    "        ID_d_ja[k] = data_d[k][\"ja_name\"]\n",
    "    else:\n",
    "        nodata_set_ja.add(k)"
   ]
  },
  {
   "cell_type": "code",
   "execution_count": 6,
   "metadata": {},
   "outputs": [],
   "source": [
    "# 手動で修正\n",
    "\n",
    "# for k in nodata_set:\n",
    "#     if k == None:\n",
    "#         pass\n",
    "#     print(k)\n",
    "#     print(k)\n",
    "#     print(\"en_name=\")\n",
    "#     ID_d[k]  = input()\n",
    "#     print(\"ja_name\")\n",
    "#     ID_d_ja[k] = input()"
   ]
  },
  {
   "cell_type": "code",
   "execution_count": 7,
   "metadata": {},
   "outputs": [],
   "source": [
    "non_data = []\n",
    "for d in data:\n",
    "    try:\n",
    "        d[\"taxon_rank_name\"] = ID_d[d[\"taxon_rank\"]]\n",
    "        d[\"taxon_rank_ja_name\"] = ID_d_ja[d[\"taxon_rank\"]]\n",
    "\n",
    "        d[\"parent_taxon_name\"] = ID_d[d[\"parent_taxon\"]]\n",
    "        d[\"parent_taxon_ja_name\"] = ID_d_ja[d[\"parent_taxon\"]]\n",
    "\n",
    "\n",
    "        s = \"\"\n",
    "        for k,v in d[\"en_aliases\"].items():\n",
    "            if s == \"\":\n",
    "                s = s + v\n",
    "            else:\n",
    "                s = s + \",\" +v\n",
    "        d[\"en_aliases\"] = s\n",
    "\n",
    "        s = \"\"\n",
    "        for k,v in d[\"ja_aliases\"].items():\n",
    "            if s == \"\":\n",
    "                s = s + v\n",
    "            else:\n",
    "                s = s + \",\" +v\n",
    "        d[\"ja_aliases\"] = s\n",
    "\n",
    "        s = \"\"\n",
    "        for k,v in d[\"img_urls\"].items():\n",
    "            if s == \"\":\n",
    "                s = s + v\n",
    "            else:\n",
    "                s = s + \" \" +v\n",
    "        d[\"img_urls\"] = s\n",
    "    except:\n",
    "        non_data.append(d[\"taxon_rank\"])"
   ]
  },
  {
   "cell_type": "code",
   "execution_count": 8,
   "metadata": {},
   "outputs": [],
   "source": [
    "non_data = set(non_data)"
   ]
  },
  {
   "cell_type": "code",
   "execution_count": 9,
   "metadata": {},
   "outputs": [
    {
     "data": {
      "text/plain": [
       "{None, 'Q227936', 'Q279749', 'Q34740', 'Q37517', 'Q68947', 'Q7432'}"
      ]
     },
     "execution_count": 9,
     "metadata": {},
     "output_type": "execute_result"
    }
   ],
   "source": [
    "non_data"
   ]
  },
  {
   "cell_type": "markdown",
   "metadata": {},
   "source": [
    "## パスの作成，実装を試してみる"
   ]
  },
  {
   "cell_type": "code",
   "execution_count": 10,
   "metadata": {},
   "outputs": [],
   "source": [
    "from anytree import Node, RenderTree"
   ]
  },
  {
   "cell_type": "code",
   "execution_count": 11,
   "metadata": {},
   "outputs": [],
   "source": [
    "node_set = set()\n",
    "\n",
    "for d in data:\n",
    "    _id = d[\"id\"].replace(\"]\",\"\")\n",
    "    if type(d[\"parent_taxon\"]) == str:\n",
    "        _parent = d[\"parent_taxon\"].replace(\"]\",\"\")\n",
    "    \n",
    "    if d[\"parent_taxon\"] in node_set:\n",
    "        exec('%s = Node(d[\"id\"],parent= %s)' % (_id,_parent))\n",
    "        node_set.add(d[\"id\"])\n",
    "    elif d[\"parent_taxon\"] != None:\n",
    "        exec('%s = Node(d[\"parent_taxon\"])' % (_parent))\n",
    "        node_set.add(d[\"parent_taxon\"])\n",
    "        exec('%s = Node(d[\"id\"],parent= %s)' % (_id,_parent))\n",
    "        node_set.add(d[\"id\"])\n",
    "    else:\n",
    "        exec('%s = Node(d[\"id\"],parent= None)' % (_id))"
   ]
  },
  {
   "cell_type": "code",
   "execution_count": 12,
   "metadata": {},
   "outputs": [],
   "source": [
    "for d in data:\n",
    "    _id = d[\"id\"].replace(\"]\",\"\")\n",
    "    exec('d[\"path\"] = str(%s).replace(\"Node(\",\"\").replace(\")\",\"\")' % (_id))"
   ]
  },
  {
   "cell_type": "markdown",
   "metadata": {},
   "source": [
    "## データの書き出し"
   ]
  },
  {
   "cell_type": "code",
   "execution_count": 13,
   "metadata": {},
   "outputs": [],
   "source": [
    "filedname_list = ['id','en_name','ja_name','en_aliases','ja_aliases','img_urls','taxon_name','taxon_rank','taxon_rank_name','taxon_rank_ja_name','parent_taxon','parent_taxon_name','parent_taxon_ja_name',\"path\"]\n",
    "\n",
    "import csv\n",
    "\n",
    "with open('data_extract/ontology.tsv','w',encoding='utf-8') as csvfile:\n",
    "    writer = csv.DictWriter(csvfile, fieldnames = filedname_list,delimiter = \"\\t\")\n",
    "    writer.writeheader()\n",
    "    writer.writerows(data)"
   ]
  },
  {
   "cell_type": "code",
   "execution_count": 14,
   "metadata": {},
   "outputs": [],
   "source": [
    "# data\n",
    "import pickle\n",
    "\n",
    "with open(\"data_extract/ontology.pickle\", 'wb') as f:\n",
    "    pickle.dump(data,f)"
   ]
  },
  {
   "cell_type": "code",
   "execution_count": null,
   "metadata": {},
   "outputs": [],
   "source": []
  }
 ],
 "metadata": {
  "kernelspec": {
   "display_name": "Python 3",
   "language": "python",
   "name": "python3"
  },
  "language_info": {
   "codemirror_mode": {
    "name": "ipython",
    "version": 3
   },
   "file_extension": ".py",
   "mimetype": "text/x-python",
   "name": "python",
   "nbconvert_exporter": "python",
   "pygments_lexer": "ipython3",
   "version": "3.9.0"
  }
 },
 "nbformat": 4,
 "nbformat_minor": 4
}
