{
 "cells": [
  {
   "cell_type": "code",
   "execution_count": 176,
   "metadata": {},
   "outputs": [],
   "source": [
    "import pickle\n",
    "        \n",
    "with open(\"data_extract/data_json_1.pickle\",\"rb\") as f:\n",
    "    data_1 = pickle.load(f)\n",
    "\n",
    "with open(\"data_extract/data_json_2.pickle\",\"rb\") as f:\n",
    "    data_2 = pickle.load(f)\n",
    "\n",
    "with open(\"data_extract/data_json_3.pickle\",\"rb\") as f:\n",
    "    data_3 = pickle.load(f)\n",
    "\n",
    "with open(\"data_extract/data_json_4.pickle\",\"rb\") as f:\n",
    "    data_4 = pickle.load(f)\n",
    "\n",
    "with open(\"data_extract/data_json_5.pickle\",\"rb\") as f:\n",
    "    data_5 = pickle.load(f)\n",
    "\n",
    "with open(\"data_extract/data_json_6.pickle\",\"rb\") as f:\n",
    "    data_6 = pickle.load(f)\n",
    "\n",
    "with open(\"data_extract/data_json_7.pickle\",\"rb\") as f:\n",
    "    data_7 = pickle.load(f)\n",
    "\n",
    "with open(\"data_extract/data_json_8.pickle\",\"rb\") as f:\n",
    "    data_8 = pickle.load(f)\n",
    "\n",
    "data = data_1 + data_2 + data_3 + data_4 + data_5 + data_6 + data_7 + data_8#35737"
   ]
  },
  {
   "cell_type": "code",
   "execution_count": 198,
   "metadata": {},
   "outputs": [],
   "source": [
    "data_d = {}\n",
    "for d in data:\n",
    "    data_d[d[\"id\"]]=d"
   ]
  },
  {
   "cell_type": "code",
   "execution_count": null,
   "metadata": {},
   "outputs": [],
   "source": [
    "#   '',\n",
    "#  'Q164280',subfamily 亜科 科の下位の分類階級\n",
    "#  'Q2007442',infraclass 下綱\n",
    "#  'Q2136103',superfamily 上科\n",
    "#  'Q227936',tribe　属\n",
    "#  'Q279749',form　品種　種より下位の分類階級の一つ\n",
    "#  'Q3238261',subgenus　亜属　属の下位に位置する分類階級\n",
    "#  'Q34740',genus　属　分類階級\n",
    "#  'Q35409',family　科　also known as 上科\n",
    "#  'Q36602',order 目　生物分類における階級\n",
    "#  'Q5867051',subclass 亜綱\n",
    "#  'Q5867959',suborder 亜目\n",
    "#  'Q5868144',superorder　上目\n",
    "#  'Q6311258',parvorder　小目\n",
    "#  'Q68947',subspecies　亜種\n",
    "#  'Q7432'species　種　生物分類の基本単位"
   ]
  },
  {
   "cell_type": "code",
   "execution_count": null,
   "metadata": {},
   "outputs": [],
   "source": [
    "# 網＞目＞科＞属＞種\n",
    "# 巨＞上＞大＞中＞目＞亜＞下＞小"
   ]
  },
  {
   "cell_type": "code",
   "execution_count": 73,
   "metadata": {},
   "outputs": [],
   "source": [
    "# subclass = [d for d in data if d[\"parent_taxon\"]==\"Q5113\"]\n",
    "# data = [d for d in data if d not in subclass]"
   ]
  },
  {
   "cell_type": "code",
   "execution_count": 179,
   "metadata": {},
   "outputs": [],
   "source": [
    "class Node(object):\n",
    "    def __init__(self, name):\n",
    "        self.name = name\n",
    "        self.children = []\n",
    "\n",
    "    def add_child(self, obj):\n",
    "        self.children.append(obj)\n",
    "\n",
    "    def dump(self, indent=0):\n",
    "        \"\"\"dump tree to string\"\"\"\n",
    "        tab = '    '*(indent-1) + ' |- ' if indent > 0 else ''\n",
    "        print('%s%s' % (tab, self.name))\n",
    "        for obj in self.children:\n",
    "            obj.dump(indent + 1)"
   ]
  },
  {
   "cell_type": "code",
   "execution_count": 187,
   "metadata": {},
   "outputs": [],
   "source": [
    "# test_d = {'1': {'id': '1',\n",
    "#   'en_name': \"Finsch's Francolin\",\n",
    "#   'jp_name': None,\n",
    "#   'en_aliases': {0: 'Francolinus finschi', 1: 'Scleroptila finschi'},\n",
    "#   'jp_aliases': {},\n",
    "#   'img_urls': {},\n",
    "#   'taxon_rank': 'Q7432',\n",
    "#   'taxon_name': 'Scleroptila finschi',\n",
    "#   'parent_taxon': ''},\n",
    "#  '2': {'id': '2',\n",
    "#   'en_name': 'Amazilia versicolor',\n",
    "#   'jp_name': None,\n",
    "#   'en_aliases': {0: 'Versicoloured Emerald'},\n",
    "#   'jp_aliases': {},\n",
    "#   'img_urls': {},\n",
    "#   'taxon_rank': 'Q7432',\n",
    "#   'taxon_name': 'Amazilia versicolor',\n",
    "#   'parent_taxon': '1'},\n",
    "#  '3': {'id': 'Q1004833',\n",
    "#   'en_name': 'Spangled Coquette',\n",
    "#   'jp_name': None,\n",
    "#   'en_aliases': {0: 'Lophornis stictolophus'},\n",
    "#   'jp_aliases': {},\n",
    "#   'img_urls': {},\n",
    "#   'taxon_rank': 'Q7432',\n",
    "#   'taxon_name': 'Lophornis stictolophus',\n",
    "#   'parent_taxon': '2'},\n",
    "#  '4': {'id': 'Q1007774',\n",
    "#   'en_name': 'Galloperdix',\n",
    "#   'jp_name': None,\n",
    "#   'en_aliases': {},\n",
    "#   'jp_aliases': {},\n",
    "#   'img_urls': {},\n",
    "#   'taxon_rank': 'Q34740',\n",
    "#   'taxon_name': 'Galloperdix',\n",
    "#   'parent_taxon': '2'}}"
   ]
  },
  {
   "cell_type": "code",
   "execution_count": 190,
   "metadata": {},
   "outputs": [
    {
     "data": {
      "text/plain": [
       "{'1', '2', '3', '4'}"
      ]
     },
     "execution_count": 190,
     "metadata": {},
     "output_type": "execute_result"
    }
   ],
   "source": [
    "set(test_d.keys())"
   ]
  },
  {
   "cell_type": "code",
   "execution_count": 205,
   "metadata": {},
   "outputs": [],
   "source": [
    "keys_list = list(data_d.keys())"
   ]
  },
  {
   "cell_type": "code",
   "execution_count": 215,
   "metadata": {},
   "outputs": [],
   "source": [
    "def get_tree(root_key,used_keys):\n",
    "    root = Node(root_key)\n",
    "    for i in range(len(keys_list)):\n",
    "        key = keys_list[i]\n",
    "        print('\\r%d / %d' %(i, len(keys_list)), end='')\n",
    "        if data_d[key]['parent_taxon']==root_key:\n",
    "            used_keys.add(key)\n",
    "            root.add_child(get_tree(key,used_keys))\n",
    "    return [root,used_keys]"
   ]
  },
  {
   "cell_type": "code",
   "execution_count": null,
   "metadata": {},
   "outputs": [
    {
     "name": "stdout",
     "output_type": "stream",
     "text": [
      "36151 / 50639"
     ]
    }
   ],
   "source": [
    "root = get_tree(\"Q5113\",set())\n",
    "root.dump()"
   ]
  },
  {
   "cell_type": "code",
   "execution_count": 200,
   "metadata": {},
   "outputs": [
    {
     "data": {
      "text/plain": [
       "{'id': 'Q20098858',\n",
       " 'en_name': 'Gastornis parisiensis',\n",
       " 'jp_name': None,\n",
       " 'en_aliases': {},\n",
       " 'jp_aliases': {},\n",
       " 'img_urls': {},\n",
       " 'taxon_rank': 'Q7432',\n",
       " 'taxon_name': 'Gastornis parisiensis',\n",
       " 'parent_taxon': 'Q131477'}"
      ]
     },
     "execution_count": 200,
     "metadata": {},
     "output_type": "execute_result"
    }
   ],
   "source": [
    "data_d[\"Q20098858\"]"
   ]
  },
  {
   "cell_type": "code",
   "execution_count": 199,
   "metadata": {},
   "outputs": [
    {
     "data": {
      "text/plain": [
       "True"
      ]
     },
     "execution_count": 199,
     "metadata": {},
     "output_type": "execute_result"
    }
   ],
   "source": [
    "\"Q20098858\" in data_d.keys()"
   ]
  },
  {
   "cell_type": "code",
   "execution_count": null,
   "metadata": {},
   "outputs": [],
   "source": []
  }
 ],
 "metadata": {
  "kernelspec": {
   "display_name": "Python 3",
   "language": "python",
   "name": "python3"
  },
  "language_info": {
   "codemirror_mode": {
    "name": "ipython",
    "version": 3
   },
   "file_extension": ".py",
   "mimetype": "text/x-python",
   "name": "python",
   "nbconvert_exporter": "python",
   "pygments_lexer": "ipython3",
   "version": "3.9.0"
  }
 },
 "nbformat": 4,
 "nbformat_minor": 4
}
