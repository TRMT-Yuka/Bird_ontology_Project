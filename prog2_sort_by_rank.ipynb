{
 "cells": [
  {
   "cell_type": "code",
   "execution_count": 1,
   "metadata": {},
   "outputs": [],
   "source": [
    "import pickle\n",
    "        \n",
    "with open(\"data_extract/data_json_1.pickle\",\"rb\") as f:\n",
    "    data_1 = pickle.load(f)\n",
    "\n",
    "with open(\"data_extract/data_json_2.pickle\",\"rb\") as f:\n",
    "    data_2 = pickle.load(f)\n",
    "\n",
    "with open(\"data_extract/data_json_3.pickle\",\"rb\") as f:\n",
    "    data_3 = pickle.load(f)\n",
    "\n",
    "with open(\"data_extract/data_json_4.pickle\",\"rb\") as f:\n",
    "    data_4 = pickle.load(f)\n",
    "\n",
    "with open(\"data_extract/data_json_5.pickle\",\"rb\") as f:\n",
    "    data_5 = pickle.load(f)\n",
    "\n",
    "with open(\"data_extract/data_json_6.pickle\",\"rb\") as f:\n",
    "    data_6 = pickle.load(f)\n",
    "\n",
    "with open(\"data_extract/data_json_7.pickle\",\"rb\") as f:\n",
    "    data_7 = pickle.load(f)\n",
    "\n",
    "with open(\"data_extract/data_json_8.pickle\",\"rb\") as f:\n",
    "    data_8 = pickle.load(f)\n",
    "\n",
    "data = data_1 + data_2 + data_3 + data_4 + data_5 + data_6 + data_7 + data_8#35737"
   ]
  },
  {
   "cell_type": "code",
   "execution_count": 2,
   "metadata": {},
   "outputs": [],
   "source": [
    "data_d = {}\n",
    "for d in data:\n",
    "    data_d[d[\"id\"]]=d"
   ]
  },
  {
   "cell_type": "code",
   "execution_count": null,
   "metadata": {},
   "outputs": [],
   "source": [
    "#   '',\n",
    "#  'Q164280',subfamily 亜科 科の下位の分類階級\n",
    "#  'Q2007442',infraclass 下綱\n",
    "#  'Q2136103',superfamily 上科\n",
    "#  'Q227936',tribe　属\n",
    "#  'Q279749',form　品種　種より下位の分類階級の一つ\n",
    "#  'Q3238261',subgenus　亜属　属の下位に位置する分類階級\n",
    "#  'Q34740',genus　属　分類階級\n",
    "#  'Q35409',family　科　also known as 上科\n",
    "#  'Q36602',order 目　生物分類における階級\n",
    "#  'Q5867051',subclass 亜綱\n",
    "#  'Q5867959',suborder 亜目\n",
    "#  'Q5868144',superorder　上目\n",
    "#  'Q6311258',parvorder　小目\n",
    "#  'Q68947',subspecies　亜種\n",
    "#  'Q7432'species　種　生物分類の基本単位"
   ]
  },
  {
   "cell_type": "code",
   "execution_count": null,
   "metadata": {},
   "outputs": [],
   "source": [
    "# 網＞目＞科＞属＞種\n",
    "# 巨＞上＞大＞中＞目＞亜＞下＞小"
   ]
  },
  {
   "cell_type": "code",
   "execution_count": 157,
   "metadata": {},
   "outputs": [],
   "source": [
    "data_list = set([d for d in data_d])"
   ]
  },
  {
   "cell_type": "code",
   "execution_count": 158,
   "metadata": {},
   "outputs": [
    {
     "data": {
      "text/plain": [
       "56"
      ]
     },
     "execution_count": 158,
     "metadata": {},
     "output_type": "execute_result"
    }
   ],
   "source": [
    "len(data_list)"
   ]
  },
  {
   "cell_type": "code",
   "execution_count": 159,
   "metadata": {},
   "outputs": [],
   "source": [
    "parent_list = []\n",
    "for k, v in data_d.items():\n",
    "    parent_list.append(v[\"parent_taxon\"])\n",
    "parent_list = set(parent_list)"
   ]
  },
  {
   "cell_type": "code",
   "execution_count": 160,
   "metadata": {},
   "outputs": [
    {
     "name": "stdout",
     "output_type": "stream",
     "text": [
      "{'Q19168', 'Q2330918', 'Q136586', 'Q5113', 'Q432058', 'Q20645445', 'Q22007593', None, 'Q131411'}\n"
     ]
    }
   ],
   "source": [
    "print(parent_list)"
   ]
  },
  {
   "cell_type": "code",
   "execution_count": 161,
   "metadata": {},
   "outputs": [
    {
     "data": {
      "text/plain": [
       "9"
      ]
     },
     "execution_count": 161,
     "metadata": {},
     "output_type": "execute_result"
    }
   ],
   "source": [
    "len(parent_list)"
   ]
  },
  {
   "cell_type": "code",
   "execution_count": 162,
   "metadata": {},
   "outputs": [],
   "source": [
    "last_children = data_list - parent_list"
   ]
  },
  {
   "cell_type": "code",
   "execution_count": 163,
   "metadata": {},
   "outputs": [
    {
     "data": {
      "text/plain": [
       "52"
      ]
     },
     "execution_count": 163,
     "metadata": {},
     "output_type": "execute_result"
    }
   ],
   "source": [
    "len(last_children)"
   ]
  },
  {
   "cell_type": "code",
   "execution_count": 164,
   "metadata": {},
   "outputs": [],
   "source": [
    "# error_list= []"
   ]
  },
  {
   "cell_type": "code",
   "execution_count": 165,
   "metadata": {},
   "outputs": [],
   "source": [
    "delite_list = []\n",
    "for k, v in data_d.items():\n",
    "    if k in last_children:\n",
    "        p = v[\"parent_taxon\"]\n",
    "        if p in data_list:\n",
    "            if \"child_taxon\" not in data_d[p]:\n",
    "                data_d[p][\"child_taxon\"] = dict()\n",
    "            data_d[p][\"child_taxon\"][k] = v\n",
    "            delite_list.append(k)\n",
    "        else:\n",
    "            error_list.append(p)"
   ]
  },
  {
   "cell_type": "code",
   "execution_count": 166,
   "metadata": {},
   "outputs": [
    {
     "data": {
      "text/plain": [
       "1"
      ]
     },
     "execution_count": 166,
     "metadata": {},
     "output_type": "execute_result"
    }
   ],
   "source": [
    "len(delite_list)"
   ]
  },
  {
   "cell_type": "code",
   "execution_count": 167,
   "metadata": {},
   "outputs": [],
   "source": [
    "for k in delite_list:\n",
    "    data_d.pop(k)"
   ]
  },
  {
   "cell_type": "code",
   "execution_count": 168,
   "metadata": {},
   "outputs": [
    {
     "data": {
      "text/plain": [
       "55"
      ]
     },
     "execution_count": 168,
     "metadata": {},
     "output_type": "execute_result"
    }
   ],
   "source": [
    "len(data_d)"
   ]
  },
  {
   "cell_type": "code",
   "execution_count": 156,
   "metadata": {},
   "outputs": [
    {
     "data": {
      "text/plain": [
       "528"
      ]
     },
     "execution_count": 156,
     "metadata": {},
     "output_type": "execute_result"
    }
   ],
   "source": [
    "len(error_list)"
   ]
  },
  {
   "cell_type": "code",
   "execution_count": 170,
   "metadata": {},
   "outputs": [],
   "source": [
    "data_d"
   ]
  },
  {
   "cell_type": "code",
   "execution_count": 177,
   "metadata": {},
   "outputs": [],
   "source": [
    "import json\n",
    "\n",
    "with open('data_extract/ontrogy.json', 'w') as f:\n",
    "    json.dump(data_d, f, indent=4)"
   ]
  },
  {
   "cell_type": "markdown",
   "metadata": {},
   "source": [
    "# 再帰プログラム（失敗）"
   ]
  },
  {
   "cell_type": "code",
   "execution_count": 292,
   "metadata": {},
   "outputs": [],
   "source": [
    "# class Node(object):\n",
    "#     def __init__(self, name):\n",
    "#         self.name = name\n",
    "#         self.children = []\n",
    "\n",
    "#     def add_child(self, obj):\n",
    "#         self.children.append(obj)\n",
    "    \n",
    "#     def show_chile(self):\n",
    "#         return self.children\n",
    "    \n",
    "#     def dump(self, indent=0):\n",
    "#         \"\"\"dump tree to string\"\"\"\n",
    "#         tab = '    '*(indent-1) + ' |- ' if indent > 0 else ''\n",
    "#         print('%s%s' % (tab, self.name))\n",
    "#         for obj in self.children:\n",
    "#             obj.dump(indent + 1)\n",
    "            \n",
    "#     def offspring_output(self):\n",
    "#         f=open('offspring_output.txt', 'a')\n",
    "#         f.write(self.name+'\\n')\n",
    "#         for obj in self.children:\n",
    "#             obj.offspring_output()"
   ]
  },
  {
   "cell_type": "code",
   "execution_count": 298,
   "metadata": {},
   "outputs": [],
   "source": [
    "# def get_tree(root_key):\n",
    "#     root = Node(root_key)\n",
    "#     i = 0\n",
    "#     for key in key_set:\n",
    "#         print('\\r%d / %d' %(i, len(key_set)), end='')\n",
    "#         i = i + 1\n",
    "#         if all_d[key]['parent_taxon']==root_key:\n",
    "#             root.add_child(get_tree(key))\n",
    "#     return root"
   ]
  },
  {
   "cell_type": "markdown",
   "metadata": {},
   "source": [
    "## 練習用"
   ]
  },
  {
   "cell_type": "code",
   "execution_count": 299,
   "metadata": {},
   "outputs": [],
   "source": [
    "# test_d = {'1': {'id': '1','parent_taxon': ''},\n",
    "#           '2': {'id': '2','parent_taxon': '1'},\n",
    "#           '3': {'id': '3','parent_taxon': '2'},\n",
    "#           '4': {'id': '4','parent_taxon': '2'}}"
   ]
  },
  {
   "cell_type": "code",
   "execution_count": 301,
   "metadata": {},
   "outputs": [],
   "source": [
    "# key_set = set(test_d.keys())\n",
    "# all_d = test_d\n",
    "# root = get_tree(\"1\")\n",
    "# # dump,offspring_outputメソッド動作確認済み"
   ]
  },
  {
   "cell_type": "markdown",
   "metadata": {},
   "source": [
    "## 本番用"
   ]
  },
  {
   "cell_type": "code",
   "execution_count": 175,
   "metadata": {},
   "outputs": [],
   "source": [
    "# key_set = set(data_d.keys())\n",
    "# all_d = data_d\n",
    "# root = get_tree(\"Q5113\")"
   ]
  },
  {
   "cell_type": "code",
   "execution_count": 303,
   "metadata": {},
   "outputs": [],
   "source": [
    "# root.offspring_output()"
   ]
  },
  {
   "cell_type": "code",
   "execution_count": null,
   "metadata": {},
   "outputs": [],
   "source": []
  }
 ],
 "metadata": {
  "kernelspec": {
   "display_name": "Python 3",
   "language": "python",
   "name": "python3"
  },
  "language_info": {
   "codemirror_mode": {
    "name": "ipython",
    "version": 3
   },
   "file_extension": ".py",
   "mimetype": "text/x-python",
   "name": "python",
   "nbconvert_exporter": "python",
   "pygments_lexer": "ipython3",
   "version": "3.9.0"
  }
 },
 "nbformat": 4,
 "nbformat_minor": 4
}
